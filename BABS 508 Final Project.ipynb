{
 "cells": [
  {
   "cell_type": "markdown",
   "metadata": {},
   "source": [
    "<div class=\"alert alert-block alert-info\">   \n",
    "\n",
    "# BABS 508 Project  \n",
    "#### Instructor: Martha Essak  \n",
    "\n",
    "</div>"
   ]
  },
  {
   "cell_type": "markdown",
   "metadata": {},
   "source": [
    "### Names of students:\n",
    "\n",
    "\n",
    "Tanishqa Aggarwal (24215832)  \n",
    "Sonal Bimbra (20160867) \n"
   ]
  },
  {
   "cell_type": "markdown",
   "metadata": {},
   "source": [
    "---\n",
    "\n",
    "## Table of Contents\n",
    "[Project description](#Description)  \n",
    "[Introduction](#Introduction)  \n",
    "[Data preparation for Logistic Regression](#Data_prep1)  \n",
    "[Predictions and Exploratory Data Analysis for Logistic Regression](#EDA1)  \n",
    "[Logistic regression model](#Logistic)  \n",
    "[Data preparation for Poisson Regression](#Data_prep2)  \n",
    "[Predictions and Exploratory Data Analysis for Poisson Regression](#EDA2)  \n",
    "[Poisson regression model](#Poisson)  \n",
    "[Discussion](#Discussion)\n",
    "\n",
    "\n",
    "[Appendix A: Building the Logistic Rgression Model](#AppendixA)  \n",
    "[Appendix B: Building the Poisson Rgression Model](#AppendixB)\n",
    "\n",
    "---"
   ]
  },
  {
   "cell_type": "markdown",
   "metadata": {},
   "source": [
    "<div class=\"alert alert-block alert-info\">   \n",
    "<a id=\"Description\"></a>\n",
    "\n",
    "# Project description\n",
    "\n",
    "  \n",
    "<br>\n",
    "The dataset we used is from the Behavioural Risk Factor Surveillance System (BRFSS) Survey from 2013. The data was collected from adults (18 years +) living in the United States. The data was collected via telephone survey, using disproportionate stratified sampling (to yield better estimates than simple random sampling) for the landline sample, and using randomly selected respondents for the cellular phone sample. (https://www.cdc.gov/brfss/)  \n",
    "<br>\n",
    "The purpose of the survey is to collect data about health-related risk behaviours (food, sleep, alcohol, smoking), medical/health conditions, and the use of medical services. \n",
    "<br>\n",
    "All data collected is observational, so we will not be able to determine causal relationships. However, a better understanding of the associations can help identify potential risk factors or variables to target for intervention.   \n",
    "    </div>"
   ]
  },
  {
   "cell_type": "markdown",
   "metadata": {},
   "source": [
    "### Response variables   \n",
    "\n",
    "The dataset includes two variables of interest about alcohol consumption:\n",
    "- `alcday5` (count), which includes responses to the question: During the past 30 days, how many days per week or per month did you have at least one drink of any alcoholic beverage such as beer, wine, a malt beverage or liquor?\n",
    "- `drnk3ge5` (count), which includes responses to the question: Considering all types of alcoholic beverages, how many times during the past 30 days did you have 5 or more drinks for men or 4 or more drinks for women on an occasion? "
   ]
  },
  {
   "cell_type": "markdown",
   "metadata": {},
   "source": [
    "### Potential explanatory variables  \n",
    "  \n",
    "Note that criteria for cleaning the dataset are provided in **bold** after the description for each variable.  \n",
    "   \n",
    "1. `physhlth` (quantitative); Now thinking about your physical health, which includes physical illness and injury, for how many days during the past 30 days was your physical health not good? **Exclude values >30 and NAs**  \n",
    "2. `menthlth` (quantitative); Now thinking about your mental health, which includes stress, depression, and problems with emotions, for how many days during the past 30 days was your mental health not good? **Exclude values >30 and NAs** \n",
    "3. `poorhlth` (quantitative); During the past 30 days, for about how many days did poor physical or mental health keep you from doing your usual activities, such as self-care, work, or recreation? **Exclude values >30 and NAs** \n",
    "3. `sleptim1` (quantitative); On average, how many hours of sleep do you get in a 24-hour period? **Exclude values >24 and NAs**\n",
    "4. `marital` (categorical); Are you: married, divorced, widowed, separated, never married, a member of an unmarried couple? **Exclude NAs**\n",
    "5. `educa` (categorical); What is the highest grade or year of school you completed? **Exclude NAs**\n",
    "    - Never attended school or only kindergarten\n",
    "    - Grades 1 through 8 (Elementary)\n",
    "    - Grades 9 through 11 (Some high school)\n",
    "    - Grade 12 or GED (High school graduate)\n",
    "    - College 1 year to 3 years (Some college or technical school)\n",
    "    - College 4 years or more (College graduate)\n",
    "6. `income2` (categorical); Is your annual household income from all sources (choose from below) **Exclude NAs**\n",
    "    - Less than \\\\$10,000\n",
    "    - Less than \\\\$15,000 (between \\\\$10,000 and \\\\$15,000)\n",
    "    - Less than \\\\$20,000 (between \\\\$15,000 and \\\\$20,000)\n",
    "    - Less than \\\\$25,000 (between \\\\$20,000 and \\\\$25,000)\n",
    "    - Less than \\\\$35,000 (between \\\\$25,000 and \\\\$35,000)\n",
    "    - Less than \\\\$50,000 (between \\\\$35,000 and \\\\$50,000)\n",
    "    - Less than \\\\$75,000 (between \\\\$50,000 and \\\\$75,000)\n",
    "    - $75,000 or more  \n",
    "7. `sex` (categorical); Indicate sex of respondent. Note that this is defined as binary categorical and the original survey used the term \"sex\" rather than \"gender\". **Exclude NAs**"
   ]
  },
  {
   "cell_type": "markdown",
   "metadata": {},
   "source": [
    "## Objective:\n",
    "The objective of this project is to explore the factors that could relate to alcohol consumption in the United States using logistic and Poisson regression models. To understand the relationships between the factors and the response variable, we will be leveraging the Behavioural Risk Factor Surveillance System (BRFSS) Survey from 2013.\n",
    "\n",
    "## Background Information:\n",
    "This survey collected data about health-related risk behaviours from adultsliving in United States. The data was collected via telephone survey, using disproportionate stratified sampling (to yield better estimates than simple random sampling) for the landline sample, and using randomly selected respondents for the cellular phone sample. (https://www.cdc.gov/brfss/). The dataset includes variables related to physical and mental health, sleep, marital status, education level, income, and sex.\n",
    "\n",
    "Alcohol consumption is a significant public health concern, and understanding the factors that contribute to it can help identify potential risk factors and interventions. The Centers for Disease Control and Prevention (CDC) reports that excessive alcohol consumption is a leading cause of preventable deaths and costs the United States billions of dollars each year.\n",
    "\n",
    "## Insights that could be gained from having an explanatory models:\n",
    "The logistic regression model will help us identify the factors that are associated with  drinking, defined as consuming 5 or more drinks for men or 4 or more drinks for women on a single occasion. \n",
    "\n",
    "The Poisson regression model will explore the factors associated with the frequency of alcohol consumption in the past 30 days.\n",
    "\n",
    "Insights gained from the explanatory models can help public health officials and policymakers develop targeted interventions to reduce excessive alcohol consumption and its associated harms. By understanding the factors that are associated with alcohol consumption, interventions can be tailored to specific groups and areas of the population where alcohol consumption is most prevalent.\n"
   ]
  },
  {
   "cell_type": "markdown",
   "metadata": {},
   "source": [
    "---\n",
    "### Import the data"
   ]
  },
  {
   "cell_type": "code",
   "execution_count": 2,
   "metadata": {
    "scrolled": true
   },
   "outputs": [],
   "source": [
    "# Import the data:\n",
    "load(file= \"brfss2013.RData\")"
   ]
  },
  {
   "cell_type": "code",
   "execution_count": 3,
   "metadata": {
    "scrolled": true
   },
   "outputs": [
    {
     "data": {
      "text/html": [
       "<table class=\"dataframe\">\n",
       "<caption>A data.frame: 6 × 10</caption>\n",
       "<thead>\n",
       "\t<tr><th></th><th scope=col>physhlth</th><th scope=col>menthlth</th><th scope=col>poorhlth</th><th scope=col>sleptim1</th><th scope=col>marital</th><th scope=col>educa</th><th scope=col>income2</th><th scope=col>sex</th><th scope=col>alcday5</th><th scope=col>drnk3ge5</th></tr>\n",
       "\t<tr><th></th><th scope=col>&lt;int&gt;</th><th scope=col>&lt;int&gt;</th><th scope=col>&lt;int&gt;</th><th scope=col>&lt;int&gt;</th><th scope=col>&lt;fct&gt;</th><th scope=col>&lt;fct&gt;</th><th scope=col>&lt;fct&gt;</th><th scope=col>&lt;fct&gt;</th><th scope=col>&lt;int&gt;</th><th scope=col>&lt;int&gt;</th></tr>\n",
       "</thead>\n",
       "<tbody>\n",
       "\t<tr><th scope=row>1</th><td>30</td><td>29</td><td>30</td><td>NA</td><td>Divorced</td><td>College 4 years or more (College graduate)                  </td><td>Less than $75,000</td><td>Female</td><td>201</td><td> 0</td></tr>\n",
       "\t<tr><th scope=row>2</th><td> 0</td><td> 0</td><td>NA</td><td> 6</td><td>Married </td><td>College 1 year to 3 years (Some college or technical school)</td><td>$75,000 or more  </td><td>Female</td><td>  0</td><td>NA</td></tr>\n",
       "\t<tr><th scope=row>3</th><td> 3</td><td> 2</td><td> 0</td><td> 9</td><td>Married </td><td>College 4 years or more (College graduate)                  </td><td>$75,000 or more  </td><td>Female</td><td>220</td><td>20</td></tr>\n",
       "\t<tr><th scope=row>4</th><td> 2</td><td> 0</td><td> 0</td><td> 8</td><td>Married </td><td>Grade 12 or GED (High school graduate)                      </td><td>Less than $75,000</td><td>Female</td><td>208</td><td> 0</td></tr>\n",
       "\t<tr><th scope=row>5</th><td>10</td><td> 2</td><td> 0</td><td> 6</td><td>Married </td><td>College 4 years or more (College graduate)                  </td><td>Less than $50,000</td><td>Male  </td><td>210</td><td> 0</td></tr>\n",
       "\t<tr><th scope=row>6</th><td> 0</td><td> 0</td><td>NA</td><td> 8</td><td>Divorced</td><td>College 4 years or more (College graduate)                  </td><td>$75,000 or more  </td><td>Female</td><td>  0</td><td>NA</td></tr>\n",
       "</tbody>\n",
       "</table>\n"
      ],
      "text/latex": [
       "A data.frame: 6 × 10\n",
       "\\begin{tabular}{r|llllllllll}\n",
       "  & physhlth & menthlth & poorhlth & sleptim1 & marital & educa & income2 & sex & alcday5 & drnk3ge5\\\\\n",
       "  & <int> & <int> & <int> & <int> & <fct> & <fct> & <fct> & <fct> & <int> & <int>\\\\\n",
       "\\hline\n",
       "\t1 & 30 & 29 & 30 & NA & Divorced & College 4 years or more (College graduate)                   & Less than \\$75,000 & Female & 201 &  0\\\\\n",
       "\t2 &  0 &  0 & NA &  6 & Married  & College 1 year to 3 years (Some college or technical school) & \\$75,000 or more   & Female &   0 & NA\\\\\n",
       "\t3 &  3 &  2 &  0 &  9 & Married  & College 4 years or more (College graduate)                   & \\$75,000 or more   & Female & 220 & 20\\\\\n",
       "\t4 &  2 &  0 &  0 &  8 & Married  & Grade 12 or GED (High school graduate)                       & Less than \\$75,000 & Female & 208 &  0\\\\\n",
       "\t5 & 10 &  2 &  0 &  6 & Married  & College 4 years or more (College graduate)                   & Less than \\$50,000 & Male   & 210 &  0\\\\\n",
       "\t6 &  0 &  0 & NA &  8 & Divorced & College 4 years or more (College graduate)                   & \\$75,000 or more   & Female &   0 & NA\\\\\n",
       "\\end{tabular}\n"
      ],
      "text/markdown": [
       "\n",
       "A data.frame: 6 × 10\n",
       "\n",
       "| <!--/--> | physhlth &lt;int&gt; | menthlth &lt;int&gt; | poorhlth &lt;int&gt; | sleptim1 &lt;int&gt; | marital &lt;fct&gt; | educa &lt;fct&gt; | income2 &lt;fct&gt; | sex &lt;fct&gt; | alcday5 &lt;int&gt; | drnk3ge5 &lt;int&gt; |\n",
       "|---|---|---|---|---|---|---|---|---|---|---|\n",
       "| 1 | 30 | 29 | 30 | NA | Divorced | College 4 years or more (College graduate)                   | Less than $75,000 | Female | 201 |  0 |\n",
       "| 2 |  0 |  0 | NA |  6 | Married  | College 1 year to 3 years (Some college or technical school) | $75,000 or more   | Female |   0 | NA |\n",
       "| 3 |  3 |  2 |  0 |  9 | Married  | College 4 years or more (College graduate)                   | $75,000 or more   | Female | 220 | 20 |\n",
       "| 4 |  2 |  0 |  0 |  8 | Married  | Grade 12 or GED (High school graduate)                       | Less than $75,000 | Female | 208 |  0 |\n",
       "| 5 | 10 |  2 |  0 |  6 | Married  | College 4 years or more (College graduate)                   | Less than $50,000 | Male   | 210 |  0 |\n",
       "| 6 |  0 |  0 | NA |  8 | Divorced | College 4 years or more (College graduate)                   | $75,000 or more   | Female |   0 | NA |\n",
       "\n"
      ],
      "text/plain": [
       "  physhlth menthlth poorhlth sleptim1 marital \n",
       "1 30       29       30       NA       Divorced\n",
       "2  0        0       NA        6       Married \n",
       "3  3        2        0        9       Married \n",
       "4  2        0        0        8       Married \n",
       "5 10        2        0        6       Married \n",
       "6  0        0       NA        8       Divorced\n",
       "  educa                                                       \n",
       "1 College 4 years or more (College graduate)                  \n",
       "2 College 1 year to 3 years (Some college or technical school)\n",
       "3 College 4 years or more (College graduate)                  \n",
       "4 Grade 12 or GED (High school graduate)                      \n",
       "5 College 4 years or more (College graduate)                  \n",
       "6 College 4 years or more (College graduate)                  \n",
       "  income2           sex    alcday5 drnk3ge5\n",
       "1 Less than $75,000 Female 201      0      \n",
       "2 $75,000 or more   Female   0     NA      \n",
       "3 $75,000 or more   Female 220     20      \n",
       "4 Less than $75,000 Female 208      0      \n",
       "5 Less than $50,000 Male   210      0      \n",
       "6 $75,000 or more   Female   0     NA      "
      ]
     },
     "metadata": {},
     "output_type": "display_data"
    }
   ],
   "source": [
    "# Here is a version of the data including only the columns of interest:\n",
    "data <- brfss2013[,c(20, 21, 22, 27, 46, 48, 50, 59, 73, 75)]\n",
    "head(data)"
   ]
  },
  {
   "cell_type": "markdown",
   "metadata": {},
   "source": [
    "Tidy up the dataset using the criteria above for each variable. (0.5 marks)"
   ]
  },
  {
   "cell_type": "code",
   "execution_count": 4,
   "metadata": {},
   "outputs": [
    {
     "data": {
      "text/html": [
       "<table class=\"dataframe\">\n",
       "<caption>A data.frame: 6 × 10</caption>\n",
       "<thead>\n",
       "\t<tr><th></th><th scope=col>physhlth</th><th scope=col>menthlth</th><th scope=col>poorhlth</th><th scope=col>sleptim1</th><th scope=col>marital</th><th scope=col>educa</th><th scope=col>income2</th><th scope=col>sex</th><th scope=col>alcday5</th><th scope=col>drnk3ge5</th></tr>\n",
       "\t<tr><th></th><th scope=col>&lt;int&gt;</th><th scope=col>&lt;int&gt;</th><th scope=col>&lt;int&gt;</th><th scope=col>&lt;int&gt;</th><th scope=col>&lt;fct&gt;</th><th scope=col>&lt;fct&gt;</th><th scope=col>&lt;fct&gt;</th><th scope=col>&lt;fct&gt;</th><th scope=col>&lt;int&gt;</th><th scope=col>&lt;dbl&gt;</th></tr>\n",
       "</thead>\n",
       "<tbody>\n",
       "\t<tr><th scope=row>3</th><td> 3</td><td>2</td><td> 0</td><td>9</td><td>Married</td><td>College 4 years or more (College graduate)                  </td><td>$75,000 or more  </td><td>Female</td><td>220</td><td>20</td></tr>\n",
       "\t<tr><th scope=row>4</th><td> 2</td><td>0</td><td> 0</td><td>8</td><td>Married</td><td>Grade 12 or GED (High school graduate)                      </td><td>Less than $75,000</td><td>Female</td><td>208</td><td> 0</td></tr>\n",
       "\t<tr><th scope=row>5</th><td>10</td><td>2</td><td> 0</td><td>6</td><td>Married</td><td>College 4 years or more (College graduate)                  </td><td>Less than $50,000</td><td>Male  </td><td>210</td><td> 0</td></tr>\n",
       "\t<tr><th scope=row>8</th><td> 5</td><td>0</td><td>10</td><td>6</td><td>Widowed</td><td>College 1 year to 3 years (Some college or technical school)</td><td>Less than $50,000</td><td>Female</td><td>202</td><td> 0</td></tr>\n",
       "\t<tr><th scope=row>11</th><td> 0</td><td>1</td><td> 0</td><td>6</td><td>Married</td><td>College 4 years or more (College graduate)                  </td><td>$75,000 or more  </td><td>Male  </td><td>205</td><td> 0</td></tr>\n",
       "\t<tr><th scope=row>12</th><td>30</td><td>0</td><td> 5</td><td>3</td><td>Married</td><td>College 4 years or more (College graduate)                  </td><td>Less than $10,000</td><td>Male  </td><td>  0</td><td> 0</td></tr>\n",
       "</tbody>\n",
       "</table>\n"
      ],
      "text/latex": [
       "A data.frame: 6 × 10\n",
       "\\begin{tabular}{r|llllllllll}\n",
       "  & physhlth & menthlth & poorhlth & sleptim1 & marital & educa & income2 & sex & alcday5 & drnk3ge5\\\\\n",
       "  & <int> & <int> & <int> & <int> & <fct> & <fct> & <fct> & <fct> & <int> & <dbl>\\\\\n",
       "\\hline\n",
       "\t3 &  3 & 2 &  0 & 9 & Married & College 4 years or more (College graduate)                   & \\$75,000 or more   & Female & 220 & 20\\\\\n",
       "\t4 &  2 & 0 &  0 & 8 & Married & Grade 12 or GED (High school graduate)                       & Less than \\$75,000 & Female & 208 &  0\\\\\n",
       "\t5 & 10 & 2 &  0 & 6 & Married & College 4 years or more (College graduate)                   & Less than \\$50,000 & Male   & 210 &  0\\\\\n",
       "\t8 &  5 & 0 & 10 & 6 & Widowed & College 1 year to 3 years (Some college or technical school) & Less than \\$50,000 & Female & 202 &  0\\\\\n",
       "\t11 &  0 & 1 &  0 & 6 & Married & College 4 years or more (College graduate)                   & \\$75,000 or more   & Male   & 205 &  0\\\\\n",
       "\t12 & 30 & 0 &  5 & 3 & Married & College 4 years or more (College graduate)                   & Less than \\$10,000 & Male   &   0 &  0\\\\\n",
       "\\end{tabular}\n"
      ],
      "text/markdown": [
       "\n",
       "A data.frame: 6 × 10\n",
       "\n",
       "| <!--/--> | physhlth &lt;int&gt; | menthlth &lt;int&gt; | poorhlth &lt;int&gt; | sleptim1 &lt;int&gt; | marital &lt;fct&gt; | educa &lt;fct&gt; | income2 &lt;fct&gt; | sex &lt;fct&gt; | alcday5 &lt;int&gt; | drnk3ge5 &lt;dbl&gt; |\n",
       "|---|---|---|---|---|---|---|---|---|---|---|\n",
       "| 3 |  3 | 2 |  0 | 9 | Married | College 4 years or more (College graduate)                   | $75,000 or more   | Female | 220 | 20 |\n",
       "| 4 |  2 | 0 |  0 | 8 | Married | Grade 12 or GED (High school graduate)                       | Less than $75,000 | Female | 208 |  0 |\n",
       "| 5 | 10 | 2 |  0 | 6 | Married | College 4 years or more (College graduate)                   | Less than $50,000 | Male   | 210 |  0 |\n",
       "| 8 |  5 | 0 | 10 | 6 | Widowed | College 1 year to 3 years (Some college or technical school) | Less than $50,000 | Female | 202 |  0 |\n",
       "| 11 |  0 | 1 |  0 | 6 | Married | College 4 years or more (College graduate)                   | $75,000 or more   | Male   | 205 |  0 |\n",
       "| 12 | 30 | 0 |  5 | 3 | Married | College 4 years or more (College graduate)                   | Less than $10,000 | Male   |   0 |  0 |\n",
       "\n"
      ],
      "text/plain": [
       "   physhlth menthlth poorhlth sleptim1 marital\n",
       "3   3       2         0       9        Married\n",
       "4   2       0         0       8        Married\n",
       "5  10       2         0       6        Married\n",
       "8   5       0        10       6        Widowed\n",
       "11  0       1         0       6        Married\n",
       "12 30       0         5       3        Married\n",
       "   educa                                                       \n",
       "3  College 4 years or more (College graduate)                  \n",
       "4  Grade 12 or GED (High school graduate)                      \n",
       "5  College 4 years or more (College graduate)                  \n",
       "8  College 1 year to 3 years (Some college or technical school)\n",
       "11 College 4 years or more (College graduate)                  \n",
       "12 College 4 years or more (College graduate)                  \n",
       "   income2           sex    alcday5 drnk3ge5\n",
       "3  $75,000 or more   Female 220     20      \n",
       "4  Less than $75,000 Female 208      0      \n",
       "5  Less than $50,000 Male   210      0      \n",
       "8  Less than $50,000 Female 202      0      \n",
       "11 $75,000 or more   Male   205      0      \n",
       "12 Less than $10,000 Male     0      0      "
      ]
     },
     "metadata": {},
     "output_type": "display_data"
    }
   ],
   "source": [
    "#alcday5- Exclude NAs and values 1 and 2\n",
    "data$alcday5 <- ifelse(data$alcday5 == 1 | data$alcday5 == 2 | is.na(data$alcday5), NA, data$alcday5)\n",
    "\n",
    "#drnk3ge5-Replace all NAs with 0, Exclude values >30\n",
    "data$drnk3ge5 <- ifelse(data$drnk3ge5 > 30, NA, data$drnk3ge5)\n",
    "data$drnk3ge5 <- ifelse(is.na(data$drnk3ge5), 0, data$drnk3ge5)\n",
    "\n",
    "#physhlth-Exclude values >30 and NAs\n",
    "data$physhlth <- ifelse(data$physhlth > 30 | is.na(data$physhlth), NA, data$physhlth)\n",
    "\n",
    "#menthlth-Exclude values >30 and NAs\n",
    "data$menthlth <- ifelse(data$menthlth > 30 | is.na(data$menthlth), NA, data$menthlth)\n",
    "\n",
    "#poorhlth-Exclude values >30 and NAs\n",
    "data$poorhlth <- ifelse(data$poorhlth > 30 | is.na(data$poorhlth), NA, data$poorhlth)\n",
    "\n",
    "#sleptim1-Exclude values >24 and NAs\n",
    "data$sleptim1 <- ifelse(data$sleptim1 > 24 | is.na(data$sleptim1), NA, data$sleptim1)\n",
    "\n",
    "\n",
    "data_final <- na.omit(data)\n",
    "head(data_final)"
   ]
  },
  {
   "cell_type": "markdown",
   "metadata": {},
   "source": [
    "How many observations are in the clean dataset? (0.25 marks)\n"
   ]
  },
  {
   "cell_type": "code",
   "execution_count": 5,
   "metadata": {},
   "outputs": [
    {
     "data": {
      "text/html": [
       "196680"
      ],
      "text/latex": [
       "196680"
      ],
      "text/markdown": [
       "196680"
      ],
      "text/plain": [
       "[1] 196680"
      ]
     },
     "metadata": {},
     "output_type": "display_data"
    }
   ],
   "source": [
    "nrow(data_final)"
   ]
  },
  {
   "cell_type": "markdown",
   "metadata": {},
   "source": [
    "<div class=\"alert alert-block alert-warning\">\n",
    "<a id=\"EDA1\"></a>\n",
    "\n",
    "# Predictions and Exploratory Data Analysis for Logistic Regression \n",
    "\n"
   ]
  },
  {
   "cell_type": "markdown",
   "metadata": {},
   "source": [
    "### 1. Physical health"
   ]
  },
  {
   "cell_type": "markdown",
   "metadata": {},
   "source": [
    "A) Prediction: A negative relationship between physical health and alcohol consumption. \n",
    "As the physical health variable(physhlth) number increase the person would be less likely to consume alcohol as alcohol would negatively impact the health and deteriorate it even further.\n",
    "\n"
   ]
  },
  {
   "cell_type": "markdown",
   "metadata": {},
   "source": [
    "B1)"
   ]
  },
  {
   "cell_type": "code",
   "execution_count": 8,
   "metadata": {},
   "outputs": [
    {
     "data": {
      "text/html": [
       "'integer'"
      ],
      "text/latex": [
       "'integer'"
      ],
      "text/markdown": [
       "'integer'"
      ],
      "text/plain": [
       "[1] \"integer\""
      ]
     },
     "metadata": {},
     "output_type": "display_data"
    },
    {
     "data": {
      "image/png": "[encoded data removed]",
      "text/plain": [
       "Plot with title \"Relationship between Poor Health and Alcohol Consumption\""
      ]
     },
     "metadata": {
      "image/png": {
       "height": 420,
       "width": 420
      }
     },
     "output_type": "display_data"
    }
   ],
   "source": [
    "class(data_final$physhlth)\n",
    "library(ggplot2)\n",
    "\n",
    "plot(alcday5_new ~ physhlth, data=data_final, pch=16, \n",
    "     main = \"Relationship between Poor Health and Alcohol Consumption\", \n",
    "     xlab = \"Days with Poor Health in Past 30 Days\",ylab = \"At Least One Alcoholic Drink in Past 30 Days\")\n",
    "lines(lowess(data_final$physhlth, data_final$alcday5_new))"
   ]
  },
  {
   "cell_type": "markdown",
   "metadata": {},
   "source": [
    "B2) From the plot we can see that our prediction matches the data. The more number of days people are physically ill/injured in the last 30 days, the lesser alcohol consumption is reported.This relationship may suggest that people may reduce their alcohol consumption in response to physical health issues or that alcohol consumption may worsen physical health problems. However, it's important to note that correlation does not necessarily mean causation, and further research is needed to explore the potential underlying mechanisms of this relationship. "
   ]
  },
  {
   "cell_type": "markdown",
   "metadata": {},
   "source": [
    "### 2. Mental health"
   ]
  },
  {
   "cell_type": "markdown",
   "metadata": {},
   "source": [
    "A) Prediction: Studies have shown that individuals with poor mental health, such as depression and anxiety, are more likely to engage in harmful drinking behavior as a way of coping."
   ]
  },
  {
   "cell_type": "markdown",
   "metadata": {},
   "source": [
    "B1)"
   ]
  },
  {
   "cell_type": "code",
   "execution_count": 9,
   "metadata": {},
   "outputs": [
    {
     "data": {
      "text/html": [
       "'integer'"
      ],
      "text/latex": [
       "'integer'"
      ],
      "text/markdown": [
       "'integer'"
      ],
      "text/plain": [
       "[1] \"integer\""
      ]
     },
     "metadata": {},
     "output_type": "display_data"
    },
    {
     "data": {
      "image/png": "[encoded data removed]",
      "text/plain": [
       "Plot with title \"Relationship between Mental Health and Alcohol Consumption\""
      ]
     },
     "metadata": {
      "image/png": {
       "height": 420,
       "width": 420
      }
     },
     "output_type": "display_data"
    }
   ],
   "source": [
    "class(data_final$menthlth)\n",
    "\n",
    "\n",
    "plot(alcday5_new ~ menthlth, data=data_final, pch=16, \n",
    "     main = \"Relationship between Mental Health and Alcohol Consumption\", \n",
    "     xlab = \"Mental Health in Past 30 Days\",ylab = \"At Least One Alcoholic Drink in Past 30 Days\")\n",
    "lines(lowess(data_final$menthlth, data_final$alcday5_new))"
   ]
  },
  {
   "cell_type": "markdown",
   "metadata": {},
   "source": [
    "B2) Intrestingly here the plot shows a completely different reality to what we predicted. According to the plot for people with mental health issues such as anxiety, depression etc for upto 2-3 days in the last 30 days the alcohol consumption linearly increases, however right after this as the number of days with issues increases the alcohol consumption linearly starts decreasing. A possible explanation is that as individuals with mental health issues seek help and support for their mental health, they may receive education and counseling about the negative effects of alcohol on mental health. This could lead to a reduction in alcohol consumption as they become more aware of the link between their mental health and their alcohol consumption."
   ]
  },
  {
   "cell_type": "markdown",
   "metadata": {},
   "source": [
    "### 3. Poor health"
   ]
  },
  {
   "cell_type": "markdown",
   "metadata": {},
   "source": [
    "A) Prediction: Poor health and alcohol consumption may have a positive correlation, indicating that individuals with poor health are more likely to consume alcohol"
   ]
  },
  {
   "cell_type": "markdown",
   "metadata": {},
   "source": [
    "B)"
   ]
  },
  {
   "cell_type": "code",
   "execution_count": 10,
   "metadata": {},
   "outputs": [
    {
     "data": {
      "text/html": [
       "'integer'"
      ],
      "text/latex": [
       "'integer'"
      ],
      "text/markdown": [
       "'integer'"
      ],
      "text/plain": [
       "[1] \"integer\""
      ]
     },
     "metadata": {},
     "output_type": "display_data"
    },
    {
     "data": {
      "image/png": "[encoded data removed]",
      "text/plain": [
       "Plot with title \"Relationship between Poor Health and Alcohol Consumption\""
      ]
     },
     "metadata": {
      "image/png": {
       "height": 420,
       "width": 420
      }
     },
     "output_type": "display_data"
    }
   ],
   "source": [
    "class(data_final$poorhlth)\n",
    "library(ggplot2)\n",
    "\n",
    "plot(alcday5_new ~ poorhlth, data=data_final, pch=16, \n",
    "     main = \"Relationship between Poor Health and Alcohol Consumption\", \n",
    "     xlab = \"Poor Health in Past 30 Days\",ylab = \"Proportion of Individuals Who Consumed Alcohol\")\n",
    "lines(lowess(data_final$poorhlth, data_final$alcday5_new))\n"
   ]
  },
  {
   "cell_type": "markdown",
   "metadata": {},
   "source": [
    "B2) Here again, the plot shows a different result from what we predicted. For people in poor health for 1-2 days the alcohol consumption increases but then the consumption linearly decreases as the poor health increaes in a month.One possible explanation for this pattern is that individuals who experience poor health may turn to alcohol as a way to cope with their physical symptoms or to alleviate stress related to their health issues. However, as the frequency of their poor health increases, they may start to recognize that alcohol consumption can have negative effects on their physical health and may choose to reduce their alcohol intake."
   ]
  },
  {
   "cell_type": "markdown",
   "metadata": {},
   "source": [
    "### 4. Average amount of sleep"
   ]
  },
  {
   "cell_type": "markdown",
   "metadata": {},
   "source": [
    "A) As sleep plays a crucial role in maintaining physical and mental well-being, my prediction is that individuals who get less sleep may be more likely to consume alcohol as a way to cope with sleep deprivation or other related issues. Therefore, I expect to see a positive relationship between sleep time and alcohol consumption."
   ]
  },
  {
   "cell_type": "markdown",
   "metadata": {},
   "source": [
    "B)"
   ]
  },
  {
   "cell_type": "code",
   "execution_count": 11,
   "metadata": {},
   "outputs": [
    {
     "data": {
      "text/html": [
       "'integer'"
      ],
      "text/latex": [
       "'integer'"
      ],
      "text/markdown": [
       "'integer'"
      ],
      "text/plain": [
       "[1] \"integer\""
      ]
     },
     "metadata": {},
     "output_type": "display_data"
    },
    {
     "data": {
      "image/png": "[encoded data removed]",
      "text/plain": [
       "Plot with title \"Relationship between Poor Health and Alcohol Consumption\""
      ]
     },
     "metadata": {
      "image/png": {
       "height": 420,
       "width": 420
      }
     },
     "output_type": "display_data"
    }
   ],
   "source": [
    "class(data_final$sleptim1)\n",
    "library(ggplot2)\n",
    "\n",
    "\n",
    "\n",
    "plot(alcday5_new ~ sleptim1, data=data_final, pch=16, \n",
    "     main = \"Relationship between Poor Health and Alcohol Consumption\", \n",
    "     xlab = \"Sleep in Past 30 Days\",ylab = \"Proportion of Individuals Who Consumed Alcohol\")\n",
    "lines(lowess(data_final$sleptim1, data_final$alcday5_new))"
   ]
  },
  {
   "cell_type": "markdown",
   "metadata": {},
   "source": [
    "B2) From the plot we see that people who sleep for 8 hours on average in a month consume the highest amount of alcohol, whereas anything less or more than that shows a decrease in alcohol consumption.It's possible that social and cultural factors may be contributing to the observed relationship between average hours of sleep per night and alcohol consumption. For instance, individuals who report sleeping an average of 8 hours per night in a month may have more social or leisure activities that involve drinking alcohol. On the other hand, those who sleep less or more than 8 hours per night may prioritize different lifestyles that do not involve alcohol consumption as much."
   ]
  },
  {
   "cell_type": "markdown",
   "metadata": {},
   "source": [
    "### 5. Marital status"
   ]
  },
  {
   "cell_type": "markdown",
   "metadata": {},
   "source": [
    "A) Prediction: Individuals who are married or in committed relationships may have less time or opportunities to engage in heavy drinking compared to those who are single or not in committed relationships."
   ]
  },
  {
   "cell_type": "markdown",
   "metadata": {},
   "source": [
    "B)"
   ]
  },
  {
   "cell_type": "code",
   "execution_count": 12,
   "metadata": {},
   "outputs": [
    {
     "data": {
      "text/html": [
       "'factor'"
      ],
      "text/latex": [
       "'factor'"
      ],
      "text/markdown": [
       "'factor'"
      ],
      "text/plain": [
       "[1] \"factor\""
      ]
     },
     "metadata": {},
     "output_type": "display_data"
    },
    {
     "data": {
      "image/png": "[encoded data removed]",
      "text/plain": [
       "plot without title"
      ]
     },
     "metadata": {
      "image/png": {
       "height": 420,
       "width": 420
      }
     },
     "output_type": "display_data"
    }
   ],
   "source": [
    "class(data_final$marital)\n",
    "library(ggplot2)\n",
    "marital_status_prop <- aggregate(alcday5_new ~ marital, data = data_final, \n",
    "                                 FUN = function(x) mean(x > 0, na.rm = TRUE))\n",
    "                                 \n",
    "marital_sum <- aggregate(alcday5_new ~ marital, data = data_final, sum)                                                   \n",
    "# plot bar graph\n",
    "ggplot(marital_sum, aes(x = marital, y = alcday5_new)) +\n",
    "  geom_bar(stat = \"identity\", position = \"dodge\",fill='royal blue') +\n",
    "  labs(x = \"Marital Status\", y = \"Number of poeple who consumed least 1 alcoholic drink \", fill = \"Alcohol Consumption\") +\n",
    "  ggtitle(\"Alcohol Consumption by Marital Status\")+\n",
    "  theme(axis.text.x = element_text(angle = 30, vjust = 0.5, hjust=1))\n",
    "                            \n",
    "                                       "
   ]
  },
  {
   "cell_type": "markdown",
   "metadata": {},
   "source": [
    "B2) From the bar graph we can see that married individuals tend to consume more alcohol as opposed to single/non- committed indivuals as per our prediction. While never married & divorced are the next highest groups, separted indivuals drink the lease surprisingly. One possible interpretation of this relationship is that marriage and divorce may be associated with higher stress levels, which can lead to increased alcohol consumption. Additionally, social norms around drinking may also play a role, as drinking may be more accepted and encouraged in certain marital statuses or social circles."
   ]
  },
  {
   "cell_type": "markdown",
   "metadata": {},
   "source": [
    "### 6. Education"
   ]
  },
  {
   "cell_type": "markdown",
   "metadata": {},
   "source": [
    "A) My prediction for the relationship between education and alcohol consumption is that there might be an inverse relationship, where higher education levels are associated with lower alcohol consumption. This could be due to factors such as increased knowledge about the negative effects of alcohol and greater access to resources for coping with stress and other problems that might lead to excessive drinking."
   ]
  },
  {
   "cell_type": "markdown",
   "metadata": {},
   "source": [
    "B)"
   ]
  },
  {
   "cell_type": "code",
   "execution_count": 13,
   "metadata": {},
   "outputs": [
    {
     "data": {
      "image/png": "[encoded data removed]",
      "text/plain": [
       "plot without title"
      ]
     },
     "metadata": {
      "image/png": {
       "height": 420,
       "width": 420
      }
     },
     "output_type": "display_data"
    }
   ],
   "source": [
    "#education_prop <- aggregate(alcday5_new ~ educa, data = data_final, \n",
    "                            #FUN = function(x) mean(x > 0, na.rm = TRUE))\n",
    "educa_sum <- aggregate(alcday5_new ~ educa, data = data_final, sum)\n",
    "#data_final$educa <- factor(data_final$educa, levels = c(1, 2, 3, 4, 5),\n",
    "#                           labels = c(\"Never attended\", \"Elementary\", \"Some high school\", \"Very Good\", \"Excellent\"))\n",
    "                                                  \n",
    "# plot bar graph\n",
    "ggplot(educa_sum, aes(x = educa, y = alcday5_new)) +\n",
    "  geom_bar(stat = \"identity\", position = \"dodge\",fill='royal blue') +\n",
    "  #scale_x_discrete(labels = c(\"Never attended\", \"Elementary\", \"Some high school\", \"Very Good\", \"Excellent\")) +\n",
    "  labs(x = \"Education Level\", y = \"Number of poeple who consumed least 1 alcoholic drink \", fill = \"Alcohol Consumption\") +\n",
    "  ggtitle(\"Alcohol Consumption by Education Level\") +\n",
    "  theme(axis.text.x = element_text(angle = 30, vjust = 0.5, hjust=1))\n",
    "                            \n",
    "                            "
   ]
  },
  {
   "cell_type": "markdown",
   "metadata": {},
   "source": [
    "B2) As expected, students in college consume the most alcohol. In general when in college/university there are many more social obligations and festivities involved which would call for alcohol consumption. Also, people would be at legal age of drinking so it would be easier for them to access alcohol as well. "
   ]
  },
  {
   "cell_type": "markdown",
   "metadata": {},
   "source": [
    "### 7. Income"
   ]
  },
  {
   "cell_type": "markdown",
   "metadata": {},
   "source": [
    "A) Regarding the relationship between income and alcohol consumption, it is difficult to predict without further analysis. Income may be associated with various factors that could influence alcohol consumption, such as cultural and social norms, education, and occupation."
   ]
  },
  {
   "cell_type": "markdown",
   "metadata": {},
   "source": [
    "B)"
   ]
  },
  {
   "cell_type": "code",
   "execution_count": 14,
   "metadata": {},
   "outputs": [
    {
     "data": {
      "image/png": "[encoded data removed]",
      "text/plain": [
       "plot without title"
      ]
     },
     "metadata": {
      "image/png": {
       "height": 420,
       "width": 420
      }
     },
     "output_type": "display_data"
    }
   ],
   "source": [
    "income_mean <- aggregate(alcday5_new ~ income2, data = data_final, \n",
    "                            FUN = function(x) mean(x > 0, na.rm = TRUE))\n",
    "\n",
    "income_sum <- aggregate(alcday5_new ~ income2, data = data_final, sum)                                                   \n",
    "# plot bar graph\n",
    "ggplot(income_sum, aes(x = income2, y = alcday5_new)) +\n",
    "  geom_bar(stat = \"identity\", position = \"dodge\",fill='royal blue') +\n",
    "  labs(x = \"Income Level\", y = \"Number of poeple who consumed least 1 alcoholic drink \", fill = \"Alcohol Consumption\") +\n",
    "  ggtitle(\"Alcohol Consumption by Income Level\")+\n",
    "  theme(axis.text.x = element_text(angle = 30, vjust = 0.5, hjust=1))"
   ]
  },
  {
   "cell_type": "markdown",
   "metadata": {},
   "source": [
    "From the plot we can see that individuals with the highest income, i.e. income of 75,000 dollars or higher consume the most alcohol, whereas the group with income of less than 10,000 dollars consume the least amount of alcohol. It makes sense for individuals with higher disposable income to spend on leisure acitivities that involve alcohol consumption. Groups with lower income would spend on essential items as opposed to alcohol. But then again, a multitude of other factors could also be in play. "
   ]
  },
  {
   "cell_type": "markdown",
   "metadata": {},
   "source": [
    "### 8. Sex/gender"
   ]
  },
  {
   "cell_type": "markdown",
   "metadata": {},
   "source": [
    "A) It is important to note that gender is a complex and multidimensional construct, and individual differences within gender groups exist. Therefore, the relationship between gender and alcohol consumption may not be straightforward and may vary depending on various factors such as age, culture, and social context."
   ]
  },
  {
   "cell_type": "markdown",
   "metadata": {},
   "source": [
    "B)"
   ]
  },
  {
   "cell_type": "code",
   "execution_count": 15,
   "metadata": {},
   "outputs": [
    {
     "data": {
      "image/png": "[encoded data removed]",
      "text/plain": [
       "plot without title"
      ]
     },
     "metadata": {
      "image/png": {
       "height": 420,
       "width": 420
      }
     },
     "output_type": "display_data"
    }
   ],
   "source": [
    "sex_mean <- aggregate(alcday5_new ~ sex, data = data_final, \n",
    "                            FUN = function(x) mean(x > 0, na.rm = TRUE))\n",
    "\n",
    "sex_sum <- aggregate(alcday5_new ~ sex, data = data_final, sum)                                                   \n",
    "# plot bar graph\n",
    "ggplot(sex_sum, aes(x = sex, y = alcday5_new)) +\n",
    "  geom_bar(stat = \"identity\", position = \"dodge\",fill='royal blue') +\n",
    "  #scale_x_discrete(labels = c(\"Never attended\", \"Elementary\", \"Some high school\", \"Very Good\", \"Excellent\")) +\n",
    "  labs(x = \"Gender\", y = \"Number of poeple who consumed least 1 alcoholic drink \", fill = \"Alcohol Consumption\") +\n",
    "  ggtitle(\"Alcohol Consumption by Gender\")"
   ]
  },
  {
   "cell_type": "markdown",
   "metadata": {},
   "source": [
    "B2) From the bar graph we can see that females consume more alcohol as opposed to males. It's possible that there may be specific subgroups or situations where females consume more alcohol than males, such as in certain age groups, regions, or social contexts.However, it's important to keep in mind that such a finding would be inconsistent with the broader body of research on gender differences in alcohol consumption.\n"
   ]
  },
  {
   "cell_type": "markdown",
   "metadata": {},
   "source": [
    "<div class=\"alert alert-block alert-success\">\n",
    "<a id=\"Logistic\"></a>\n",
    "\n",
    "# Logistic Regression Model\n",
    "\n",
    "\n",
    "    \n",
    "</div>    "
   ]
  },
  {
   "cell_type": "markdown",
   "metadata": {},
   "source": [
    "### Final model Fit\n"
   ]
  },
  {
   "cell_type": "code",
   "execution_count": 16,
   "metadata": {},
   "outputs": [
    {
     "data": {
      "text/plain": [
       "\n",
       "Call:\n",
       "glm(formula = alcday5_new ~ physhlth + income2 + educa + sex + \n",
       "    physhlth * sex, family = binomial(link = \"logit\"), data = data_final)\n",
       "\n",
       "Deviance Residuals: \n",
       "    Min       1Q   Median       3Q      Max  \n",
       "-1.8037  -1.0668   0.6616   1.0359   2.1702  \n",
       "\n",
       "Coefficients:\n",
       "                                                                    Estimate\n",
       "(Intercept)                                                       -0.7072415\n",
       "physhlth                                                          -0.0266503\n",
       "income2Less than $15,000                                          -0.0895673\n",
       "income2Less than $20,000                                           0.0409426\n",
       "income2Less than $25,000                                           0.1710111\n",
       "income2Less than $35,000                                           0.2899996\n",
       "income2Less than $50,000                                           0.4655403\n",
       "income2Less than $75,000                                           0.6411092\n",
       "income2$75,000 or more                                             1.0346296\n",
       "educaGrades 1 through 8 (Elementary)                               0.0153346\n",
       "educaGrades 9 though 11 (Some high school)                         0.3402111\n",
       "educaGrade 12 or GED (High school graduate)                        0.5945425\n",
       "educaCollege 1 year to 3 years (Some college or technical school)  0.8562842\n",
       "educaCollege 4 years or more (College graduate)                    1.0803800\n",
       "sexFemale                                                         -0.4478453\n",
       "physhlth:sexFemale                                                -0.0075450\n",
       "                                                                  Std. Error\n",
       "(Intercept)                                                        0.1772989\n",
       "physhlth                                                           0.0007283\n",
       "income2Less than $15,000                                           0.0255838\n",
       "income2Less than $20,000                                           0.0241184\n",
       "income2Less than $25,000                                           0.0233329\n",
       "income2Less than $35,000                                           0.0229488\n",
       "income2Less than $50,000                                           0.0223511\n",
       "income2Less than $75,000                                           0.0225161\n",
       "income2$75,000 or more                                             0.0219034\n",
       "educaGrades 1 through 8 (Elementary)                               0.1799752\n",
       "educaGrades 9 though 11 (Some high school)                         0.1776494\n",
       "educaGrade 12 or GED (High school graduate)                        0.1766901\n",
       "educaCollege 1 year to 3 years (Some college or technical school)  0.1766949\n",
       "educaCollege 4 years or more (College graduate)                    0.1767410\n",
       "sexFemale                                                          0.0125603\n",
       "physhlth:sexFemale                                                 0.0009524\n",
       "                                                                  z value\n",
       "(Intercept)                                                        -3.989\n",
       "physhlth                                                          -36.593\n",
       "income2Less than $15,000                                           -3.501\n",
       "income2Less than $20,000                                            1.698\n",
       "income2Less than $25,000                                            7.329\n",
       "income2Less than $35,000                                           12.637\n",
       "income2Less than $50,000                                           20.829\n",
       "income2Less than $75,000                                           28.473\n",
       "income2$75,000 or more                                             47.236\n",
       "educaGrades 1 through 8 (Elementary)                                0.085\n",
       "educaGrades 9 though 11 (Some high school)                          1.915\n",
       "educaGrade 12 or GED (High school graduate)                         3.365\n",
       "educaCollege 1 year to 3 years (Some college or technical school)   4.846\n",
       "educaCollege 4 years or more (College graduate)                     6.113\n",
       "sexFemale                                                         -35.656\n",
       "physhlth:sexFemale                                                 -7.922\n",
       "                                                                  Pr(>|z|)    \n",
       "(Intercept)                                                       6.64e-05 ***\n",
       "physhlth                                                           < 2e-16 ***\n",
       "income2Less than $15,000                                          0.000464 ***\n",
       "income2Less than $20,000                                          0.089590 .  \n",
       "income2Less than $25,000                                          2.32e-13 ***\n",
       "income2Less than $35,000                                           < 2e-16 ***\n",
       "income2Less than $50,000                                           < 2e-16 ***\n",
       "income2Less than $75,000                                           < 2e-16 ***\n",
       "income2$75,000 or more                                             < 2e-16 ***\n",
       "educaGrades 1 through 8 (Elementary)                              0.932099    \n",
       "educaGrades 9 though 11 (Some high school)                        0.055483 .  \n",
       "educaGrade 12 or GED (High school graduate)                       0.000766 ***\n",
       "educaCollege 1 year to 3 years (Some college or technical school) 1.26e-06 ***\n",
       "educaCollege 4 years or more (College graduate)                   9.79e-10 ***\n",
       "sexFemale                                                          < 2e-16 ***\n",
       "physhlth:sexFemale                                                2.34e-15 ***\n",
       "---\n",
       "Signif. codes:  0 '***' 0.001 '**' 0.01 '*' 0.05 '.' 0.1 ' ' 1\n",
       "\n",
       "(Dispersion parameter for binomial family taken to be 1)\n",
       "\n",
       "    Null deviance: 272612  on 196679  degrees of freedom\n",
       "Residual deviance: 247621  on 196664  degrees of freedom\n",
       "AIC: 247653\n",
       "\n",
       "Number of Fisher Scoring iterations: 4\n"
      ]
     },
     "metadata": {},
     "output_type": "display_data"
    }
   ],
   "source": [
    "\n",
    "model1 <- glm(alcday5_new ~ physhlth + income2+ educa +sex+ physhlth* sex, data = data_final, family = binomial(link=\"logit\"))\n",
    "\n",
    "summary(model1)"
   ]
  },
  {
   "cell_type": "markdown",
   "metadata": {},
   "source": [
    "Model appropriate: The logit link function in the GLM is suitable for binary data as it models the log-odds (logarithm of the odds) of the response variable being in one of the binary categories as a linear function of the predictor variables. This allows for modeling the probability of the binary outcome based on the values of the predictor variables.\n",
    "\n",
    "The model includes predictor variables such as physhlth, income2, maritial status, and sex, which may be relevant in predicting alcohol consumption, which allows for investigating potential differences in the effect of these predictors based on gender. Therefore, the GLM with a binomial family and logit link function is appropriate for modeling the binary outcome of alcohol consumption in this dataset.\n"
   ]
  },
  {
   "cell_type": "markdown",
   "metadata": {},
   "source": [
    "logit(p) = -0.7072415 - 0.0266503 * physhlth - 0.0895673 * income2_Less than $15,000 + 0.0409426 * income2_Less than $20,000 + 0.1710111 * income2_Less than $25,000 + 0.2899996 * income2_Less than $35,000 + 0.4655403 * income2_Less than $50,000 + 0.6411092 * income2_Less than $75,000 + 1.0346296 * income2_$75,000 or more + 0.0153346 * educaGrades 1 through 8 (Elementary) + 0.3402111 * educaGrades 9 though 11 (Some high school) + 0.5945425 * educaGrade 12 or GED (High school graduate) + 0.8562842 * educaCollege 1 year to 3 years (Some college or technical school) + 1.0803800 * educaCollege 4 years or more (College graduate) - 0.4478453 * sexFemale - 0.0075450 * physhlth:sexFemale\n",
    "\n",
    "where:\n",
    "\n",
    "$physhlth$ is the number of days with physical health problems\n",
    "$menthlth$ is the number of days with mental health problems\n",
    "$income2$ is a categorical variable indicating income level, with 9 levels ranging from \"Less than $15,000\" to \"$75,000 or more\"\n",
    "$sex$ is a categorical variable indicating gender, with \"Female\" and \"Male\" categories\n",
    "physhlth:sex is the interaction term between physical health and female gender, multiplied by its coefficient.\n",
    "\n"
   ]
  },
  {
   "cell_type": "markdown",
   "metadata": {},
   "source": [
    "### Plots to visualize the model fit."
   ]
  },
  {
   "cell_type": "code",
   "execution_count": 80,
   "metadata": {},
   "outputs": [
    {
     "ename": "ERROR",
     "evalue": "Error in eval(predvars, data, env): object 'menthlth' not found\n",
     "output_type": "error",
     "traceback": [
      "Error in eval(predvars, data, env): object 'menthlth' not found\nTraceback:\n",
      "1. predict(model1, new.data, type = \"response\")",
      "2. predict.glm(model1, new.data, type = \"response\")",
      "3. predict.lm(object, newdata, se.fit, scale = 1, type = if (type == \n .     \"link\") \"response\" else type, terms = terms, na.action = na.action)",
      "4. model.frame(Terms, newdata, na.action = na.action, xlev = object$xlevels)",
      "5. model.frame.default(Terms, newdata, na.action = na.action, xlev = object$xlevels)",
      "6. eval(predvars, data, env)",
      "7. eval(predvars, data, env)"
     ]
    }
   ],
   "source": [
    "income <- c('Less than $10,000','Less than $15,000','Less than $20,000','Less than $25,000',\n",
    "            'Less than $35,000','Less than $50,000','Less than $75,000','$75,000 or more')\n",
    "education <- c('Never attended school or only kindergarten','Grades 1 through 8 (Elementary)',\n",
    "          'Grades 9 though 11 (Some high school)','Grade 12 or GED (High school graduate)',\n",
    "          'College 1 year to 3 years (Some college or technical school)',\n",
    "          'College 4 years or more (College graduate)')\n",
    "gender <- c('Male','Female')\n",
    "new.data = expand.grid(physhlth=seq(min(data_final$physhlth), max(data_final$physhlth), length.out = 30),\n",
    "                                 income2=income, sex=gender, educa=education)\n",
    "new.data$response <- predict(model1, new.data, type=\"response\")"
   ]
  },
  {
   "cell_type": "code",
   "execution_count": null,
   "metadata": {},
   "outputs": [],
   "source": [
    "#for physical \n",
    "rainbow_test <- c('magenta', 'orange', 'yellow', 'green', 'cyan', 'blue', 'darkviolet', 'red')\n",
    "for (i in 1:2) { \n",
    "    new.data.sub <- subset(new.data, new.data$sex==gender[i])\n",
    "    plot(jitter(alcday5_new, f=0.1) ~ physhlth, data=data_final, pch=1, \n",
    "         ylab='Probability of Alcohol Consumption', xlab='Physical Health',\n",
    "         main='Relationship between Alcohol consumption and Physical heath for Income Levels')\n",
    "\n",
    "    for ( j in 1:6 ) {\n",
    "            new.data.sub.ed <- subset(new.data.sub, new.data.sub$income == income[j])# new.data.sub\n",
    "            lines(new.data.sub.ed$response ~ new.data.sub.ed$physhlth, col=rainbow_test[j], lwd = 0.01)\n",
    "        }\n",
    "\n",
    "    legend(1,1, legend=c('Less than $10,000','Less than $15,000','Less than $20,000','Less than $25,000',\n",
    "            'Less than $35,000','Less than $50,000','Less than $75,000','$75,000 or more'),\n",
    "           col=c('magenta', 'orange', 'yellow', 'green', 'cyan', 'blue', 'darkviolet', 'red'), lty=1, cex=0.8)\n",
    "    abline(nrow(data_final[data_final$alcday5_new == 1,])/nrow(data_final), 0, lty=2)\n",
    "}"
   ]
  },
  {
   "cell_type": "code",
   "execution_count": 73,
   "metadata": {},
   "outputs": [
    {
     "data": {
      "image/png": "[encoded data removed]",
      "text/plain": [
       "Plot with title \"Residuals vs Fitted values\""
      ]
     },
     "metadata": {
      "image/png": {
       "height": 420,
       "width": 420
      }
     },
     "output_type": "display_data"
    },
    {
     "data": {
      "image/png": "[encoded data removed]",
      "text/plain": [
       "Plot with title \"Normal Q-Q plot\""
      ]
     },
     "metadata": {
      "image/png": {
       "height": 420,
       "width": 420
      }
     },
     "output_type": "display_data"
    }
   ],
   "source": [
    "# Residuals vs Fitted values plot\n",
    "plot(model1$fitted.values, model1$residuals, xlab = \"Fitted values\", ylab = \"Residuals\",\n",
    "     main = \"Residuals vs Fitted values\")\n",
    "# Normal Q-Q plot\n",
    "qqnorm(model1$residuals, main = \"Normal Q-Q plot\")\n",
    "qqline(model1$residuals)"
   ]
  },
  {
   "cell_type": "markdown",
   "metadata": {},
   "source": [
    "### Main results of your model"
   ]
  },
  {
   "cell_type": "markdown",
   "metadata": {},
   "source": [
    "The main results of the model are as follows:\n",
    "\n",
    "Significant predictors: Several variables are significant predictors of alcday5_new, which is the response variable. These significant predictors include physhlth (physical health), income2 (income level), educa (education level), sex (gender), and the interaction term physhlth * sex (interaction between physical health and gender).\n",
    "\n",
    "Magnitude of effects: The coefficients (estimates) of the significant predictors indicate the magnitude of their effects on alcday5_new. \n",
    "\n",
    "physhlth has a negative coefficient of -0.0266503, which means that as physical health decreases, alcday5_new tends to increase. Similarly, income2 categories and education level have positive coefficients, indicating that higher income levels and higher education levels are associated with higher alcday5_new. The interaction term physhlth * sex has a negative coefficient of -0.0075450, indicating that the effect of physical health on alcday5_new may differ between males and females.\n",
    "\n",
    "Overall, physical health, income level, education level, gender are important predictors of alcday5_new."
   ]
  },
  {
   "cell_type": "code",
   "execution_count": 26,
   "metadata": {},
   "outputs": [
    {
     "name": "stderr",
     "output_type": "stream",
     "text": [
      "there are higher-order terms (interactions) in this model\n",
      "consider setting type = 'predictor'; see ?vif\n",
      "\n"
     ]
    },
    {
     "data": {
      "text/html": [
       "<table class=\"dataframe\">\n",
       "<caption>A matrix: 5 × 3 of type dbl</caption>\n",
       "<thead>\n",
       "\t<tr><th></th><th scope=col>GVIF</th><th scope=col>Df</th><th scope=col>GVIF^(1/(2*Df))</th></tr>\n",
       "</thead>\n",
       "<tbody>\n",
       "\t<tr><th scope=row>physhlth</th><td>2.405254</td><td>1</td><td>1.550888</td></tr>\n",
       "\t<tr><th scope=row>income2</th><td>1.263232</td><td>7</td><td>1.016831</td></tr>\n",
       "\t<tr><th scope=row>educa</th><td>1.238804</td><td>5</td><td>1.021646</td></tr>\n",
       "\t<tr><th scope=row>sex</th><td>1.596301</td><td>1</td><td>1.263448</td></tr>\n",
       "\t<tr><th scope=row>physhlth:sex</th><td>2.837345</td><td>1</td><td>1.684442</td></tr>\n",
       "</tbody>\n",
       "</table>\n"
      ],
      "text/latex": [
       "A matrix: 5 × 3 of type dbl\n",
       "\\begin{tabular}{r|lll}\n",
       "  & GVIF & Df & GVIF\\textasciicircum{}(1/(2*Df))\\\\\n",
       "\\hline\n",
       "\tphyshlth & 2.405254 & 1 & 1.550888\\\\\n",
       "\tincome2 & 1.263232 & 7 & 1.016831\\\\\n",
       "\teduca & 1.238804 & 5 & 1.021646\\\\\n",
       "\tsex & 1.596301 & 1 & 1.263448\\\\\n",
       "\tphyshlth:sex & 2.837345 & 1 & 1.684442\\\\\n",
       "\\end{tabular}\n"
      ],
      "text/markdown": [
       "\n",
       "A matrix: 5 × 3 of type dbl\n",
       "\n",
       "| <!--/--> | GVIF | Df | GVIF^(1/(2*Df)) |\n",
       "|---|---|---|---|\n",
       "| physhlth | 2.405254 | 1 | 1.550888 |\n",
       "| income2 | 1.263232 | 7 | 1.016831 |\n",
       "| educa | 1.238804 | 5 | 1.021646 |\n",
       "| sex | 1.596301 | 1 | 1.263448 |\n",
       "| physhlth:sex | 2.837345 | 1 | 1.684442 |\n",
       "\n"
      ],
      "text/plain": [
       "             GVIF     Df GVIF^(1/(2*Df))\n",
       "physhlth     2.405254 1  1.550888       \n",
       "income2      1.263232 7  1.016831       \n",
       "educa        1.238804 5  1.021646       \n",
       "sex          1.596301 1  1.263448       \n",
       "physhlth:sex 2.837345 1  1.684442       "
      ]
     },
     "metadata": {},
     "output_type": "display_data"
    }
   ],
   "source": [
    "library(car)\n",
    "vif(model1)"
   ]
  },
  {
   "cell_type": "markdown",
   "metadata": {},
   "source": [
    "\n",
    "**Observations:**\n",
    "\n",
    "A higher VIF value indicates a higher degree of multicollinearity. VIF values greater than 10 are often considered indicative of significant multicollinearity.\n",
    "\n",
    "1) Variables \"physhlth\", \"income2\", \"educa\", and \"sex\" all have low or no multicollinearity, with VIF values below 2) The interaction term \"physhlth:sex\" shows moderate multicollinearity with a VIF value of 2.837345.\n",
    "This suggests that further examination or potential removal of the interaction term \"physhlth:sex\" may be necessary to address the issue of multicollinearity in the regression model."
   ]
  },
  {
   "cell_type": "markdown",
   "metadata": {},
   "source": []
  },
  {
   "cell_type": "markdown",
   "metadata": {},
   "source": [
    "<div class=\"alert alert-block alert-info\"> \n",
    "    \n",
    "## Classification table \n",
    "\n"
   ]
  },
  {
   "cell_type": "code",
   "execution_count": 27,
   "metadata": {
    "scrolled": false
   },
   "outputs": [
    {
     "data": {
      "text/html": [
       "<table class=\"dataframe\">\n",
       "<caption>A data.frame: 6 × 9</caption>\n",
       "<thead>\n",
       "\t<tr><th></th><th scope=col>true.positive</th><th scope=col>true.negative</th><th scope=col>false.positive</th><th scope=col>false.negative</th><th scope=col>correct.percent</th><th scope=col>sensitivity</th><th scope=col>specificity</th><th scope=col>false.pos.rate</th><th scope=col>false.neg.rate</th></tr>\n",
       "\t<tr><th></th><th scope=col>&lt;lgl&gt;</th><th scope=col>&lt;lgl&gt;</th><th scope=col>&lt;lgl&gt;</th><th scope=col>&lt;lgl&gt;</th><th scope=col>&lt;lgl&gt;</th><th scope=col>&lt;lgl&gt;</th><th scope=col>&lt;lgl&gt;</th><th scope=col>&lt;lgl&gt;</th><th scope=col>&lt;lgl&gt;</th></tr>\n",
       "</thead>\n",
       "<tbody>\n",
       "\t<tr><th scope=row>1</th><td>NA</td><td>NA</td><td>NA</td><td>NA</td><td>NA</td><td>NA</td><td>NA</td><td>NA</td><td>NA</td></tr>\n",
       "\t<tr><th scope=row>2</th><td>NA</td><td>NA</td><td>NA</td><td>NA</td><td>NA</td><td>NA</td><td>NA</td><td>NA</td><td>NA</td></tr>\n",
       "\t<tr><th scope=row>3</th><td>NA</td><td>NA</td><td>NA</td><td>NA</td><td>NA</td><td>NA</td><td>NA</td><td>NA</td><td>NA</td></tr>\n",
       "\t<tr><th scope=row>4</th><td>NA</td><td>NA</td><td>NA</td><td>NA</td><td>NA</td><td>NA</td><td>NA</td><td>NA</td><td>NA</td></tr>\n",
       "\t<tr><th scope=row>5</th><td>NA</td><td>NA</td><td>NA</td><td>NA</td><td>NA</td><td>NA</td><td>NA</td><td>NA</td><td>NA</td></tr>\n",
       "\t<tr><th scope=row>6</th><td>NA</td><td>NA</td><td>NA</td><td>NA</td><td>NA</td><td>NA</td><td>NA</td><td>NA</td><td>NA</td></tr>\n",
       "</tbody>\n",
       "</table>\n"
      ],
      "text/latex": [
       "A data.frame: 6 × 9\n",
       "\\begin{tabular}{r|lllllllll}\n",
       "  & true.positive & true.negative & false.positive & false.negative & correct.percent & sensitivity & specificity & false.pos.rate & false.neg.rate\\\\\n",
       "  & <lgl> & <lgl> & <lgl> & <lgl> & <lgl> & <lgl> & <lgl> & <lgl> & <lgl>\\\\\n",
       "\\hline\n",
       "\t1 & NA & NA & NA & NA & NA & NA & NA & NA & NA\\\\\n",
       "\t2 & NA & NA & NA & NA & NA & NA & NA & NA & NA\\\\\n",
       "\t3 & NA & NA & NA & NA & NA & NA & NA & NA & NA\\\\\n",
       "\t4 & NA & NA & NA & NA & NA & NA & NA & NA & NA\\\\\n",
       "\t5 & NA & NA & NA & NA & NA & NA & NA & NA & NA\\\\\n",
       "\t6 & NA & NA & NA & NA & NA & NA & NA & NA & NA\\\\\n",
       "\\end{tabular}\n"
      ],
      "text/markdown": [
       "\n",
       "A data.frame: 6 × 9\n",
       "\n",
       "| <!--/--> | true.positive &lt;lgl&gt; | true.negative &lt;lgl&gt; | false.positive &lt;lgl&gt; | false.negative &lt;lgl&gt; | correct.percent &lt;lgl&gt; | sensitivity &lt;lgl&gt; | specificity &lt;lgl&gt; | false.pos.rate &lt;lgl&gt; | false.neg.rate &lt;lgl&gt; |\n",
       "|---|---|---|---|---|---|---|---|---|---|\n",
       "| 1 | NA | NA | NA | NA | NA | NA | NA | NA | NA |\n",
       "| 2 | NA | NA | NA | NA | NA | NA | NA | NA | NA |\n",
       "| 3 | NA | NA | NA | NA | NA | NA | NA | NA | NA |\n",
       "| 4 | NA | NA | NA | NA | NA | NA | NA | NA | NA |\n",
       "| 5 | NA | NA | NA | NA | NA | NA | NA | NA | NA |\n",
       "| 6 | NA | NA | NA | NA | NA | NA | NA | NA | NA |\n",
       "\n"
      ],
      "text/plain": [
       "  true.positive true.negative false.positive false.negative correct.percent\n",
       "1 NA            NA            NA             NA             NA             \n",
       "2 NA            NA            NA             NA             NA             \n",
       "3 NA            NA            NA             NA             NA             \n",
       "4 NA            NA            NA             NA             NA             \n",
       "5 NA            NA            NA             NA             NA             \n",
       "6 NA            NA            NA             NA             NA             \n",
       "  sensitivity specificity false.pos.rate false.neg.rate\n",
       "1 NA          NA          NA             NA            \n",
       "2 NA          NA          NA             NA            \n",
       "3 NA          NA          NA             NA            \n",
       "4 NA          NA          NA             NA            \n",
       "5 NA          NA          NA             NA            \n",
       "6 NA          NA          NA             NA            "
      ]
     },
     "metadata": {},
     "output_type": "display_data"
    },
    {
     "data": {
      "text/html": [
       "<style>\n",
       ".list-inline {list-style: none; margin:0; padding: 0}\n",
       ".list-inline>li {display: inline-block}\n",
       ".list-inline>li:not(:last-child)::after {content: \"\\00b7\"; padding: 0 .5ex}\n",
       "</style>\n",
       "<ol class=list-inline><li>0</li><li>0.02</li><li>0.04</li><li>0.06</li><li>0.08</li><li>0.1</li><li>0.12</li><li>0.14</li><li>0.16</li><li>0.18</li><li>0.2</li><li>0.22</li><li>0.24</li><li>0.26</li><li>0.28</li><li>0.3</li><li>0.32</li><li>0.34</li><li>0.36</li><li>0.38</li><li>0.4</li><li>0.42</li><li>0.44</li><li>0.46</li><li>0.48</li><li>0.5</li><li>0.52</li><li>0.54</li><li>0.56</li><li>0.58</li><li>0.6</li><li>0.62</li><li>0.64</li><li>0.66</li><li>0.68</li><li>0.7</li><li>0.72</li><li>0.74</li><li>0.76</li><li>0.78</li><li>0.8</li><li>0.82</li><li>0.84</li><li>0.86</li><li>0.88</li><li>0.9</li><li>0.92</li><li>0.94</li><li>0.96</li><li>0.98</li><li>1</li></ol>\n"
      ],
      "text/latex": [
       "\\begin{enumerate*}\n",
       "\\item 0\n",
       "\\item 0.02\n",
       "\\item 0.04\n",
       "\\item 0.06\n",
       "\\item 0.08\n",
       "\\item 0.1\n",
       "\\item 0.12\n",
       "\\item 0.14\n",
       "\\item 0.16\n",
       "\\item 0.18\n",
       "\\item 0.2\n",
       "\\item 0.22\n",
       "\\item 0.24\n",
       "\\item 0.26\n",
       "\\item 0.28\n",
       "\\item 0.3\n",
       "\\item 0.32\n",
       "\\item 0.34\n",
       "\\item 0.36\n",
       "\\item 0.38\n",
       "\\item 0.4\n",
       "\\item 0.42\n",
       "\\item 0.44\n",
       "\\item 0.46\n",
       "\\item 0.48\n",
       "\\item 0.5\n",
       "\\item 0.52\n",
       "\\item 0.54\n",
       "\\item 0.56\n",
       "\\item 0.58\n",
       "\\item 0.6\n",
       "\\item 0.62\n",
       "\\item 0.64\n",
       "\\item 0.66\n",
       "\\item 0.68\n",
       "\\item 0.7\n",
       "\\item 0.72\n",
       "\\item 0.74\n",
       "\\item 0.76\n",
       "\\item 0.78\n",
       "\\item 0.8\n",
       "\\item 0.82\n",
       "\\item 0.84\n",
       "\\item 0.86\n",
       "\\item 0.88\n",
       "\\item 0.9\n",
       "\\item 0.92\n",
       "\\item 0.94\n",
       "\\item 0.96\n",
       "\\item 0.98\n",
       "\\item 1\n",
       "\\end{enumerate*}\n"
      ],
      "text/markdown": [
       "1. 0\n",
       "2. 0.02\n",
       "3. 0.04\n",
       "4. 0.06\n",
       "5. 0.08\n",
       "6. 0.1\n",
       "7. 0.12\n",
       "8. 0.14\n",
       "9. 0.16\n",
       "10. 0.18\n",
       "11. 0.2\n",
       "12. 0.22\n",
       "13. 0.24\n",
       "14. 0.26\n",
       "15. 0.28\n",
       "16. 0.3\n",
       "17. 0.32\n",
       "18. 0.34\n",
       "19. 0.36\n",
       "20. 0.38\n",
       "21. 0.4\n",
       "22. 0.42\n",
       "23. 0.44\n",
       "24. 0.46\n",
       "25. 0.48\n",
       "26. 0.5\n",
       "27. 0.52\n",
       "28. 0.54\n",
       "29. 0.56\n",
       "30. 0.58\n",
       "31. 0.6\n",
       "32. 0.62\n",
       "33. 0.64\n",
       "34. 0.66\n",
       "35. 0.68\n",
       "36. 0.7\n",
       "37. 0.72\n",
       "38. 0.74\n",
       "39. 0.76\n",
       "40. 0.78\n",
       "41. 0.8\n",
       "42. 0.82\n",
       "43. 0.84\n",
       "44. 0.86\n",
       "45. 0.88\n",
       "46. 0.9\n",
       "47. 0.92\n",
       "48. 0.94\n",
       "49. 0.96\n",
       "50. 0.98\n",
       "51. 1\n",
       "\n",
       "\n"
      ],
      "text/plain": [
       " [1] 0.00 0.02 0.04 0.06 0.08 0.10 0.12 0.14 0.16 0.18 0.20 0.22 0.24 0.26 0.28\n",
       "[16] 0.30 0.32 0.34 0.36 0.38 0.40 0.42 0.44 0.46 0.48 0.50 0.52 0.54 0.56 0.58\n",
       "[31] 0.60 0.62 0.64 0.66 0.68 0.70 0.72 0.74 0.76 0.78 0.80 0.82 0.84 0.86 0.88\n",
       "[46] 0.90 0.92 0.94 0.96 0.98 1.00"
      ]
     },
     "metadata": {},
     "output_type": "display_data"
    },
    {
     "data": {
      "text/html": [
       "<table class=\"dataframe\">\n",
       "<caption>A data.frame: 6 × 10</caption>\n",
       "<thead>\n",
       "\t<tr><th></th><th scope=col>prob.level</th><th scope=col>true.positive</th><th scope=col>true.negative</th><th scope=col>false.positive</th><th scope=col>false.negative</th><th scope=col>correct.percent</th><th scope=col>sensitivity</th><th scope=col>specificity</th><th scope=col>false.pos.rate</th><th scope=col>false.neg.rate</th></tr>\n",
       "\t<tr><th></th><th scope=col>&lt;dbl&gt;</th><th scope=col>&lt;lgl&gt;</th><th scope=col>&lt;lgl&gt;</th><th scope=col>&lt;lgl&gt;</th><th scope=col>&lt;lgl&gt;</th><th scope=col>&lt;lgl&gt;</th><th scope=col>&lt;lgl&gt;</th><th scope=col>&lt;lgl&gt;</th><th scope=col>&lt;lgl&gt;</th><th scope=col>&lt;lgl&gt;</th></tr>\n",
       "</thead>\n",
       "<tbody>\n",
       "\t<tr><th scope=row>1</th><td>0.00</td><td>NA</td><td>NA</td><td>NA</td><td>NA</td><td>NA</td><td>NA</td><td>NA</td><td>NA</td><td>NA</td></tr>\n",
       "\t<tr><th scope=row>2</th><td>0.02</td><td>NA</td><td>NA</td><td>NA</td><td>NA</td><td>NA</td><td>NA</td><td>NA</td><td>NA</td><td>NA</td></tr>\n",
       "\t<tr><th scope=row>3</th><td>0.04</td><td>NA</td><td>NA</td><td>NA</td><td>NA</td><td>NA</td><td>NA</td><td>NA</td><td>NA</td><td>NA</td></tr>\n",
       "\t<tr><th scope=row>4</th><td>0.06</td><td>NA</td><td>NA</td><td>NA</td><td>NA</td><td>NA</td><td>NA</td><td>NA</td><td>NA</td><td>NA</td></tr>\n",
       "\t<tr><th scope=row>5</th><td>0.08</td><td>NA</td><td>NA</td><td>NA</td><td>NA</td><td>NA</td><td>NA</td><td>NA</td><td>NA</td><td>NA</td></tr>\n",
       "\t<tr><th scope=row>6</th><td>0.10</td><td>NA</td><td>NA</td><td>NA</td><td>NA</td><td>NA</td><td>NA</td><td>NA</td><td>NA</td><td>NA</td></tr>\n",
       "</tbody>\n",
       "</table>\n"
      ],
      "text/latex": [
       "A data.frame: 6 × 10\n",
       "\\begin{tabular}{r|llllllllll}\n",
       "  & prob.level & true.positive & true.negative & false.positive & false.negative & correct.percent & sensitivity & specificity & false.pos.rate & false.neg.rate\\\\\n",
       "  & <dbl> & <lgl> & <lgl> & <lgl> & <lgl> & <lgl> & <lgl> & <lgl> & <lgl> & <lgl>\\\\\n",
       "\\hline\n",
       "\t1 & 0.00 & NA & NA & NA & NA & NA & NA & NA & NA & NA\\\\\n",
       "\t2 & 0.02 & NA & NA & NA & NA & NA & NA & NA & NA & NA\\\\\n",
       "\t3 & 0.04 & NA & NA & NA & NA & NA & NA & NA & NA & NA\\\\\n",
       "\t4 & 0.06 & NA & NA & NA & NA & NA & NA & NA & NA & NA\\\\\n",
       "\t5 & 0.08 & NA & NA & NA & NA & NA & NA & NA & NA & NA\\\\\n",
       "\t6 & 0.10 & NA & NA & NA & NA & NA & NA & NA & NA & NA\\\\\n",
       "\\end{tabular}\n"
      ],
      "text/markdown": [
       "\n",
       "A data.frame: 6 × 10\n",
       "\n",
       "| <!--/--> | prob.level &lt;dbl&gt; | true.positive &lt;lgl&gt; | true.negative &lt;lgl&gt; | false.positive &lt;lgl&gt; | false.negative &lt;lgl&gt; | correct.percent &lt;lgl&gt; | sensitivity &lt;lgl&gt; | specificity &lt;lgl&gt; | false.pos.rate &lt;lgl&gt; | false.neg.rate &lt;lgl&gt; |\n",
       "|---|---|---|---|---|---|---|---|---|---|---|\n",
       "| 1 | 0.00 | NA | NA | NA | NA | NA | NA | NA | NA | NA |\n",
       "| 2 | 0.02 | NA | NA | NA | NA | NA | NA | NA | NA | NA |\n",
       "| 3 | 0.04 | NA | NA | NA | NA | NA | NA | NA | NA | NA |\n",
       "| 4 | 0.06 | NA | NA | NA | NA | NA | NA | NA | NA | NA |\n",
       "| 5 | 0.08 | NA | NA | NA | NA | NA | NA | NA | NA | NA |\n",
       "| 6 | 0.10 | NA | NA | NA | NA | NA | NA | NA | NA | NA |\n",
       "\n"
      ],
      "text/plain": [
       "  prob.level true.positive true.negative false.positive false.negative\n",
       "1 0.00       NA            NA            NA             NA            \n",
       "2 0.02       NA            NA            NA             NA            \n",
       "3 0.04       NA            NA            NA             NA            \n",
       "4 0.06       NA            NA            NA             NA            \n",
       "5 0.08       NA            NA            NA             NA            \n",
       "6 0.10       NA            NA            NA             NA            \n",
       "  correct.percent sensitivity specificity false.pos.rate false.neg.rate\n",
       "1 NA              NA          NA          NA             NA            \n",
       "2 NA              NA          NA          NA             NA            \n",
       "3 NA              NA          NA          NA             NA            \n",
       "4 NA              NA          NA          NA             NA            \n",
       "5 NA              NA          NA          NA             NA            \n",
       "6 NA              NA          NA          NA             NA            "
      ]
     },
     "metadata": {},
     "output_type": "display_data"
    },
    {
     "data": {
      "text/html": [
       "<table class=\"dataframe\">\n",
       "<caption>A data.frame: 6 × 10</caption>\n",
       "<thead>\n",
       "\t<tr><th></th><th scope=col>prob.level</th><th scope=col>true.positive</th><th scope=col>true.negative</th><th scope=col>false.positive</th><th scope=col>false.negative</th><th scope=col>correct.percent</th><th scope=col>sensitivity</th><th scope=col>specificity</th><th scope=col>false.pos.rate</th><th scope=col>false.neg.rate</th></tr>\n",
       "\t<tr><th></th><th scope=col>&lt;dbl&gt;</th><th scope=col>&lt;dbl&gt;</th><th scope=col>&lt;dbl&gt;</th><th scope=col>&lt;dbl&gt;</th><th scope=col>&lt;dbl&gt;</th><th scope=col>&lt;lgl&gt;</th><th scope=col>&lt;lgl&gt;</th><th scope=col>&lt;lgl&gt;</th><th scope=col>&lt;lgl&gt;</th><th scope=col>&lt;lgl&gt;</th></tr>\n",
       "</thead>\n",
       "<tbody>\n",
       "\t<tr><th scope=row>1</th><td>0.00</td><td>0</td><td>0</td><td>0</td><td>0</td><td>NA</td><td>NA</td><td>NA</td><td>NA</td><td>NA</td></tr>\n",
       "\t<tr><th scope=row>2</th><td>0.02</td><td>0</td><td>0</td><td>0</td><td>0</td><td>NA</td><td>NA</td><td>NA</td><td>NA</td><td>NA</td></tr>\n",
       "\t<tr><th scope=row>3</th><td>0.04</td><td>0</td><td>0</td><td>0</td><td>0</td><td>NA</td><td>NA</td><td>NA</td><td>NA</td><td>NA</td></tr>\n",
       "\t<tr><th scope=row>4</th><td>0.06</td><td>0</td><td>0</td><td>0</td><td>0</td><td>NA</td><td>NA</td><td>NA</td><td>NA</td><td>NA</td></tr>\n",
       "\t<tr><th scope=row>5</th><td>0.08</td><td>0</td><td>0</td><td>0</td><td>0</td><td>NA</td><td>NA</td><td>NA</td><td>NA</td><td>NA</td></tr>\n",
       "\t<tr><th scope=row>6</th><td>0.10</td><td>0</td><td>0</td><td>0</td><td>0</td><td>NA</td><td>NA</td><td>NA</td><td>NA</td><td>NA</td></tr>\n",
       "</tbody>\n",
       "</table>\n"
      ],
      "text/latex": [
       "A data.frame: 6 × 10\n",
       "\\begin{tabular}{r|llllllllll}\n",
       "  & prob.level & true.positive & true.negative & false.positive & false.negative & correct.percent & sensitivity & specificity & false.pos.rate & false.neg.rate\\\\\n",
       "  & <dbl> & <dbl> & <dbl> & <dbl> & <dbl> & <lgl> & <lgl> & <lgl> & <lgl> & <lgl>\\\\\n",
       "\\hline\n",
       "\t1 & 0.00 & 0 & 0 & 0 & 0 & NA & NA & NA & NA & NA\\\\\n",
       "\t2 & 0.02 & 0 & 0 & 0 & 0 & NA & NA & NA & NA & NA\\\\\n",
       "\t3 & 0.04 & 0 & 0 & 0 & 0 & NA & NA & NA & NA & NA\\\\\n",
       "\t4 & 0.06 & 0 & 0 & 0 & 0 & NA & NA & NA & NA & NA\\\\\n",
       "\t5 & 0.08 & 0 & 0 & 0 & 0 & NA & NA & NA & NA & NA\\\\\n",
       "\t6 & 0.10 & 0 & 0 & 0 & 0 & NA & NA & NA & NA & NA\\\\\n",
       "\\end{tabular}\n"
      ],
      "text/markdown": [
       "\n",
       "A data.frame: 6 × 10\n",
       "\n",
       "| <!--/--> | prob.level &lt;dbl&gt; | true.positive &lt;dbl&gt; | true.negative &lt;dbl&gt; | false.positive &lt;dbl&gt; | false.negative &lt;dbl&gt; | correct.percent &lt;lgl&gt; | sensitivity &lt;lgl&gt; | specificity &lt;lgl&gt; | false.pos.rate &lt;lgl&gt; | false.neg.rate &lt;lgl&gt; |\n",
       "|---|---|---|---|---|---|---|---|---|---|---|\n",
       "| 1 | 0.00 | 0 | 0 | 0 | 0 | NA | NA | NA | NA | NA |\n",
       "| 2 | 0.02 | 0 | 0 | 0 | 0 | NA | NA | NA | NA | NA |\n",
       "| 3 | 0.04 | 0 | 0 | 0 | 0 | NA | NA | NA | NA | NA |\n",
       "| 4 | 0.06 | 0 | 0 | 0 | 0 | NA | NA | NA | NA | NA |\n",
       "| 5 | 0.08 | 0 | 0 | 0 | 0 | NA | NA | NA | NA | NA |\n",
       "| 6 | 0.10 | 0 | 0 | 0 | 0 | NA | NA | NA | NA | NA |\n",
       "\n"
      ],
      "text/plain": [
       "  prob.level true.positive true.negative false.positive false.negative\n",
       "1 0.00       0             0             0              0             \n",
       "2 0.02       0             0             0              0             \n",
       "3 0.04       0             0             0              0             \n",
       "4 0.06       0             0             0              0             \n",
       "5 0.08       0             0             0              0             \n",
       "6 0.10       0             0             0              0             \n",
       "  correct.percent sensitivity specificity false.pos.rate false.neg.rate\n",
       "1 NA              NA          NA          NA             NA            \n",
       "2 NA              NA          NA          NA             NA            \n",
       "3 NA              NA          NA          NA             NA            \n",
       "4 NA              NA          NA          NA             NA            \n",
       "5 NA              NA          NA          NA             NA            \n",
       "6 NA              NA          NA          NA             NA            "
      ]
     },
     "metadata": {},
     "output_type": "display_data"
    },
    {
     "data": {
      "text/html": [
       "196680"
      ],
      "text/latex": [
       "196680"
      ],
      "text/markdown": [
       "196680"
      ],
      "text/plain": [
       "[1] 196680"
      ]
     },
     "metadata": {},
     "output_type": "display_data"
    },
    {
     "data": {
      "text/html": [
       "<table class=\"dataframe\">\n",
       "<caption>A data.frame: 6 × 10</caption>\n",
       "<thead>\n",
       "\t<tr><th></th><th scope=col>prob.level</th><th scope=col>true.positive</th><th scope=col>true.negative</th><th scope=col>false.positive</th><th scope=col>false.negative</th><th scope=col>correct.percent</th><th scope=col>sensitivity</th><th scope=col>specificity</th><th scope=col>false.pos.rate</th><th scope=col>false.neg.rate</th></tr>\n",
       "\t<tr><th></th><th scope=col>&lt;dbl&gt;</th><th scope=col>&lt;dbl&gt;</th><th scope=col>&lt;dbl&gt;</th><th scope=col>&lt;dbl&gt;</th><th scope=col>&lt;dbl&gt;</th><th scope=col>&lt;lgl&gt;</th><th scope=col>&lt;lgl&gt;</th><th scope=col>&lt;lgl&gt;</th><th scope=col>&lt;lgl&gt;</th><th scope=col>&lt;lgl&gt;</th></tr>\n",
       "</thead>\n",
       "<tbody>\n",
       "\t<tr><th scope=row>1</th><td>0.00</td><td>99816</td><td>  0</td><td>96864</td><td> 0</td><td>NA</td><td>NA</td><td>NA</td><td>NA</td><td>NA</td></tr>\n",
       "\t<tr><th scope=row>2</th><td>0.02</td><td>99816</td><td>  0</td><td>96864</td><td> 0</td><td>NA</td><td>NA</td><td>NA</td><td>NA</td><td>NA</td></tr>\n",
       "\t<tr><th scope=row>3</th><td>0.04</td><td>99816</td><td>  0</td><td>96864</td><td> 0</td><td>NA</td><td>NA</td><td>NA</td><td>NA</td><td>NA</td></tr>\n",
       "\t<tr><th scope=row>4</th><td>0.06</td><td>99816</td><td>  0</td><td>96864</td><td> 0</td><td>NA</td><td>NA</td><td>NA</td><td>NA</td><td>NA</td></tr>\n",
       "\t<tr><th scope=row>5</th><td>0.08</td><td>99816</td><td>  0</td><td>96864</td><td> 0</td><td>NA</td><td>NA</td><td>NA</td><td>NA</td><td>NA</td></tr>\n",
       "\t<tr><th scope=row>6</th><td>0.10</td><td>99802</td><td>169</td><td>96695</td><td>14</td><td>NA</td><td>NA</td><td>NA</td><td>NA</td><td>NA</td></tr>\n",
       "</tbody>\n",
       "</table>\n"
      ],
      "text/latex": [
       "A data.frame: 6 × 10\n",
       "\\begin{tabular}{r|llllllllll}\n",
       "  & prob.level & true.positive & true.negative & false.positive & false.negative & correct.percent & sensitivity & specificity & false.pos.rate & false.neg.rate\\\\\n",
       "  & <dbl> & <dbl> & <dbl> & <dbl> & <dbl> & <lgl> & <lgl> & <lgl> & <lgl> & <lgl>\\\\\n",
       "\\hline\n",
       "\t1 & 0.00 & 99816 &   0 & 96864 &  0 & NA & NA & NA & NA & NA\\\\\n",
       "\t2 & 0.02 & 99816 &   0 & 96864 &  0 & NA & NA & NA & NA & NA\\\\\n",
       "\t3 & 0.04 & 99816 &   0 & 96864 &  0 & NA & NA & NA & NA & NA\\\\\n",
       "\t4 & 0.06 & 99816 &   0 & 96864 &  0 & NA & NA & NA & NA & NA\\\\\n",
       "\t5 & 0.08 & 99816 &   0 & 96864 &  0 & NA & NA & NA & NA & NA\\\\\n",
       "\t6 & 0.10 & 99802 & 169 & 96695 & 14 & NA & NA & NA & NA & NA\\\\\n",
       "\\end{tabular}\n"
      ],
      "text/markdown": [
       "\n",
       "A data.frame: 6 × 10\n",
       "\n",
       "| <!--/--> | prob.level &lt;dbl&gt; | true.positive &lt;dbl&gt; | true.negative &lt;dbl&gt; | false.positive &lt;dbl&gt; | false.negative &lt;dbl&gt; | correct.percent &lt;lgl&gt; | sensitivity &lt;lgl&gt; | specificity &lt;lgl&gt; | false.pos.rate &lt;lgl&gt; | false.neg.rate &lt;lgl&gt; |\n",
       "|---|---|---|---|---|---|---|---|---|---|---|\n",
       "| 1 | 0.00 | 99816 |   0 | 96864 |  0 | NA | NA | NA | NA | NA |\n",
       "| 2 | 0.02 | 99816 |   0 | 96864 |  0 | NA | NA | NA | NA | NA |\n",
       "| 3 | 0.04 | 99816 |   0 | 96864 |  0 | NA | NA | NA | NA | NA |\n",
       "| 4 | 0.06 | 99816 |   0 | 96864 |  0 | NA | NA | NA | NA | NA |\n",
       "| 5 | 0.08 | 99816 |   0 | 96864 |  0 | NA | NA | NA | NA | NA |\n",
       "| 6 | 0.10 | 99802 | 169 | 96695 | 14 | NA | NA | NA | NA | NA |\n",
       "\n"
      ],
      "text/plain": [
       "  prob.level true.positive true.negative false.positive false.negative\n",
       "1 0.00       99816           0           96864           0            \n",
       "2 0.02       99816           0           96864           0            \n",
       "3 0.04       99816           0           96864           0            \n",
       "4 0.06       99816           0           96864           0            \n",
       "5 0.08       99816           0           96864           0            \n",
       "6 0.10       99802         169           96695          14            \n",
       "  correct.percent sensitivity specificity false.pos.rate false.neg.rate\n",
       "1 NA              NA          NA          NA             NA            \n",
       "2 NA              NA          NA          NA             NA            \n",
       "3 NA              NA          NA          NA             NA            \n",
       "4 NA              NA          NA          NA             NA            \n",
       "5 NA              NA          NA          NA             NA            \n",
       "6 NA              NA          NA          NA             NA            "
      ]
     },
     "metadata": {},
     "output_type": "display_data"
    },
    {
     "data": {
      "text/html": [
       "<table class=\"dataframe\">\n",
       "<caption>A data.frame: 51 × 10</caption>\n",
       "<thead>\n",
       "\t<tr><th scope=col>prob.level</th><th scope=col>true.positive</th><th scope=col>true.negative</th><th scope=col>false.positive</th><th scope=col>false.negative</th><th scope=col>correct.percent</th><th scope=col>sensitivity</th><th scope=col>specificity</th><th scope=col>false.pos.rate</th><th scope=col>false.neg.rate</th></tr>\n",
       "\t<tr><th scope=col>&lt;dbl&gt;</th><th scope=col>&lt;dbl&gt;</th><th scope=col>&lt;dbl&gt;</th><th scope=col>&lt;dbl&gt;</th><th scope=col>&lt;dbl&gt;</th><th scope=col>&lt;dbl&gt;</th><th scope=col>&lt;dbl&gt;</th><th scope=col>&lt;dbl&gt;</th><th scope=col>&lt;dbl&gt;</th><th scope=col>&lt;dbl&gt;</th></tr>\n",
       "</thead>\n",
       "<tbody>\n",
       "\t<tr><td>0.00</td><td>99816</td><td>    0</td><td>96864</td><td>    0</td><td>50.75046</td><td>100.000000</td><td>  0.0000000</td><td>100.0000000</td><td>  0.00000000</td></tr>\n",
       "\t<tr><td>0.02</td><td>99816</td><td>    0</td><td>96864</td><td>    0</td><td>50.75046</td><td>100.000000</td><td>  0.0000000</td><td>100.0000000</td><td>  0.00000000</td></tr>\n",
       "\t<tr><td>0.04</td><td>99816</td><td>    0</td><td>96864</td><td>    0</td><td>50.75046</td><td>100.000000</td><td>  0.0000000</td><td>100.0000000</td><td>  0.00000000</td></tr>\n",
       "\t<tr><td>0.06</td><td>99816</td><td>    0</td><td>96864</td><td>    0</td><td>50.75046</td><td>100.000000</td><td>  0.0000000</td><td>100.0000000</td><td>  0.00000000</td></tr>\n",
       "\t<tr><td>0.08</td><td>99816</td><td>    0</td><td>96864</td><td>    0</td><td>50.75046</td><td>100.000000</td><td>  0.0000000</td><td>100.0000000</td><td>  0.00000000</td></tr>\n",
       "\t<tr><td>0.10</td><td>99802</td><td>  169</td><td>96695</td><td>   14</td><td>50.82927</td><td> 99.985974</td><td>  0.1744714</td><td> 99.8255286</td><td>  0.01402581</td></tr>\n",
       "\t<tr><td>0.12</td><td>99742</td><td>  666</td><td>96198</td><td>   74</td><td>51.05145</td><td> 99.925864</td><td>  0.6875619</td><td> 99.3124381</td><td>  0.07413641</td></tr>\n",
       "\t<tr><td>0.14</td><td>99606</td><td> 1576</td><td>95288</td><td>  210</td><td>51.44499</td><td> 99.789613</td><td>  1.6270235</td><td> 98.3729765</td><td>  0.21038711</td></tr>\n",
       "\t<tr><td>0.16</td><td>99303</td><td> 3086</td><td>93778</td><td>  513</td><td>52.05867</td><td> 99.486054</td><td>  3.1859101</td><td> 96.8140899</td><td>  0.51394566</td></tr>\n",
       "\t<tr><td>0.18</td><td>98814</td><td> 5358</td><td>91506</td><td> 1002</td><td>52.96522</td><td> 98.996153</td><td>  5.5314668</td><td> 94.4685332</td><td>  1.00384708</td></tr>\n",
       "\t<tr><td>0.20</td><td>98267</td><td> 7552</td><td>89312</td><td> 1549</td><td>53.80262</td><td> 98.448145</td><td>  7.7964982</td><td> 92.2035018</td><td>  1.55185541</td></tr>\n",
       "\t<tr><td>0.22</td><td>97534</td><td>10442</td><td>86422</td><td> 2282</td><td>54.89933</td><td> 97.713793</td><td> 10.7800628</td><td> 89.2199372</td><td>  2.28620662</td></tr>\n",
       "\t<tr><td>0.24</td><td>96693</td><td>13097</td><td>83767</td><td> 3123</td><td>55.82164</td><td> 96.871243</td><td> 13.5210192</td><td> 86.4789808</td><td>  3.12875691</td></tr>\n",
       "\t<tr><td>0.26</td><td>95913</td><td>15420</td><td>81444</td><td> 3903</td><td>56.60616</td><td> 96.089805</td><td> 15.9192270</td><td> 84.0807730</td><td>  3.91019476</td></tr>\n",
       "\t<tr><td>0.28</td><td>94797</td><td>18443</td><td>78421</td><td> 5019</td><td>57.57576</td><td> 94.971748</td><td> 19.0400975</td><td> 80.9599025</td><td>  5.02825198</td></tr>\n",
       "\t<tr><td>0.30</td><td>93271</td><td>22291</td><td>74573</td><td> 6545</td><td>58.75636</td><td> 93.442935</td><td> 23.0126776</td><td> 76.9873224</td><td>  6.55706500</td></tr>\n",
       "\t<tr><td>0.32</td><td>92152</td><td>24975</td><td>71889</td><td> 7664</td><td>59.55206</td><td> 92.321872</td><td> 25.7835728</td><td> 74.2164272</td><td>  7.67812776</td></tr>\n",
       "\t<tr><td>0.34</td><td>90555</td><td>28255</td><td>68609</td><td> 9261</td><td>60.40777</td><td> 90.721928</td><td> 29.1697638</td><td> 70.8302362</td><td>  9.27807165</td></tr>\n",
       "\t<tr><td>0.36</td><td>88177</td><td>32857</td><td>64007</td><td>11639</td><td>61.53854</td><td> 88.339545</td><td> 33.9207549</td><td> 66.0792451</td><td> 11.66045524</td></tr>\n",
       "\t<tr><td>0.38</td><td>86061</td><td>36811</td><td>60053</td><td>13755</td><td>62.47305</td><td> 86.219644</td><td> 38.0027668</td><td> 61.9972332</td><td> 13.78035585</td></tr>\n",
       "\t<tr><td>0.40</td><td>83732</td><td>40507</td><td>56357</td><td>16084</td><td>63.16809</td><td> 83.886351</td><td> 41.8184258</td><td> 58.1815742</td><td> 16.11364911</td></tr>\n",
       "\t<tr><td>0.42</td><td>80700</td><td>44937</td><td>51927</td><td>19116</td><td>63.87889</td><td> 80.848762</td><td> 46.3918484</td><td> 53.6081516</td><td> 19.15123828</td></tr>\n",
       "\t<tr><td>0.44</td><td>77474</td><td>49091</td><td>47773</td><td>22342</td><td>64.35072</td><td> 77.616815</td><td> 50.6803353</td><td> 49.3196647</td><td> 22.38318506</td></tr>\n",
       "\t<tr><td>0.46</td><td>74698</td><td>52503</td><td>44361</td><td>25118</td><td>64.67409</td><td> 74.835698</td><td> 54.2027998</td><td> 45.7972002</td><td> 25.16430232</td></tr>\n",
       "\t<tr><td>0.48</td><td>71353</td><td>56082</td><td>40782</td><td>28463</td><td>64.79306</td><td> 71.484532</td><td> 57.8976710</td><td> 42.1023290</td><td> 28.51546846</td></tr>\n",
       "\t<tr><td>0.50</td><td>67098</td><td>60189</td><td>36675</td><td>32718</td><td>64.71782</td><td> 67.221688</td><td> 62.1376363</td><td> 37.8623637</td><td> 32.77831209</td></tr>\n",
       "\t<tr><td>0.52</td><td>63944</td><td>63264</td><td>33600</td><td>35872</td><td>64.67765</td><td> 64.061874</td><td> 65.3121903</td><td> 34.6878097</td><td> 35.93812615</td></tr>\n",
       "\t<tr><td>0.54</td><td>60143</td><td>66670</td><td>30194</td><td>39673</td><td>64.47682</td><td> 60.253867</td><td> 68.8284605</td><td> 31.1715395</td><td> 39.74613288</td></tr>\n",
       "\t<tr><td>0.56</td><td>55525</td><td>70266</td><td>26598</td><td>44291</td><td>63.95719</td><td> 55.627354</td><td> 72.5408821</td><td> 27.4591179</td><td> 44.37264567</td></tr>\n",
       "\t<tr><td>0.58</td><td>51873</td><td>73048</td><td>23816</td><td>47943</td><td>63.51485</td><td> 51.968622</td><td> 75.4129501</td><td> 24.5870499</td><td> 48.03137774</td></tr>\n",
       "\t<tr><td>0.60</td><td>46169</td><td>76697</td><td>20167</td><td>53647</td><td>62.47000</td><td> 46.254108</td><td> 79.1800875</td><td> 20.8199125</td><td> 53.74589244</td></tr>\n",
       "\t<tr><td>0.62</td><td>42576</td><td>79082</td><td>17782</td><td>57240</td><td>61.85581</td><td> 42.654484</td><td> 81.6423026</td><td> 18.3576974</td><td> 57.34551575</td></tr>\n",
       "\t<tr><td>0.64</td><td>36790</td><td>82285</td><td>14579</td><td>63026</td><td>60.54251</td><td> 36.857818</td><td> 84.9490007</td><td> 15.0509993</td><td> 63.14218161</td></tr>\n",
       "\t<tr><td>0.66</td><td>33413</td><td>84228</td><td>12636</td><td>66403</td><td>59.81340</td><td> 33.474593</td><td> 86.9549058</td><td> 13.0450942</td><td> 66.52540675</td></tr>\n",
       "\t<tr><td>0.68</td><td>29426</td><td>86408</td><td>10456</td><td>70390</td><td>58.89465</td><td> 29.480244</td><td> 89.2054840</td><td> 10.7945160</td><td> 70.51975635</td></tr>\n",
       "\t<tr><td>0.70</td><td>25243</td><td>88415</td><td> 8449</td><td>74573</td><td>57.78829</td><td> 25.289533</td><td> 91.2774612</td><td>  8.7225388</td><td> 74.71046726</td></tr>\n",
       "\t<tr><td>0.72</td><td>18598</td><td>91069</td><td> 5795</td><td>81218</td><td>55.75910</td><td> 18.632283</td><td> 94.0173852</td><td>  5.9826148</td><td> 81.36771660</td></tr>\n",
       "\t<tr><td>0.74</td><td>11184</td><td>93653</td><td> 3211</td><td>88632</td><td>53.30334</td><td> 11.204616</td><td> 96.6850429</td><td>  3.3149571</td><td> 88.79538351</td></tr>\n",
       "\t<tr><td>0.76</td><td> 9831</td><td>94124</td><td> 2740</td><td>89985</td><td>52.85489</td><td>  9.849122</td><td> 97.1712917</td><td>  2.8287083</td><td> 90.15087761</td></tr>\n",
       "\t<tr><td>0.78</td><td> 7921</td><td>94771</td><td> 2093</td><td>91895</td><td>52.21273</td><td>  7.935602</td><td> 97.8392385</td><td>  2.1607615</td><td> 92.06439849</td></tr>\n",
       "\t<tr><td>0.80</td><td> 3274</td><td>96115</td><td>  749</td><td>96542</td><td>50.53335</td><td>  3.280035</td><td> 99.2267509</td><td>  0.7732491</td><td> 96.71996474</td></tr>\n",
       "\t<tr><td>0.82</td><td>    0</td><td>96864</td><td>    0</td><td>99816</td><td>49.24954</td><td>  0.000000</td><td>100.0000000</td><td>  0.0000000</td><td>100.00000000</td></tr>\n",
       "\t<tr><td>0.84</td><td>    0</td><td>96864</td><td>    0</td><td>99816</td><td>49.24954</td><td>  0.000000</td><td>100.0000000</td><td>  0.0000000</td><td>100.00000000</td></tr>\n",
       "\t<tr><td>0.86</td><td>    0</td><td>96864</td><td>    0</td><td>99816</td><td>49.24954</td><td>  0.000000</td><td>100.0000000</td><td>  0.0000000</td><td>100.00000000</td></tr>\n",
       "\t<tr><td>0.88</td><td>    0</td><td>96864</td><td>    0</td><td>99816</td><td>49.24954</td><td>  0.000000</td><td>100.0000000</td><td>  0.0000000</td><td>100.00000000</td></tr>\n",
       "\t<tr><td>0.90</td><td>    0</td><td>96864</td><td>    0</td><td>99816</td><td>49.24954</td><td>  0.000000</td><td>100.0000000</td><td>  0.0000000</td><td>100.00000000</td></tr>\n",
       "\t<tr><td>0.92</td><td>    0</td><td>96864</td><td>    0</td><td>99816</td><td>49.24954</td><td>  0.000000</td><td>100.0000000</td><td>  0.0000000</td><td>100.00000000</td></tr>\n",
       "\t<tr><td>0.94</td><td>    0</td><td>96864</td><td>    0</td><td>99816</td><td>49.24954</td><td>  0.000000</td><td>100.0000000</td><td>  0.0000000</td><td>100.00000000</td></tr>\n",
       "\t<tr><td>0.96</td><td>    0</td><td>96864</td><td>    0</td><td>99816</td><td>49.24954</td><td>  0.000000</td><td>100.0000000</td><td>  0.0000000</td><td>100.00000000</td></tr>\n",
       "\t<tr><td>0.98</td><td>    0</td><td>96864</td><td>    0</td><td>99816</td><td>49.24954</td><td>  0.000000</td><td>100.0000000</td><td>  0.0000000</td><td>100.00000000</td></tr>\n",
       "\t<tr><td>1.00</td><td>    0</td><td>96864</td><td>    0</td><td>99816</td><td>49.24954</td><td>  0.000000</td><td>100.0000000</td><td>  0.0000000</td><td>100.00000000</td></tr>\n",
       "</tbody>\n",
       "</table>\n"
      ],
      "text/latex": [
       "A data.frame: 51 × 10\n",
       "\\begin{tabular}{llllllllll}\n",
       " prob.level & true.positive & true.negative & false.positive & false.negative & correct.percent & sensitivity & specificity & false.pos.rate & false.neg.rate\\\\\n",
       " <dbl> & <dbl> & <dbl> & <dbl> & <dbl> & <dbl> & <dbl> & <dbl> & <dbl> & <dbl>\\\\\n",
       "\\hline\n",
       "\t 0.00 & 99816 &     0 & 96864 &     0 & 50.75046 & 100.000000 &   0.0000000 & 100.0000000 &   0.00000000\\\\\n",
       "\t 0.02 & 99816 &     0 & 96864 &     0 & 50.75046 & 100.000000 &   0.0000000 & 100.0000000 &   0.00000000\\\\\n",
       "\t 0.04 & 99816 &     0 & 96864 &     0 & 50.75046 & 100.000000 &   0.0000000 & 100.0000000 &   0.00000000\\\\\n",
       "\t 0.06 & 99816 &     0 & 96864 &     0 & 50.75046 & 100.000000 &   0.0000000 & 100.0000000 &   0.00000000\\\\\n",
       "\t 0.08 & 99816 &     0 & 96864 &     0 & 50.75046 & 100.000000 &   0.0000000 & 100.0000000 &   0.00000000\\\\\n",
       "\t 0.10 & 99802 &   169 & 96695 &    14 & 50.82927 &  99.985974 &   0.1744714 &  99.8255286 &   0.01402581\\\\\n",
       "\t 0.12 & 99742 &   666 & 96198 &    74 & 51.05145 &  99.925864 &   0.6875619 &  99.3124381 &   0.07413641\\\\\n",
       "\t 0.14 & 99606 &  1576 & 95288 &   210 & 51.44499 &  99.789613 &   1.6270235 &  98.3729765 &   0.21038711\\\\\n",
       "\t 0.16 & 99303 &  3086 & 93778 &   513 & 52.05867 &  99.486054 &   3.1859101 &  96.8140899 &   0.51394566\\\\\n",
       "\t 0.18 & 98814 &  5358 & 91506 &  1002 & 52.96522 &  98.996153 &   5.5314668 &  94.4685332 &   1.00384708\\\\\n",
       "\t 0.20 & 98267 &  7552 & 89312 &  1549 & 53.80262 &  98.448145 &   7.7964982 &  92.2035018 &   1.55185541\\\\\n",
       "\t 0.22 & 97534 & 10442 & 86422 &  2282 & 54.89933 &  97.713793 &  10.7800628 &  89.2199372 &   2.28620662\\\\\n",
       "\t 0.24 & 96693 & 13097 & 83767 &  3123 & 55.82164 &  96.871243 &  13.5210192 &  86.4789808 &   3.12875691\\\\\n",
       "\t 0.26 & 95913 & 15420 & 81444 &  3903 & 56.60616 &  96.089805 &  15.9192270 &  84.0807730 &   3.91019476\\\\\n",
       "\t 0.28 & 94797 & 18443 & 78421 &  5019 & 57.57576 &  94.971748 &  19.0400975 &  80.9599025 &   5.02825198\\\\\n",
       "\t 0.30 & 93271 & 22291 & 74573 &  6545 & 58.75636 &  93.442935 &  23.0126776 &  76.9873224 &   6.55706500\\\\\n",
       "\t 0.32 & 92152 & 24975 & 71889 &  7664 & 59.55206 &  92.321872 &  25.7835728 &  74.2164272 &   7.67812776\\\\\n",
       "\t 0.34 & 90555 & 28255 & 68609 &  9261 & 60.40777 &  90.721928 &  29.1697638 &  70.8302362 &   9.27807165\\\\\n",
       "\t 0.36 & 88177 & 32857 & 64007 & 11639 & 61.53854 &  88.339545 &  33.9207549 &  66.0792451 &  11.66045524\\\\\n",
       "\t 0.38 & 86061 & 36811 & 60053 & 13755 & 62.47305 &  86.219644 &  38.0027668 &  61.9972332 &  13.78035585\\\\\n",
       "\t 0.40 & 83732 & 40507 & 56357 & 16084 & 63.16809 &  83.886351 &  41.8184258 &  58.1815742 &  16.11364911\\\\\n",
       "\t 0.42 & 80700 & 44937 & 51927 & 19116 & 63.87889 &  80.848762 &  46.3918484 &  53.6081516 &  19.15123828\\\\\n",
       "\t 0.44 & 77474 & 49091 & 47773 & 22342 & 64.35072 &  77.616815 &  50.6803353 &  49.3196647 &  22.38318506\\\\\n",
       "\t 0.46 & 74698 & 52503 & 44361 & 25118 & 64.67409 &  74.835698 &  54.2027998 &  45.7972002 &  25.16430232\\\\\n",
       "\t 0.48 & 71353 & 56082 & 40782 & 28463 & 64.79306 &  71.484532 &  57.8976710 &  42.1023290 &  28.51546846\\\\\n",
       "\t 0.50 & 67098 & 60189 & 36675 & 32718 & 64.71782 &  67.221688 &  62.1376363 &  37.8623637 &  32.77831209\\\\\n",
       "\t 0.52 & 63944 & 63264 & 33600 & 35872 & 64.67765 &  64.061874 &  65.3121903 &  34.6878097 &  35.93812615\\\\\n",
       "\t 0.54 & 60143 & 66670 & 30194 & 39673 & 64.47682 &  60.253867 &  68.8284605 &  31.1715395 &  39.74613288\\\\\n",
       "\t 0.56 & 55525 & 70266 & 26598 & 44291 & 63.95719 &  55.627354 &  72.5408821 &  27.4591179 &  44.37264567\\\\\n",
       "\t 0.58 & 51873 & 73048 & 23816 & 47943 & 63.51485 &  51.968622 &  75.4129501 &  24.5870499 &  48.03137774\\\\\n",
       "\t 0.60 & 46169 & 76697 & 20167 & 53647 & 62.47000 &  46.254108 &  79.1800875 &  20.8199125 &  53.74589244\\\\\n",
       "\t 0.62 & 42576 & 79082 & 17782 & 57240 & 61.85581 &  42.654484 &  81.6423026 &  18.3576974 &  57.34551575\\\\\n",
       "\t 0.64 & 36790 & 82285 & 14579 & 63026 & 60.54251 &  36.857818 &  84.9490007 &  15.0509993 &  63.14218161\\\\\n",
       "\t 0.66 & 33413 & 84228 & 12636 & 66403 & 59.81340 &  33.474593 &  86.9549058 &  13.0450942 &  66.52540675\\\\\n",
       "\t 0.68 & 29426 & 86408 & 10456 & 70390 & 58.89465 &  29.480244 &  89.2054840 &  10.7945160 &  70.51975635\\\\\n",
       "\t 0.70 & 25243 & 88415 &  8449 & 74573 & 57.78829 &  25.289533 &  91.2774612 &   8.7225388 &  74.71046726\\\\\n",
       "\t 0.72 & 18598 & 91069 &  5795 & 81218 & 55.75910 &  18.632283 &  94.0173852 &   5.9826148 &  81.36771660\\\\\n",
       "\t 0.74 & 11184 & 93653 &  3211 & 88632 & 53.30334 &  11.204616 &  96.6850429 &   3.3149571 &  88.79538351\\\\\n",
       "\t 0.76 &  9831 & 94124 &  2740 & 89985 & 52.85489 &   9.849122 &  97.1712917 &   2.8287083 &  90.15087761\\\\\n",
       "\t 0.78 &  7921 & 94771 &  2093 & 91895 & 52.21273 &   7.935602 &  97.8392385 &   2.1607615 &  92.06439849\\\\\n",
       "\t 0.80 &  3274 & 96115 &   749 & 96542 & 50.53335 &   3.280035 &  99.2267509 &   0.7732491 &  96.71996474\\\\\n",
       "\t 0.82 &     0 & 96864 &     0 & 99816 & 49.24954 &   0.000000 & 100.0000000 &   0.0000000 & 100.00000000\\\\\n",
       "\t 0.84 &     0 & 96864 &     0 & 99816 & 49.24954 &   0.000000 & 100.0000000 &   0.0000000 & 100.00000000\\\\\n",
       "\t 0.86 &     0 & 96864 &     0 & 99816 & 49.24954 &   0.000000 & 100.0000000 &   0.0000000 & 100.00000000\\\\\n",
       "\t 0.88 &     0 & 96864 &     0 & 99816 & 49.24954 &   0.000000 & 100.0000000 &   0.0000000 & 100.00000000\\\\\n",
       "\t 0.90 &     0 & 96864 &     0 & 99816 & 49.24954 &   0.000000 & 100.0000000 &   0.0000000 & 100.00000000\\\\\n",
       "\t 0.92 &     0 & 96864 &     0 & 99816 & 49.24954 &   0.000000 & 100.0000000 &   0.0000000 & 100.00000000\\\\\n",
       "\t 0.94 &     0 & 96864 &     0 & 99816 & 49.24954 &   0.000000 & 100.0000000 &   0.0000000 & 100.00000000\\\\\n",
       "\t 0.96 &     0 & 96864 &     0 & 99816 & 49.24954 &   0.000000 & 100.0000000 &   0.0000000 & 100.00000000\\\\\n",
       "\t 0.98 &     0 & 96864 &     0 & 99816 & 49.24954 &   0.000000 & 100.0000000 &   0.0000000 & 100.00000000\\\\\n",
       "\t 1.00 &     0 & 96864 &     0 & 99816 & 49.24954 &   0.000000 & 100.0000000 &   0.0000000 & 100.00000000\\\\\n",
       "\\end{tabular}\n"
      ],
      "text/markdown": [
       "\n",
       "A data.frame: 51 × 10\n",
       "\n",
       "| prob.level &lt;dbl&gt; | true.positive &lt;dbl&gt; | true.negative &lt;dbl&gt; | false.positive &lt;dbl&gt; | false.negative &lt;dbl&gt; | correct.percent &lt;dbl&gt; | sensitivity &lt;dbl&gt; | specificity &lt;dbl&gt; | false.pos.rate &lt;dbl&gt; | false.neg.rate &lt;dbl&gt; |\n",
       "|---|---|---|---|---|---|---|---|---|---|\n",
       "| 0.00 | 99816 |     0 | 96864 |     0 | 50.75046 | 100.000000 |   0.0000000 | 100.0000000 |   0.00000000 |\n",
       "| 0.02 | 99816 |     0 | 96864 |     0 | 50.75046 | 100.000000 |   0.0000000 | 100.0000000 |   0.00000000 |\n",
       "| 0.04 | 99816 |     0 | 96864 |     0 | 50.75046 | 100.000000 |   0.0000000 | 100.0000000 |   0.00000000 |\n",
       "| 0.06 | 99816 |     0 | 96864 |     0 | 50.75046 | 100.000000 |   0.0000000 | 100.0000000 |   0.00000000 |\n",
       "| 0.08 | 99816 |     0 | 96864 |     0 | 50.75046 | 100.000000 |   0.0000000 | 100.0000000 |   0.00000000 |\n",
       "| 0.10 | 99802 |   169 | 96695 |    14 | 50.82927 |  99.985974 |   0.1744714 |  99.8255286 |   0.01402581 |\n",
       "| 0.12 | 99742 |   666 | 96198 |    74 | 51.05145 |  99.925864 |   0.6875619 |  99.3124381 |   0.07413641 |\n",
       "| 0.14 | 99606 |  1576 | 95288 |   210 | 51.44499 |  99.789613 |   1.6270235 |  98.3729765 |   0.21038711 |\n",
       "| 0.16 | 99303 |  3086 | 93778 |   513 | 52.05867 |  99.486054 |   3.1859101 |  96.8140899 |   0.51394566 |\n",
       "| 0.18 | 98814 |  5358 | 91506 |  1002 | 52.96522 |  98.996153 |   5.5314668 |  94.4685332 |   1.00384708 |\n",
       "| 0.20 | 98267 |  7552 | 89312 |  1549 | 53.80262 |  98.448145 |   7.7964982 |  92.2035018 |   1.55185541 |\n",
       "| 0.22 | 97534 | 10442 | 86422 |  2282 | 54.89933 |  97.713793 |  10.7800628 |  89.2199372 |   2.28620662 |\n",
       "| 0.24 | 96693 | 13097 | 83767 |  3123 | 55.82164 |  96.871243 |  13.5210192 |  86.4789808 |   3.12875691 |\n",
       "| 0.26 | 95913 | 15420 | 81444 |  3903 | 56.60616 |  96.089805 |  15.9192270 |  84.0807730 |   3.91019476 |\n",
       "| 0.28 | 94797 | 18443 | 78421 |  5019 | 57.57576 |  94.971748 |  19.0400975 |  80.9599025 |   5.02825198 |\n",
       "| 0.30 | 93271 | 22291 | 74573 |  6545 | 58.75636 |  93.442935 |  23.0126776 |  76.9873224 |   6.55706500 |\n",
       "| 0.32 | 92152 | 24975 | 71889 |  7664 | 59.55206 |  92.321872 |  25.7835728 |  74.2164272 |   7.67812776 |\n",
       "| 0.34 | 90555 | 28255 | 68609 |  9261 | 60.40777 |  90.721928 |  29.1697638 |  70.8302362 |   9.27807165 |\n",
       "| 0.36 | 88177 | 32857 | 64007 | 11639 | 61.53854 |  88.339545 |  33.9207549 |  66.0792451 |  11.66045524 |\n",
       "| 0.38 | 86061 | 36811 | 60053 | 13755 | 62.47305 |  86.219644 |  38.0027668 |  61.9972332 |  13.78035585 |\n",
       "| 0.40 | 83732 | 40507 | 56357 | 16084 | 63.16809 |  83.886351 |  41.8184258 |  58.1815742 |  16.11364911 |\n",
       "| 0.42 | 80700 | 44937 | 51927 | 19116 | 63.87889 |  80.848762 |  46.3918484 |  53.6081516 |  19.15123828 |\n",
       "| 0.44 | 77474 | 49091 | 47773 | 22342 | 64.35072 |  77.616815 |  50.6803353 |  49.3196647 |  22.38318506 |\n",
       "| 0.46 | 74698 | 52503 | 44361 | 25118 | 64.67409 |  74.835698 |  54.2027998 |  45.7972002 |  25.16430232 |\n",
       "| 0.48 | 71353 | 56082 | 40782 | 28463 | 64.79306 |  71.484532 |  57.8976710 |  42.1023290 |  28.51546846 |\n",
       "| 0.50 | 67098 | 60189 | 36675 | 32718 | 64.71782 |  67.221688 |  62.1376363 |  37.8623637 |  32.77831209 |\n",
       "| 0.52 | 63944 | 63264 | 33600 | 35872 | 64.67765 |  64.061874 |  65.3121903 |  34.6878097 |  35.93812615 |\n",
       "| 0.54 | 60143 | 66670 | 30194 | 39673 | 64.47682 |  60.253867 |  68.8284605 |  31.1715395 |  39.74613288 |\n",
       "| 0.56 | 55525 | 70266 | 26598 | 44291 | 63.95719 |  55.627354 |  72.5408821 |  27.4591179 |  44.37264567 |\n",
       "| 0.58 | 51873 | 73048 | 23816 | 47943 | 63.51485 |  51.968622 |  75.4129501 |  24.5870499 |  48.03137774 |\n",
       "| 0.60 | 46169 | 76697 | 20167 | 53647 | 62.47000 |  46.254108 |  79.1800875 |  20.8199125 |  53.74589244 |\n",
       "| 0.62 | 42576 | 79082 | 17782 | 57240 | 61.85581 |  42.654484 |  81.6423026 |  18.3576974 |  57.34551575 |\n",
       "| 0.64 | 36790 | 82285 | 14579 | 63026 | 60.54251 |  36.857818 |  84.9490007 |  15.0509993 |  63.14218161 |\n",
       "| 0.66 | 33413 | 84228 | 12636 | 66403 | 59.81340 |  33.474593 |  86.9549058 |  13.0450942 |  66.52540675 |\n",
       "| 0.68 | 29426 | 86408 | 10456 | 70390 | 58.89465 |  29.480244 |  89.2054840 |  10.7945160 |  70.51975635 |\n",
       "| 0.70 | 25243 | 88415 |  8449 | 74573 | 57.78829 |  25.289533 |  91.2774612 |   8.7225388 |  74.71046726 |\n",
       "| 0.72 | 18598 | 91069 |  5795 | 81218 | 55.75910 |  18.632283 |  94.0173852 |   5.9826148 |  81.36771660 |\n",
       "| 0.74 | 11184 | 93653 |  3211 | 88632 | 53.30334 |  11.204616 |  96.6850429 |   3.3149571 |  88.79538351 |\n",
       "| 0.76 |  9831 | 94124 |  2740 | 89985 | 52.85489 |   9.849122 |  97.1712917 |   2.8287083 |  90.15087761 |\n",
       "| 0.78 |  7921 | 94771 |  2093 | 91895 | 52.21273 |   7.935602 |  97.8392385 |   2.1607615 |  92.06439849 |\n",
       "| 0.80 |  3274 | 96115 |   749 | 96542 | 50.53335 |   3.280035 |  99.2267509 |   0.7732491 |  96.71996474 |\n",
       "| 0.82 |     0 | 96864 |     0 | 99816 | 49.24954 |   0.000000 | 100.0000000 |   0.0000000 | 100.00000000 |\n",
       "| 0.84 |     0 | 96864 |     0 | 99816 | 49.24954 |   0.000000 | 100.0000000 |   0.0000000 | 100.00000000 |\n",
       "| 0.86 |     0 | 96864 |     0 | 99816 | 49.24954 |   0.000000 | 100.0000000 |   0.0000000 | 100.00000000 |\n",
       "| 0.88 |     0 | 96864 |     0 | 99816 | 49.24954 |   0.000000 | 100.0000000 |   0.0000000 | 100.00000000 |\n",
       "| 0.90 |     0 | 96864 |     0 | 99816 | 49.24954 |   0.000000 | 100.0000000 |   0.0000000 | 100.00000000 |\n",
       "| 0.92 |     0 | 96864 |     0 | 99816 | 49.24954 |   0.000000 | 100.0000000 |   0.0000000 | 100.00000000 |\n",
       "| 0.94 |     0 | 96864 |     0 | 99816 | 49.24954 |   0.000000 | 100.0000000 |   0.0000000 | 100.00000000 |\n",
       "| 0.96 |     0 | 96864 |     0 | 99816 | 49.24954 |   0.000000 | 100.0000000 |   0.0000000 | 100.00000000 |\n",
       "| 0.98 |     0 | 96864 |     0 | 99816 | 49.24954 |   0.000000 | 100.0000000 |   0.0000000 | 100.00000000 |\n",
       "| 1.00 |     0 | 96864 |     0 | 99816 | 49.24954 |   0.000000 | 100.0000000 |   0.0000000 | 100.00000000 |\n",
       "\n"
      ],
      "text/plain": [
       "   prob.level true.positive true.negative false.positive false.negative\n",
       "1  0.00       99816             0         96864              0         \n",
       "2  0.02       99816             0         96864              0         \n",
       "3  0.04       99816             0         96864              0         \n",
       "4  0.06       99816             0         96864              0         \n",
       "5  0.08       99816             0         96864              0         \n",
       "6  0.10       99802           169         96695             14         \n",
       "7  0.12       99742           666         96198             74         \n",
       "8  0.14       99606          1576         95288            210         \n",
       "9  0.16       99303          3086         93778            513         \n",
       "10 0.18       98814          5358         91506           1002         \n",
       "11 0.20       98267          7552         89312           1549         \n",
       "12 0.22       97534         10442         86422           2282         \n",
       "13 0.24       96693         13097         83767           3123         \n",
       "14 0.26       95913         15420         81444           3903         \n",
       "15 0.28       94797         18443         78421           5019         \n",
       "16 0.30       93271         22291         74573           6545         \n",
       "17 0.32       92152         24975         71889           7664         \n",
       "18 0.34       90555         28255         68609           9261         \n",
       "19 0.36       88177         32857         64007          11639         \n",
       "20 0.38       86061         36811         60053          13755         \n",
       "21 0.40       83732         40507         56357          16084         \n",
       "22 0.42       80700         44937         51927          19116         \n",
       "23 0.44       77474         49091         47773          22342         \n",
       "24 0.46       74698         52503         44361          25118         \n",
       "25 0.48       71353         56082         40782          28463         \n",
       "26 0.50       67098         60189         36675          32718         \n",
       "27 0.52       63944         63264         33600          35872         \n",
       "28 0.54       60143         66670         30194          39673         \n",
       "29 0.56       55525         70266         26598          44291         \n",
       "30 0.58       51873         73048         23816          47943         \n",
       "31 0.60       46169         76697         20167          53647         \n",
       "32 0.62       42576         79082         17782          57240         \n",
       "33 0.64       36790         82285         14579          63026         \n",
       "34 0.66       33413         84228         12636          66403         \n",
       "35 0.68       29426         86408         10456          70390         \n",
       "36 0.70       25243         88415          8449          74573         \n",
       "37 0.72       18598         91069          5795          81218         \n",
       "38 0.74       11184         93653          3211          88632         \n",
       "39 0.76        9831         94124          2740          89985         \n",
       "40 0.78        7921         94771          2093          91895         \n",
       "41 0.80        3274         96115           749          96542         \n",
       "42 0.82           0         96864             0          99816         \n",
       "43 0.84           0         96864             0          99816         \n",
       "44 0.86           0         96864             0          99816         \n",
       "45 0.88           0         96864             0          99816         \n",
       "46 0.90           0         96864             0          99816         \n",
       "47 0.92           0         96864             0          99816         \n",
       "48 0.94           0         96864             0          99816         \n",
       "49 0.96           0         96864             0          99816         \n",
       "50 0.98           0         96864             0          99816         \n",
       "51 1.00           0         96864             0          99816         \n",
       "   correct.percent sensitivity specificity false.pos.rate false.neg.rate\n",
       "1  50.75046        100.000000    0.0000000 100.0000000      0.00000000  \n",
       "2  50.75046        100.000000    0.0000000 100.0000000      0.00000000  \n",
       "3  50.75046        100.000000    0.0000000 100.0000000      0.00000000  \n",
       "4  50.75046        100.000000    0.0000000 100.0000000      0.00000000  \n",
       "5  50.75046        100.000000    0.0000000 100.0000000      0.00000000  \n",
       "6  50.82927         99.985974    0.1744714  99.8255286      0.01402581  \n",
       "7  51.05145         99.925864    0.6875619  99.3124381      0.07413641  \n",
       "8  51.44499         99.789613    1.6270235  98.3729765      0.21038711  \n",
       "9  52.05867         99.486054    3.1859101  96.8140899      0.51394566  \n",
       "10 52.96522         98.996153    5.5314668  94.4685332      1.00384708  \n",
       "11 53.80262         98.448145    7.7964982  92.2035018      1.55185541  \n",
       "12 54.89933         97.713793   10.7800628  89.2199372      2.28620662  \n",
       "13 55.82164         96.871243   13.5210192  86.4789808      3.12875691  \n",
       "14 56.60616         96.089805   15.9192270  84.0807730      3.91019476  \n",
       "15 57.57576         94.971748   19.0400975  80.9599025      5.02825198  \n",
       "16 58.75636         93.442935   23.0126776  76.9873224      6.55706500  \n",
       "17 59.55206         92.321872   25.7835728  74.2164272      7.67812776  \n",
       "18 60.40777         90.721928   29.1697638  70.8302362      9.27807165  \n",
       "19 61.53854         88.339545   33.9207549  66.0792451     11.66045524  \n",
       "20 62.47305         86.219644   38.0027668  61.9972332     13.78035585  \n",
       "21 63.16809         83.886351   41.8184258  58.1815742     16.11364911  \n",
       "22 63.87889         80.848762   46.3918484  53.6081516     19.15123828  \n",
       "23 64.35072         77.616815   50.6803353  49.3196647     22.38318506  \n",
       "24 64.67409         74.835698   54.2027998  45.7972002     25.16430232  \n",
       "25 64.79306         71.484532   57.8976710  42.1023290     28.51546846  \n",
       "26 64.71782         67.221688   62.1376363  37.8623637     32.77831209  \n",
       "27 64.67765         64.061874   65.3121903  34.6878097     35.93812615  \n",
       "28 64.47682         60.253867   68.8284605  31.1715395     39.74613288  \n",
       "29 63.95719         55.627354   72.5408821  27.4591179     44.37264567  \n",
       "30 63.51485         51.968622   75.4129501  24.5870499     48.03137774  \n",
       "31 62.47000         46.254108   79.1800875  20.8199125     53.74589244  \n",
       "32 61.85581         42.654484   81.6423026  18.3576974     57.34551575  \n",
       "33 60.54251         36.857818   84.9490007  15.0509993     63.14218161  \n",
       "34 59.81340         33.474593   86.9549058  13.0450942     66.52540675  \n",
       "35 58.89465         29.480244   89.2054840  10.7945160     70.51975635  \n",
       "36 57.78829         25.289533   91.2774612   8.7225388     74.71046726  \n",
       "37 55.75910         18.632283   94.0173852   5.9826148     81.36771660  \n",
       "38 53.30334         11.204616   96.6850429   3.3149571     88.79538351  \n",
       "39 52.85489          9.849122   97.1712917   2.8287083     90.15087761  \n",
       "40 52.21273          7.935602   97.8392385   2.1607615     92.06439849  \n",
       "41 50.53335          3.280035   99.2267509   0.7732491     96.71996474  \n",
       "42 49.24954          0.000000  100.0000000   0.0000000    100.00000000  \n",
       "43 49.24954          0.000000  100.0000000   0.0000000    100.00000000  \n",
       "44 49.24954          0.000000  100.0000000   0.0000000    100.00000000  \n",
       "45 49.24954          0.000000  100.0000000   0.0000000    100.00000000  \n",
       "46 49.24954          0.000000  100.0000000   0.0000000    100.00000000  \n",
       "47 49.24954          0.000000  100.0000000   0.0000000    100.00000000  \n",
       "48 49.24954          0.000000  100.0000000   0.0000000    100.00000000  \n",
       "49 49.24954          0.000000  100.0000000   0.0000000    100.00000000  \n",
       "50 49.24954          0.000000  100.0000000   0.0000000    100.00000000  \n",
       "51 49.24954          0.000000  100.0000000   0.0000000    100.00000000  "
      ]
     },
     "metadata": {},
     "output_type": "display_data"
    }
   ],
   "source": [
    "df <- data.frame(matrix(ncol = 9, nrow = 51))\n",
    "colnames(df) <- c(\"true.positive\", \"true.negative\", \"false.positive\", \"false.negative\", \"correct.percent\", \"sensitivity\", \"specificity\", \"false.pos.rate\", \"false.neg.rate\")\n",
    "head(df)\n",
    "\n",
    "prob.level <- seq(0, 1, length.out=51) \n",
    "prob.level\n",
    "class.table.data <- cbind(prob.level, df) \n",
    "head(class.table.data) \n",
    "\n",
    "class.table.data$true.positive <- rep(c(0), c(51))\n",
    "class.table.data$true.negative <- rep(c(0), c(51))\n",
    "class.table.data$false.positive <- rep(c(0), c(51))\n",
    "class.table.data$false.negative <- rep(c(0), c(51))\n",
    "head(class.table.data)\n",
    "\n",
    "length(data_final$alcday5_new)\n",
    "#length(fitted(model1) > class.table.data$prob.level[i])\n",
    "\n",
    "for (i in 1:51) {\n",
    "  class.table <- table(data_final$alcday5_new, fitted(model1) > class.table.data$prob.level[i])\n",
    "  \n",
    "  col.true.num <- grep(\"TRUE\", colnames(class.table))\n",
    "  col.false.num <- grep(\"FALSE\", colnames(class.table))\n",
    "  \n",
    "  if (length(col.true.num) > 0) {\n",
    "    class.table.data$false.positive [i] <- class.table[1, col.true.num]\n",
    "    class.table.data$true.positive [i] <- class.table[2, col.true.num] }\n",
    "  \n",
    "  if (length(col.false.num) > 0) {\n",
    "    class.table.data$true.negative [i] <- class.table[1, col.false.num]\n",
    "    class.table.data$false.negative [i] <- class.table[2, col.false.num] }  }\n",
    "\n",
    "head(class.table.data)\n",
    "\n",
    "class.table.data$correct.percent <- (class.table.data$true.positive + class.table.data$true.negative)/nrow(data_final)*100\n",
    "class.table.data$sensitivity <- (class.table.data$true.positive)/sum(data_final$alcday5_new)*100\n",
    "class.table.data$specificity <- (class.table.data$true.negative)/(nrow(data_final) - sum(data_final$alcday5_new))*100\n",
    "class.table.data$false.neg.rate <- (class.table.data$false.negative)/sum(data_final$alcday5_new)*100\n",
    "class.table.data$false.pos.rate <- (class.table.data$false.positive)/(nrow(data_final) - sum(data_final$alcday5_new))*100\n",
    "class.table.data"
   ]
  },
  {
   "cell_type": "markdown",
   "metadata": {},
   "source": [
    "<div class=\"alert alert-block alert-info\"> \n",
    "    \n",
    "## ROC curve + AUC \n",
    "\n"
   ]
  },
  {
   "cell_type": "code",
   "execution_count": 28,
   "metadata": {
    "scrolled": false
   },
   "outputs": [],
   "source": [
    "class.table.data[is.na(class.table.data)] <- 0"
   ]
  },
  {
   "cell_type": "code",
   "execution_count": 29,
   "metadata": {},
   "outputs": [
    {
     "name": "stdout",
     "output_type": "stream",
     "text": [
      "Area under the ROC curve: 0.7000823"
     ]
    },
    {
     "data": {
      "image/png": "[encoded data removed]",
      "text/plain": [
       "plot without title"
      ]
     },
     "metadata": {
      "image/png": {
       "height": 420,
       "width": 420
      }
     },
     "output_type": "display_data"
    }
   ],
   "source": [
    "plot(class.table.data$sensitivity ~ class.table.data$false.pos.rate, data=class.table.data, ylab = \"Sensitivity\", xlab = \"False positive rate = 1 - Specificity\", xlim=c(1,100), ylim= c(1,100))\n",
    "lines(sensitivity ~ false.pos.rate, data=class.table.data)\n",
    "abline(0, 1)\n",
    "\n",
    "library(zoo)\n",
    "\n",
    "x <- class.table.data$false.pos.rate/100\n",
    "y <- class.table.data$sensitivity/100\n",
    "id <- order(x)\n",
    "\n",
    "AUC <- sum(diff(x[id])*rollmean(y[id],2)); \n",
    "cat('Area under the ROC curve:', AUC) # average of left and right to create rectangle; then take sum of all the pieces"
   ]
  },
  {
   "cell_type": "markdown",
   "metadata": {},
   "source": [
    "**Interpretaton:**\n",
    "\n",
    "An Area Under the ROC Curve (AUC) value of 0.7000823 indicates that the model's predictive performance is moderate.\n",
    "\n",
    "Depending on the specific application or domain, a 0.7 AUC value could be considered moderate or acceptable, but further optimization or refinement of the model may be needed to achieve higher accuracy or predictive performance. "
   ]
  },
  {
   "cell_type": "markdown",
   "metadata": {},
   "source": [
    "<div class=\"alert alert-block alert-danger\">\n",
    "<a id=\"Data_prep2\"></a>\n",
    "\n",
    "# Data preparation for Poisson regression \n",
    "</div>"
   ]
  },
  {
   "cell_type": "code",
   "execution_count": 30,
   "metadata": {},
   "outputs": [
    {
     "data": {
      "text/html": [
       "99816"
      ],
      "text/latex": [
       "99816"
      ],
      "text/markdown": [
       "99816"
      ],
      "text/plain": [
       "[1] 99816"
      ]
     },
     "metadata": {},
     "output_type": "display_data"
    }
   ],
   "source": [
    "data_p <- subset(data_final, alcday5_new > 0)\n",
    "\n",
    "nrow(data_p)"
   ]
  },
  {
   "cell_type": "markdown",
   "metadata": {},
   "source": [
    "<div class=\"alert alert-block alert-warning\">\n",
    "<a id=\"EDA2\"></a>\n",
    "\n",
    "# Exploring the response variable \n",
    "    \n",
    "The focus of this analysis is to examine variables associated with consuming more than the recommended maximum of alcohol. The focus is only on individuals who have consumed at least one alcohol drink in the past 30 days (this helps remove excess 0's). The variable `drnk3ge5` will be used as the response variable.  \n",
    "<br>\n"
   ]
  },
  {
   "cell_type": "code",
   "execution_count": 31,
   "metadata": {
    "scrolled": false
   },
   "outputs": [
    {
     "data": {
      "text/html": [
       "1.22753867115492"
      ],
      "text/latex": [
       "1.22753867115492"
      ],
      "text/markdown": [
       "1.22753867115492"
      ],
      "text/plain": [
       "[1] 1.227539"
      ]
     },
     "metadata": {},
     "output_type": "display_data"
    },
    {
     "data": {
      "text/html": [
       "14.0596116986498"
      ],
      "text/latex": [
       "14.0596116986498"
      ],
      "text/markdown": [
       "14.0596116986498"
      ],
      "text/plain": [
       "[1] 14.05961"
      ]
     },
     "metadata": {},
     "output_type": "display_data"
    },
    {
     "data": {
      "text/html": [
       "<style>\n",
       ".list-inline {list-style: none; margin:0; padding: 0}\n",
       ".list-inline>li {display: inline-block}\n",
       ".list-inline>li:not(:last-child)::after {content: \"\\00b7\"; padding: 0 .5ex}\n",
       "</style>\n",
       "<ol class=list-inline><li>29247.3748213825</li><li>35902.2836230099</li><li>22035.7207650084</li><li>9016.56646193979</li><li>2767.04600326741</li><li>679.331194775084</li><li>138.984218684716</li><li>24.3726433022488</li><li>4.32026863002102</li></ol>\n"
      ],
      "text/latex": [
       "\\begin{enumerate*}\n",
       "\\item 29247.3748213825\n",
       "\\item 35902.2836230099\n",
       "\\item 22035.7207650084\n",
       "\\item 9016.56646193979\n",
       "\\item 2767.04600326741\n",
       "\\item 679.331194775084\n",
       "\\item 138.984218684716\n",
       "\\item 24.3726433022488\n",
       "\\item 4.32026863002102\n",
       "\\end{enumerate*}\n"
      ],
      "text/markdown": [
       "1. 29247.3748213825\n",
       "2. 35902.2836230099\n",
       "3. 22035.7207650084\n",
       "4. 9016.56646193979\n",
       "5. 2767.04600326741\n",
       "6. 679.331194775084\n",
       "7. 138.984218684716\n",
       "8. 24.3726433022488\n",
       "9. 4.32026863002102\n",
       "\n",
       "\n"
      ],
      "text/plain": [
       "[1] 29247.374821 35902.283623 22035.720765  9016.566462  2767.046003\n",
       "[6]   679.331195   138.984219    24.372643     4.320269"
      ]
     },
     "metadata": {},
     "output_type": "display_data"
    },
    {
     "data": {
      "text/html": [
       "3954"
      ],
      "text/latex": [
       "3954"
      ],
      "text/markdown": [
       "3954"
      ],
      "text/plain": [
       "[1] 3954"
      ]
     },
     "metadata": {},
     "output_type": "display_data"
    },
    {
     "data": {
      "text/html": [
       "<table class=\"dataframe\">\n",
       "<caption>A data.frame: 9 × 3</caption>\n",
       "<thead>\n",
       "\t<tr><th></th><th scope=col>Var1</th><th scope=col>Freq</th><th scope=col>expected.freq</th></tr>\n",
       "\t<tr><th></th><th scope=col>&lt;dbl&gt;</th><th scope=col>&lt;int&gt;</th><th scope=col>&lt;dbl&gt;</th></tr>\n",
       "</thead>\n",
       "<tbody>\n",
       "\t<tr><th scope=row>1</th><td>0</td><td>71642</td><td>29247.374821</td></tr>\n",
       "\t<tr><th scope=row>2</th><td>1</td><td>10093</td><td>35902.283623</td></tr>\n",
       "\t<tr><th scope=row>3</th><td>2</td><td> 5819</td><td>22035.720765</td></tr>\n",
       "\t<tr><th scope=row>4</th><td>3</td><td> 2729</td><td> 9016.566462</td></tr>\n",
       "\t<tr><th scope=row>5</th><td>4</td><td> 2533</td><td> 2767.046003</td></tr>\n",
       "\t<tr><th scope=row>6</th><td>5</td><td> 1868</td><td>  679.331195</td></tr>\n",
       "\t<tr><th scope=row>7</th><td>6</td><td>  731</td><td>  138.984219</td></tr>\n",
       "\t<tr><th scope=row>8</th><td>7</td><td>  447</td><td>   24.372643</td></tr>\n",
       "\t<tr><th scope=row>9</th><td>8</td><td> 3954</td><td>    4.320269</td></tr>\n",
       "</tbody>\n",
       "</table>\n"
      ],
      "text/latex": [
       "A data.frame: 9 × 3\n",
       "\\begin{tabular}{r|lll}\n",
       "  & Var1 & Freq & expected.freq\\\\\n",
       "  & <dbl> & <int> & <dbl>\\\\\n",
       "\\hline\n",
       "\t1 & 0 & 71642 & 29247.374821\\\\\n",
       "\t2 & 1 & 10093 & 35902.283623\\\\\n",
       "\t3 & 2 &  5819 & 22035.720765\\\\\n",
       "\t4 & 3 &  2729 &  9016.566462\\\\\n",
       "\t5 & 4 &  2533 &  2767.046003\\\\\n",
       "\t6 & 5 &  1868 &   679.331195\\\\\n",
       "\t7 & 6 &   731 &   138.984219\\\\\n",
       "\t8 & 7 &   447 &    24.372643\\\\\n",
       "\t9 & 8 &  3954 &     4.320269\\\\\n",
       "\\end{tabular}\n"
      ],
      "text/markdown": [
       "\n",
       "A data.frame: 9 × 3\n",
       "\n",
       "| <!--/--> | Var1 &lt;dbl&gt; | Freq &lt;int&gt; | expected.freq &lt;dbl&gt; |\n",
       "|---|---|---|---|\n",
       "| 1 | 0 | 71642 | 29247.374821 |\n",
       "| 2 | 1 | 10093 | 35902.283623 |\n",
       "| 3 | 2 |  5819 | 22035.720765 |\n",
       "| 4 | 3 |  2729 |  9016.566462 |\n",
       "| 5 | 4 |  2533 |  2767.046003 |\n",
       "| 6 | 5 |  1868 |   679.331195 |\n",
       "| 7 | 6 |   731 |   138.984219 |\n",
       "| 8 | 7 |   447 |    24.372643 |\n",
       "| 9 | 8 |  3954 |     4.320269 |\n",
       "\n"
      ],
      "text/plain": [
       "  Var1 Freq  expected.freq\n",
       "1 0    71642 29247.374821 \n",
       "2 1    10093 35902.283623 \n",
       "3 2     5819 22035.720765 \n",
       "4 3     2729  9016.566462 \n",
       "5 4     2533  2767.046003 \n",
       "6 5     1868   679.331195 \n",
       "7 6      731   138.984219 \n",
       "8 7      447    24.372643 \n",
       "9 8     3954     4.320269 "
      ]
     },
     "metadata": {},
     "output_type": "display_data"
    },
    {
     "data": {
      "text/html": [
       "0"
      ],
      "text/latex": [
       "0"
      ],
      "text/markdown": [
       "0"
      ],
      "text/plain": [
       "[1] 0"
      ]
     },
     "metadata": {},
     "output_type": "display_data"
    },
    {
     "name": "stderr",
     "output_type": "stream",
     "text": [
      "Warning message in chisq.test(freq.table$Freq, p = freq.table$expected.freq/nrow(data_p)):\n",
      "\"Chi-squared approximation may be incorrect\"\n"
     ]
    },
    {
     "data": {
      "text/plain": [
       "\n",
       "\tChi-squared test for given probabilities\n",
       "\n",
       "data:  freq.table$Freq\n",
       "X-squared = 3719154, df = 8, p-value < 2.2e-16\n"
      ]
     },
     "metadata": {},
     "output_type": "display_data"
    },
    {
     "data": {
      "image/png": "[encoded data removed]",
      "text/plain": [
       "Plot with title \"Histogram of data_p$drnk3ge5\""
      ]
     },
     "metadata": {
      "image/png": {
       "height": 420,
       "width": 420
      }
     },
     "output_type": "display_data"
    }
   ],
   "source": [
    "hist(data_p$drnk3ge5, breaks = seq(0,30,by = 1))\n",
    "\n",
    "#mean \n",
    "mean(data_p$drnk3ge5)\n",
    "\n",
    "#variance\n",
    "var(data_p$drnk3ge5)\n",
    "#mean is not equal to variance\n",
    "\n",
    "#conducting a chi-square fit test \n",
    "expected.freq <- vector(\"numeric\")\n",
    "\n",
    "for (i in 1:31) {\n",
    "  expected.freq [i] <- exp(-mean(data_p$drnk3ge5))*mean(data_p$drnk3ge5)^(i-1)/factorial(i-1)*nrow(data_p) \n",
    "}\n",
    "\n",
    "\n",
    "#last 4 values are less than 5, so we are going to group that into the last element(13th)\n",
    "\n",
    "expected.freq <- vector(\"numeric\")\n",
    "\n",
    "for (i in 1:8) {\n",
    "  expected.freq [i] <- exp(-mean(data_p$drnk3ge5))*mean(data_p$drnk3ge5)^(i-1)/factorial(i-1)*nrow(data_p)  \n",
    "}\n",
    "\n",
    "\n",
    "expected.freq [9] <- c(nrow(data_p) -sum(expected.freq)); expected.freq\n",
    "\n",
    "frequency.table <- as.data.frame(table(data_p$drnk3ge5))\n",
    "\n",
    "\n",
    "sum(frequency.table$Freq[9:31])\n",
    "\n",
    "frequency.table$Freq [9] <- c(sum(frequency.table$Freq[9:31]))\n",
    "\n",
    "frequency.table$Var1 <- as.numeric(as.character(frequency.table$Var1))\n",
    "frequency.table.new <- subset(frequency.table, frequency.table$Var1 < 9)\n",
    "\n",
    "\n",
    "freq.table <- cbind(frequency.table.new, expected.freq); freq.table\n",
    "\n",
    "chi.squared.statistic <- sum((freq.table$Freq - freq.table$expected.freq)^2/freq.table$expected.freq)\n",
    "\n",
    "\n",
    "1-pchisq(chi.squared.statistic, df=nrow(freq.table)-1)\n",
    "\n",
    "#chi square test \n",
    "chisq.test(freq.table$Freq, p=freq.table$expected.freq/nrow(data_p))"
   ]
  },
  {
   "cell_type": "code",
   "execution_count": 32,
   "metadata": {},
   "outputs": [
    {
     "data": {
      "text/html": [
       "1.22753867115492"
      ],
      "text/latex": [
       "1.22753867115492"
      ],
      "text/markdown": [
       "1.22753867115492"
      ],
      "text/plain": [
       "[1] 1.227539"
      ]
     },
     "metadata": {},
     "output_type": "display_data"
    },
    {
     "data": {
      "text/html": [
       "99816"
      ],
      "text/latex": [
       "99816"
      ],
      "text/markdown": [
       "99816"
      ],
      "text/plain": [
       "[1] 99816"
      ]
     },
     "metadata": {},
     "output_type": "display_data"
    }
   ],
   "source": [
    "mean(data_p$drnk3ge5)\n",
    "\n",
    "nrow(data_p)"
   ]
  },
  {
   "cell_type": "code",
   "execution_count": 33,
   "metadata": {},
   "outputs": [
    {
     "data": {
      "image/png": "[encoded data removed]",
      "text/plain": [
       "Plot with title \"Histogram of poisson.sim.data\""
      ]
     },
     "metadata": {
      "image/png": {
       "height": 420,
       "width": 420
      }
     },
     "output_type": "display_data"
    }
   ],
   "source": [
    "poisson.sim.data <- rpois(99816,1.22753867115492)\n",
    "hist(poisson.sim.data, breaks=seq(0, 30, by=0.5))\n",
    "\n"
   ]
  },
  {
   "cell_type": "markdown",
   "metadata": {},
   "source": [
    "Based on this chi-squared test statistic the observed data significantly deviates from the expected frequencies under the null hypothesis of a Poisson distribution.\n",
    "Therefore, based on the chi-squared goodness-of-fit test, we have evidence to reject the hypothesis that the response variable \"drnk3ge5\" follows a Poisson distribution."
   ]
  },
  {
   "cell_type": "markdown",
   "metadata": {},
   "source": [
    "##### <div class=\"alert alert-block alert-warning\">\n",
    "<a id=\"EDA2\"></a>\n",
    "\n",
    "# Predictions and Exploratory Data Analysis for Poisson Regression \n"
   ]
  },
  {
   "cell_type": "code",
   "execution_count": 34,
   "metadata": {},
   "outputs": [
    {
     "data": {
      "text/html": [
       "<table class=\"dataframe\">\n",
       "<caption>A data.frame: 6 × 11</caption>\n",
       "<thead>\n",
       "\t<tr><th></th><th scope=col>physhlth</th><th scope=col>menthlth</th><th scope=col>poorhlth</th><th scope=col>sleptim1</th><th scope=col>marital</th><th scope=col>educa</th><th scope=col>income2</th><th scope=col>sex</th><th scope=col>alcday5</th><th scope=col>drnk3ge5</th><th scope=col>alcday5_new</th></tr>\n",
       "\t<tr><th></th><th scope=col>&lt;int&gt;</th><th scope=col>&lt;int&gt;</th><th scope=col>&lt;int&gt;</th><th scope=col>&lt;int&gt;</th><th scope=col>&lt;fct&gt;</th><th scope=col>&lt;fct&gt;</th><th scope=col>&lt;fct&gt;</th><th scope=col>&lt;fct&gt;</th><th scope=col>&lt;int&gt;</th><th scope=col>&lt;dbl&gt;</th><th scope=col>&lt;dbl&gt;</th></tr>\n",
       "</thead>\n",
       "<tbody>\n",
       "\t<tr><th scope=row>3</th><td> 3</td><td>2</td><td> 0</td><td>9</td><td>Married</td><td>College 4 years or more (College graduate)                  </td><td>$75,000 or more  </td><td>Female</td><td>220</td><td>20</td><td>1</td></tr>\n",
       "\t<tr><th scope=row>4</th><td> 2</td><td>0</td><td> 0</td><td>8</td><td>Married</td><td>Grade 12 or GED (High school graduate)                      </td><td>Less than $75,000</td><td>Female</td><td>208</td><td> 0</td><td>1</td></tr>\n",
       "\t<tr><th scope=row>5</th><td>10</td><td>2</td><td> 0</td><td>6</td><td>Married</td><td>College 4 years or more (College graduate)                  </td><td>Less than $50,000</td><td>Male  </td><td>210</td><td> 0</td><td>1</td></tr>\n",
       "\t<tr><th scope=row>8</th><td> 5</td><td>0</td><td>10</td><td>6</td><td>Widowed</td><td>College 1 year to 3 years (Some college or technical school)</td><td>Less than $50,000</td><td>Female</td><td>202</td><td> 0</td><td>1</td></tr>\n",
       "\t<tr><th scope=row>11</th><td> 0</td><td>1</td><td> 0</td><td>6</td><td>Married</td><td>College 4 years or more (College graduate)                  </td><td>$75,000 or more  </td><td>Male  </td><td>205</td><td> 0</td><td>1</td></tr>\n",
       "\t<tr><th scope=row>19</th><td> 3</td><td>3</td><td> 0</td><td>6</td><td>Married</td><td>Grade 12 or GED (High school graduate)                      </td><td>$75,000 or more  </td><td>Female</td><td>201</td><td> 0</td><td>1</td></tr>\n",
       "</tbody>\n",
       "</table>\n"
      ],
      "text/latex": [
       "A data.frame: 6 × 11\n",
       "\\begin{tabular}{r|lllllllllll}\n",
       "  & physhlth & menthlth & poorhlth & sleptim1 & marital & educa & income2 & sex & alcday5 & drnk3ge5 & alcday5\\_new\\\\\n",
       "  & <int> & <int> & <int> & <int> & <fct> & <fct> & <fct> & <fct> & <int> & <dbl> & <dbl>\\\\\n",
       "\\hline\n",
       "\t3 &  3 & 2 &  0 & 9 & Married & College 4 years or more (College graduate)                   & \\$75,000 or more   & Female & 220 & 20 & 1\\\\\n",
       "\t4 &  2 & 0 &  0 & 8 & Married & Grade 12 or GED (High school graduate)                       & Less than \\$75,000 & Female & 208 &  0 & 1\\\\\n",
       "\t5 & 10 & 2 &  0 & 6 & Married & College 4 years or more (College graduate)                   & Less than \\$50,000 & Male   & 210 &  0 & 1\\\\\n",
       "\t8 &  5 & 0 & 10 & 6 & Widowed & College 1 year to 3 years (Some college or technical school) & Less than \\$50,000 & Female & 202 &  0 & 1\\\\\n",
       "\t11 &  0 & 1 &  0 & 6 & Married & College 4 years or more (College graduate)                   & \\$75,000 or more   & Male   & 205 &  0 & 1\\\\\n",
       "\t19 &  3 & 3 &  0 & 6 & Married & Grade 12 or GED (High school graduate)                       & \\$75,000 or more   & Female & 201 &  0 & 1\\\\\n",
       "\\end{tabular}\n"
      ],
      "text/markdown": [
       "\n",
       "A data.frame: 6 × 11\n",
       "\n",
       "| <!--/--> | physhlth &lt;int&gt; | menthlth &lt;int&gt; | poorhlth &lt;int&gt; | sleptim1 &lt;int&gt; | marital &lt;fct&gt; | educa &lt;fct&gt; | income2 &lt;fct&gt; | sex &lt;fct&gt; | alcday5 &lt;int&gt; | drnk3ge5 &lt;dbl&gt; | alcday5_new &lt;dbl&gt; |\n",
       "|---|---|---|---|---|---|---|---|---|---|---|---|\n",
       "| 3 |  3 | 2 |  0 | 9 | Married | College 4 years or more (College graduate)                   | $75,000 or more   | Female | 220 | 20 | 1 |\n",
       "| 4 |  2 | 0 |  0 | 8 | Married | Grade 12 or GED (High school graduate)                       | Less than $75,000 | Female | 208 |  0 | 1 |\n",
       "| 5 | 10 | 2 |  0 | 6 | Married | College 4 years or more (College graduate)                   | Less than $50,000 | Male   | 210 |  0 | 1 |\n",
       "| 8 |  5 | 0 | 10 | 6 | Widowed | College 1 year to 3 years (Some college or technical school) | Less than $50,000 | Female | 202 |  0 | 1 |\n",
       "| 11 |  0 | 1 |  0 | 6 | Married | College 4 years or more (College graduate)                   | $75,000 or more   | Male   | 205 |  0 | 1 |\n",
       "| 19 |  3 | 3 |  0 | 6 | Married | Grade 12 or GED (High school graduate)                       | $75,000 or more   | Female | 201 |  0 | 1 |\n",
       "\n"
      ],
      "text/plain": [
       "   physhlth menthlth poorhlth sleptim1 marital\n",
       "3   3       2         0       9        Married\n",
       "4   2       0         0       8        Married\n",
       "5  10       2         0       6        Married\n",
       "8   5       0        10       6        Widowed\n",
       "11  0       1         0       6        Married\n",
       "19  3       3         0       6        Married\n",
       "   educa                                                       \n",
       "3  College 4 years or more (College graduate)                  \n",
       "4  Grade 12 or GED (High school graduate)                      \n",
       "5  College 4 years or more (College graduate)                  \n",
       "8  College 1 year to 3 years (Some college or technical school)\n",
       "11 College 4 years or more (College graduate)                  \n",
       "19 Grade 12 or GED (High school graduate)                      \n",
       "   income2           sex    alcday5 drnk3ge5 alcday5_new\n",
       "3  $75,000 or more   Female 220     20       1          \n",
       "4  Less than $75,000 Female 208      0       1          \n",
       "5  Less than $50,000 Male   210      0       1          \n",
       "8  Less than $50,000 Female 202      0       1          \n",
       "11 $75,000 or more   Male   205      0       1          \n",
       "19 $75,000 or more   Female 201      0       1          "
      ]
     },
     "metadata": {},
     "output_type": "display_data"
    }
   ],
   "source": [
    "head(data_p)"
   ]
  },
  {
   "cell_type": "markdown",
   "metadata": {},
   "source": [
    "### 1. Physical health"
   ]
  },
  {
   "cell_type": "markdown",
   "metadata": {},
   "source": [
    "A) Prediction: We might expect to see a negative relationship between these two variables. That is, as the number of days of poor physical health increases, we might expect to see a decrease in the frequency of consuming a high number of drinks on an occasion."
   ]
  },
  {
   "cell_type": "markdown",
   "metadata": {},
   "source": [
    "B1)"
   ]
  },
  {
   "cell_type": "code",
   "execution_count": 35,
   "metadata": {},
   "outputs": [
    {
     "data": {
      "text/html": [
       "'integer'"
      ],
      "text/latex": [
       "'integer'"
      ],
      "text/markdown": [
       "'integer'"
      ],
      "text/plain": [
       "[1] \"integer\""
      ]
     },
     "metadata": {},
     "output_type": "display_data"
    },
    {
     "data": {
      "image/png": "[encoded data removed]",
      "text/plain": [
       "Plot with title \"Relationship between Physical Injury and Drinking Frequency\""
      ]
     },
     "metadata": {
      "image/png": {
       "height": 420,
       "width": 420
      }
     },
     "output_type": "display_data"
    }
   ],
   "source": [
    "class(data_p$physhlth)\n",
    "\n",
    "plot(drnk3ge5 ~ physhlth, data=data_p, pch=16, \n",
    "     main = \"Relationship between Physical Injury and Drinking Frequency\", \n",
    "     xlab = \"Days with Physical Injury in Past 30 Days\",ylab = \"Frequency of Drinking for Last 30 Days\")\n",
    "lines(lowess(data_p$physhlth, data_p$drnk3ge5))"
   ]
  },
  {
   "cell_type": "markdown",
   "metadata": {},
   "source": [
    "B2) The data appears to show a lack of clear pattern or trend. There is a greater amount of variation in the data for lower values of both physical health and alcohol consumption, while higher values show a greater concentration around whole numbers. It's possible that this pattern may be influenced by the fact that the data was collected through a survey, which may have led participants to round their responses up or down to whole numbers. This rounding bias could contribute to the concentration of data around whole numbers, particularly for higher values of physical health and alcohol consumption."
   ]
  },
  {
   "cell_type": "markdown",
   "metadata": {},
   "source": [
    "### 2. Mental health"
   ]
  },
  {
   "cell_type": "markdown",
   "metadata": {},
   "source": [
    "A) Prediction: One would assume that the more a person is dealing with mental issues such as anxiety, depression etc the more he/she would want to drink alcohol as a coping mechanism. So we might expect to see a linearly increasing trend. "
   ]
  },
  {
   "cell_type": "markdown",
   "metadata": {},
   "source": [
    "B1)"
   ]
  },
  {
   "cell_type": "code",
   "execution_count": 36,
   "metadata": {},
   "outputs": [
    {
     "data": {
      "text/html": [
       "'integer'"
      ],
      "text/latex": [
       "'integer'"
      ],
      "text/markdown": [
       "'integer'"
      ],
      "text/plain": [
       "[1] \"integer\""
      ]
     },
     "metadata": {},
     "output_type": "display_data"
    },
    {
     "data": {
      "image/png": "[encoded data removed]",
      "text/plain": [
       "Plot with title \"Relationship between Poor Mental Health and Drinking Frequency\""
      ]
     },
     "metadata": {
      "image/png": {
       "height": 420,
       "width": 420
      }
     },
     "output_type": "display_data"
    }
   ],
   "source": [
    "class(data_p$menthlth)\n",
    "\n",
    "plot(drnk3ge5 ~ menthlth, data=data_p, pch=16, \n",
    "     main = \"Relationship between Poor Mental Health and Drinking Frequency\", \n",
    "     xlab = \"Days with Poor Mental Health in Past 30 Days\",ylab = \"Frequency of Drinking for Last 30 Days\")\n",
    "lines(lowess(data_p$menthlth, data_p$drnk3ge5))"
   ]
  },
  {
   "cell_type": "markdown",
   "metadata": {},
   "source": [
    "B2) The data appears to show a lack of clear pattern or trend. There is a greater amount of variation in the data for lower values of both mental health and alcohol consumption, while higher values show a greater concentration around whole numbers. It's possible that this pattern may be influenced by the fact that the data was collected through a survey, which may have led participants to round their responses up or down to whole numbers. This rounding bias could contribute to the concentration of data around whole numbers, particularly for higher values of mental health and alcohol consumption."
   ]
  },
  {
   "cell_type": "markdown",
   "metadata": {},
   "source": [
    "### 3. Poor health"
   ]
  },
  {
   "cell_type": "markdown",
   "metadata": {},
   "source": [
    "A) Prediction: We might expect to see a negative relationship between these two variables. That is, as the number of days of poor physical health increases, we might expect to see a decrease in the frequency of consuming a high number of drinks on an occasion."
   ]
  },
  {
   "cell_type": "markdown",
   "metadata": {},
   "source": [
    "B1)"
   ]
  },
  {
   "cell_type": "code",
   "execution_count": 37,
   "metadata": {},
   "outputs": [
    {
     "data": {
      "text/html": [
       "'integer'"
      ],
      "text/latex": [
       "'integer'"
      ],
      "text/markdown": [
       "'integer'"
      ],
      "text/plain": [
       "[1] \"integer\""
      ]
     },
     "metadata": {},
     "output_type": "display_data"
    },
    {
     "data": {
      "image/png": "[encoded data removed]",
      "text/plain": [
       "Plot with title \"Relationship between Poor Health and Drinking Frequency\""
      ]
     },
     "metadata": {
      "image/png": {
       "height": 420,
       "width": 420
      }
     },
     "output_type": "display_data"
    }
   ],
   "source": [
    "class(data_p$poorhlth)\n",
    "\n",
    "plot(drnk3ge5 ~ poorhlth, data=data_p, pch=16, \n",
    "     main = \"Relationship between Poor Health and Drinking Frequency\", \n",
    "     xlab = \"Days with Poor Health in Past 30 Days\",ylab = \"Frequency of Drinking for Last 30 Days\")\n",
    "lines(lowess(data_p$poorhlth, data_p$drnk3ge5))"
   ]
  },
  {
   "cell_type": "markdown",
   "metadata": {},
   "source": [
    "B2) The data appears to show a lack of clear pattern or trend. There is a greater amount of variation in the data for lower values of both poor health and alcohol consumption, while higher values show a greater concentration around whole numbers. It's possible that this pattern may be influenced by the fact that the data was collected through a survey, which may have led participants to round their responses up or down to whole numbers. This rounding bias could contribute to the concentration of data around whole numbers, particularly for higher values of poor health and alcohol consumption."
   ]
  },
  {
   "cell_type": "markdown",
   "metadata": {},
   "source": [
    "### 4. Average amount of sleep"
   ]
  },
  {
   "cell_type": "markdown",
   "metadata": {},
   "source": [
    "A) Prediction: Individuals who consistently get less sleep than they need may be more likely to consume alcohol as a way of coping with stress or to help them relax. This is because alcohol is a depressant that can induce feelings of relaxation and reduce anxiety in the short term, which may be appealing to people who are struggling with sleep issues. Hence, we expect a negative relationship"
   ]
  },
  {
   "cell_type": "markdown",
   "metadata": {},
   "source": [
    "B1)"
   ]
  },
  {
   "cell_type": "code",
   "execution_count": 38,
   "metadata": {},
   "outputs": [
    {
     "data": {
      "text/html": [
       "'integer'"
      ],
      "text/latex": [
       "'integer'"
      ],
      "text/markdown": [
       "'integer'"
      ],
      "text/plain": [
       "[1] \"integer\""
      ]
     },
     "metadata": {},
     "output_type": "display_data"
    },
    {
     "data": {
      "image/png": "[encoded data removed]",
      "text/plain": [
       "Plot with title \"Relationship between Avg. Sleep Hours and Drinking Frequency\""
      ]
     },
     "metadata": {
      "image/png": {
       "height": 420,
       "width": 420
      }
     },
     "output_type": "display_data"
    }
   ],
   "source": [
    "class(data_p$sleptim1)\n",
    "\n",
    "plot(drnk3ge5 ~ sleptim1, data=data_p, pch=16, \n",
    "     main = \"Relationship between Avg. Sleep Hours and Drinking Frequency\", \n",
    "     xlab = \"Avg. Sleep Hours\",ylab = \"Frequency of Drinking for Last 30 Days\")\n",
    "lines(lowess(data_p$sleptim1, data_p$drnk3ge5))"
   ]
  },
  {
   "cell_type": "markdown",
   "metadata": {},
   "source": [
    "B2) There is no trend in the graph as such. All we can conclude from the graph is that individuals who sleep upto 10 hours in a day drink across different frequencies whereas the same cant be said for individuals sleeping more than 10 hours on average"
   ]
  },
  {
   "cell_type": "markdown",
   "metadata": {},
   "source": [
    "### 5. Marital status"
   ]
  },
  {
   "cell_type": "markdown",
   "metadata": {},
   "source": [
    "A) Prediction: One would assume that being single/unmarried or divorced/separated would lead to alcohol consumption more often as individuals would have more time to indulge in social activities"
   ]
  },
  {
   "cell_type": "markdown",
   "metadata": {},
   "source": [
    "B1)"
   ]
  },
  {
   "cell_type": "code",
   "execution_count": 39,
   "metadata": {},
   "outputs": [
    {
     "data": {
      "text/html": [
       "'factor'"
      ],
      "text/latex": [
       "'factor'"
      ],
      "text/markdown": [
       "'factor'"
      ],
      "text/plain": [
       "[1] \"factor\""
      ]
     },
     "metadata": {},
     "output_type": "display_data"
    },
    {
     "data": {
      "text/html": [
       "<table class=\"dataframe\">\n",
       "<caption>A data.frame: 6 × 2</caption>\n",
       "<thead>\n",
       "\t<tr><th scope=col>marital</th><th scope=col>drnk3ge5</th></tr>\n",
       "\t<tr><th scope=col>&lt;fct&gt;</th><th scope=col>&lt;dbl&gt;</th></tr>\n",
       "</thead>\n",
       "<tbody>\n",
       "\t<tr><td>Married                        </td><td>46822</td></tr>\n",
       "\t<tr><td>Divorced                       </td><td>23022</td></tr>\n",
       "\t<tr><td>Widowed                        </td><td> 6030</td></tr>\n",
       "\t<tr><td>Separated                      </td><td> 4325</td></tr>\n",
       "\t<tr><td>Never married                  </td><td>35334</td></tr>\n",
       "\t<tr><td>A member of an unmarried couple</td><td> 6995</td></tr>\n",
       "</tbody>\n",
       "</table>\n"
      ],
      "text/latex": [
       "A data.frame: 6 × 2\n",
       "\\begin{tabular}{ll}\n",
       " marital & drnk3ge5\\\\\n",
       " <fct> & <dbl>\\\\\n",
       "\\hline\n",
       "\t Married                         & 46822\\\\\n",
       "\t Divorced                        & 23022\\\\\n",
       "\t Widowed                         &  6030\\\\\n",
       "\t Separated                       &  4325\\\\\n",
       "\t Never married                   & 35334\\\\\n",
       "\t A member of an unmarried couple &  6995\\\\\n",
       "\\end{tabular}\n"
      ],
      "text/markdown": [
       "\n",
       "A data.frame: 6 × 2\n",
       "\n",
       "| marital &lt;fct&gt; | drnk3ge5 &lt;dbl&gt; |\n",
       "|---|---|\n",
       "| Married                         | 46822 |\n",
       "| Divorced                        | 23022 |\n",
       "| Widowed                         |  6030 |\n",
       "| Separated                       |  4325 |\n",
       "| Never married                   | 35334 |\n",
       "| A member of an unmarried couple |  6995 |\n",
       "\n"
      ],
      "text/plain": [
       "  marital                         drnk3ge5\n",
       "1 Married                         46822   \n",
       "2 Divorced                        23022   \n",
       "3 Widowed                          6030   \n",
       "4 Separated                        4325   \n",
       "5 Never married                   35334   \n",
       "6 A member of an unmarried couple  6995   "
      ]
     },
     "metadata": {},
     "output_type": "display_data"
    }
   ],
   "source": [
    "class(data_p$marital)\n",
    "marital_status_prop <- aggregate(drnk3ge5 ~ marital, data = data_p, \n",
    "                                 FUN = function(x) mean(x > 0, na.rm = TRUE))\n",
    "                                 \n",
    "marital_sum <- aggregate(drnk3ge5 ~ marital, data = data_p, sum)\n",
    "marital_sum                                "
   ]
  },
  {
   "cell_type": "markdown",
   "metadata": {},
   "source": [
    "B2) From this table we can see that the married individuals group drinks most often followed by unmarried and then divorced people. One possible explanation for this relationship is that married individuals may have more social opportunities for drinking, such as attending events with their spouse or socializing with other married couples. Additionally, married individuals may be more likely to consume alcohol as a way to unwind or relax after a long day of work or caring for their family."
   ]
  },
  {
   "cell_type": "markdown",
   "metadata": {},
   "source": [
    "### 6. Education"
   ]
  },
  {
   "cell_type": "markdown",
   "metadata": {},
   "source": [
    "A) Prediction: Because people in college are more prone to drinking environments and are also of legal age, my assumption is that those groups would show a higher frequency of alcohol consumption as opposed to other groups."
   ]
  },
  {
   "cell_type": "markdown",
   "metadata": {},
   "source": [
    "B1)"
   ]
  },
  {
   "cell_type": "code",
   "execution_count": 40,
   "metadata": {},
   "outputs": [
    {
     "data": {
      "text/html": [
       "'factor'"
      ],
      "text/latex": [
       "'factor'"
      ],
      "text/markdown": [
       "'factor'"
      ],
      "text/plain": [
       "[1] \"factor\""
      ]
     },
     "metadata": {},
     "output_type": "display_data"
    },
    {
     "data": {
      "text/html": [
       "<table class=\"dataframe\">\n",
       "<caption>A data.frame: 6 × 2</caption>\n",
       "<thead>\n",
       "\t<tr><th scope=col>educa</th><th scope=col>drnk3ge5</th></tr>\n",
       "\t<tr><th scope=col>&lt;fct&gt;</th><th scope=col>&lt;dbl&gt;</th></tr>\n",
       "</thead>\n",
       "<tbody>\n",
       "\t<tr><td>Never attended school or only kindergarten                  </td><td>   70</td></tr>\n",
       "\t<tr><td>Grades 1 through 8 (Elementary)                             </td><td> 2295</td></tr>\n",
       "\t<tr><td>Grades 9 though 11 (Some high school)                       </td><td> 7951</td></tr>\n",
       "\t<tr><td>Grade 12 or GED (High school graduate)                      </td><td>37500</td></tr>\n",
       "\t<tr><td>College 1 year to 3 years (Some college or technical school)</td><td>37897</td></tr>\n",
       "\t<tr><td>College 4 years or more (College graduate)                  </td><td>36815</td></tr>\n",
       "</tbody>\n",
       "</table>\n"
      ],
      "text/latex": [
       "A data.frame: 6 × 2\n",
       "\\begin{tabular}{ll}\n",
       " educa & drnk3ge5\\\\\n",
       " <fct> & <dbl>\\\\\n",
       "\\hline\n",
       "\t Never attended school or only kindergarten                   &    70\\\\\n",
       "\t Grades 1 through 8 (Elementary)                              &  2295\\\\\n",
       "\t Grades 9 though 11 (Some high school)                        &  7951\\\\\n",
       "\t Grade 12 or GED (High school graduate)                       & 37500\\\\\n",
       "\t College 1 year to 3 years (Some college or technical school) & 37897\\\\\n",
       "\t College 4 years or more (College graduate)                   & 36815\\\\\n",
       "\\end{tabular}\n"
      ],
      "text/markdown": [
       "\n",
       "A data.frame: 6 × 2\n",
       "\n",
       "| educa &lt;fct&gt; | drnk3ge5 &lt;dbl&gt; |\n",
       "|---|---|\n",
       "| Never attended school or only kindergarten                   |    70 |\n",
       "| Grades 1 through 8 (Elementary)                              |  2295 |\n",
       "| Grades 9 though 11 (Some high school)                        |  7951 |\n",
       "| Grade 12 or GED (High school graduate)                       | 37500 |\n",
       "| College 1 year to 3 years (Some college or technical school) | 37897 |\n",
       "| College 4 years or more (College graduate)                   | 36815 |\n",
       "\n"
      ],
      "text/plain": [
       "  educa                                                        drnk3ge5\n",
       "1 Never attended school or only kindergarten                      70   \n",
       "2 Grades 1 through 8 (Elementary)                               2295   \n",
       "3 Grades 9 though 11 (Some high school)                         7951   \n",
       "4 Grade 12 or GED (High school graduate)                       37500   \n",
       "5 College 1 year to 3 years (Some college or technical school) 37897   \n",
       "6 College 4 years or more (College graduate)                   36815   "
      ]
     },
     "metadata": {},
     "output_type": "display_data"
    }
   ],
   "source": [
    "class(data_p$educa)\n",
    "marital_status_prop <- aggregate(drnk3ge5 ~ educa, data = data_p, \n",
    "                                 FUN = function(x) mean(x > 0, na.rm = TRUE))\n",
    "                                 \n",
    "education_sum <- aggregate(drnk3ge5 ~ educa, data = data_p, sum)\n",
    "education_sum                                "
   ]
  },
  {
   "cell_type": "markdown",
   "metadata": {},
   "source": [
    "B2) From the above table we can see that the groups Grade 12, College 1 year to 3 years and college 4 years or more drink most often and have very similar frequencies. A factor that may contribute to higher levels of drinking among college students is the culture of college campuses. Many colleges and universities have a \"party culture\" that revolves around heavy drinking and socializing. This culture may be reinforced by peer pressure, social norms, and media portrayals of college life."
   ]
  },
  {
   "cell_type": "markdown",
   "metadata": {},
   "source": [
    "### 7. Income"
   ]
  },
  {
   "cell_type": "markdown",
   "metadata": {},
   "source": [
    "A) Prediction: Groups with higher income would have more money to indulge in activities such as alcohol consumption outside of essential neccesties to sustain. So the prediction is that groups with higher income would drink more often"
   ]
  },
  {
   "cell_type": "markdown",
   "metadata": {},
   "source": [
    "B1)"
   ]
  },
  {
   "cell_type": "code",
   "execution_count": 41,
   "metadata": {},
   "outputs": [
    {
     "data": {
      "text/html": [
       "'factor'"
      ],
      "text/latex": [
       "'factor'"
      ],
      "text/markdown": [
       "'factor'"
      ],
      "text/plain": [
       "[1] \"factor\""
      ]
     },
     "metadata": {},
     "output_type": "display_data"
    },
    {
     "data": {
      "text/html": [
       "<table class=\"dataframe\">\n",
       "<caption>A data.frame: 8 × 2</caption>\n",
       "<thead>\n",
       "\t<tr><th scope=col>income2</th><th scope=col>drnk3ge5</th></tr>\n",
       "\t<tr><th scope=col>&lt;fct&gt;</th><th scope=col>&lt;dbl&gt;</th></tr>\n",
       "</thead>\n",
       "<tbody>\n",
       "\t<tr><td>Less than $10,000</td><td>10104</td></tr>\n",
       "\t<tr><td>Less than $15,000</td><td> 8422</td></tr>\n",
       "\t<tr><td>Less than $20,000</td><td>10267</td></tr>\n",
       "\t<tr><td>Less than $25,000</td><td>12008</td></tr>\n",
       "\t<tr><td>Less than $35,000</td><td>13885</td></tr>\n",
       "\t<tr><td>Less than $50,000</td><td>17895</td></tr>\n",
       "\t<tr><td>Less than $75,000</td><td>18414</td></tr>\n",
       "\t<tr><td>$75,000 or more  </td><td>31533</td></tr>\n",
       "</tbody>\n",
       "</table>\n"
      ],
      "text/latex": [
       "A data.frame: 8 × 2\n",
       "\\begin{tabular}{ll}\n",
       " income2 & drnk3ge5\\\\\n",
       " <fct> & <dbl>\\\\\n",
       "\\hline\n",
       "\t Less than \\$10,000 & 10104\\\\\n",
       "\t Less than \\$15,000 &  8422\\\\\n",
       "\t Less than \\$20,000 & 10267\\\\\n",
       "\t Less than \\$25,000 & 12008\\\\\n",
       "\t Less than \\$35,000 & 13885\\\\\n",
       "\t Less than \\$50,000 & 17895\\\\\n",
       "\t Less than \\$75,000 & 18414\\\\\n",
       "\t \\$75,000 or more   & 31533\\\\\n",
       "\\end{tabular}\n"
      ],
      "text/markdown": [
       "\n",
       "A data.frame: 8 × 2\n",
       "\n",
       "| income2 &lt;fct&gt; | drnk3ge5 &lt;dbl&gt; |\n",
       "|---|---|\n",
       "| Less than $10,000 | 10104 |\n",
       "| Less than $15,000 |  8422 |\n",
       "| Less than $20,000 | 10267 |\n",
       "| Less than $25,000 | 12008 |\n",
       "| Less than $35,000 | 13885 |\n",
       "| Less than $50,000 | 17895 |\n",
       "| Less than $75,000 | 18414 |\n",
       "| $75,000 or more   | 31533 |\n",
       "\n"
      ],
      "text/plain": [
       "  income2           drnk3ge5\n",
       "1 Less than $10,000 10104   \n",
       "2 Less than $15,000  8422   \n",
       "3 Less than $20,000 10267   \n",
       "4 Less than $25,000 12008   \n",
       "5 Less than $35,000 13885   \n",
       "6 Less than $50,000 17895   \n",
       "7 Less than $75,000 18414   \n",
       "8 $75,000 or more   31533   "
      ]
     },
     "metadata": {},
     "output_type": "display_data"
    }
   ],
   "source": [
    "class(data_p$income2)\n",
    "marital_status_prop <- aggregate(drnk3ge5 ~ income2, data = data_p, \n",
    "                                 FUN = function(x) mean(x > 0, na.rm = TRUE))\n",
    "                                 \n",
    "income_sum <- aggregate(drnk3ge5 ~ income2, data = data_p, sum)\n",
    "income_sum                                "
   ]
  },
  {
   "cell_type": "markdown",
   "metadata": {},
   "source": [
    "B2) The income group that has income of 75000 or more has the highest drinking frequency. One possible explanation is that people with higher incomes may have more disposable income and therefore have the financial means to purchase alcohol more frequently. Additionally, they may have more opportunities to socialize in environments where alcohol is served, such as high-end restaurants or exclusive clubs."
   ]
  },
  {
   "cell_type": "markdown",
   "metadata": {},
   "source": [
    "### 8. Sex/gender"
   ]
  },
  {
   "cell_type": "markdown",
   "metadata": {},
   "source": [
    "A) Prediction: It is difficult to predict which gender would indulge in drinking more often as drinking is subjective and could be related to a multitude of other factors such as age, income, personal preferences, cultural background etc. "
   ]
  },
  {
   "cell_type": "markdown",
   "metadata": {},
   "source": [
    "B1)"
   ]
  },
  {
   "cell_type": "code",
   "execution_count": 42,
   "metadata": {},
   "outputs": [
    {
     "data": {
      "text/html": [
       "'factor'"
      ],
      "text/latex": [
       "'factor'"
      ],
      "text/markdown": [
       "'factor'"
      ],
      "text/plain": [
       "[1] \"factor\""
      ]
     },
     "metadata": {},
     "output_type": "display_data"
    },
    {
     "data": {
      "text/html": [
       "<table class=\"dataframe\">\n",
       "<caption>A data.frame: 2 × 2</caption>\n",
       "<thead>\n",
       "\t<tr><th scope=col>sex</th><th scope=col>drnk3ge5</th></tr>\n",
       "\t<tr><th scope=col>&lt;fct&gt;</th><th scope=col>&lt;dbl&gt;</th></tr>\n",
       "</thead>\n",
       "<tbody>\n",
       "\t<tr><td>Male  </td><td>78041</td></tr>\n",
       "\t<tr><td>Female</td><td>44487</td></tr>\n",
       "</tbody>\n",
       "</table>\n"
      ],
      "text/latex": [
       "A data.frame: 2 × 2\n",
       "\\begin{tabular}{ll}\n",
       " sex & drnk3ge5\\\\\n",
       " <fct> & <dbl>\\\\\n",
       "\\hline\n",
       "\t Male   & 78041\\\\\n",
       "\t Female & 44487\\\\\n",
       "\\end{tabular}\n"
      ],
      "text/markdown": [
       "\n",
       "A data.frame: 2 × 2\n",
       "\n",
       "| sex &lt;fct&gt; | drnk3ge5 &lt;dbl&gt; |\n",
       "|---|---|\n",
       "| Male   | 78041 |\n",
       "| Female | 44487 |\n",
       "\n"
      ],
      "text/plain": [
       "  sex    drnk3ge5\n",
       "1 Male   78041   \n",
       "2 Female 44487   "
      ]
     },
     "metadata": {},
     "output_type": "display_data"
    }
   ],
   "source": [
    "class(data_p$sex)\n",
    "marital_status_prop <- aggregate(drnk3ge5 ~ sex, data = data_p, \n",
    "                                 FUN = function(x) mean(x > 0, na.rm = TRUE))\n",
    "                                 \n",
    "gender_sum <- aggregate(drnk3ge5 ~ sex, data = data_p, sum)\n",
    "gender_sum                                "
   ]
  },
  {
   "cell_type": "markdown",
   "metadata": {},
   "source": [
    "B2) From the proportion table we can see that males have a higher frequency of drinking as compared to females. One potential explanation for the gender difference in alcohol consumption is that men may feel more social pressure to drink than women. In many cultures, drinking alcohol is seen as a traditionally masculine behavior, and men may feel that they need to drink in order to fit in with their peers or assert their masculinity."
   ]
  },
  {
   "cell_type": "markdown",
   "metadata": {},
   "source": [
    "<div class=\"alert alert-block alert-success\">\n",
    "<a id=\"Poisson\"></a>\n",
    "    \n",
    "# Poisson Regression model\n",
    "    \n"
   ]
  },
  {
   "cell_type": "markdown",
   "metadata": {},
   "source": [
    "### Final model Fit"
   ]
  },
  {
   "cell_type": "markdown",
   "metadata": {},
   "source": [
    "The model is appropriate for the data as it takes into account marital status, education & an interaction term between sex & mental health which all have very strong relationships with the response variable, i.e frequency of drinking in the last 30 days. The annova test further solidifies this giving a p-value of 0 hence showing that the model is significant. "
   ]
  },
  {
   "cell_type": "code",
   "execution_count": 43,
   "metadata": {
    "scrolled": false
   },
   "outputs": [
    {
     "data": {
      "text/plain": [
       "\n",
       "Call:\n",
       "glm(formula = drnk3ge5 ~ 1, family = poisson(link = \"log\"), data = data_p)\n",
       "\n",
       "Deviance Residuals: \n",
       "    Min       1Q   Median       3Q      Max  \n",
       "-1.5669  -1.5669  -1.5669  -0.2123  11.5856  \n",
       "\n",
       "Coefficients:\n",
       "            Estimate Std. Error z value Pr(>|z|)    \n",
       "(Intercept) 0.205011   0.002857   71.76   <2e-16 ***\n",
       "---\n",
       "Signif. codes:  0 '***' 0.001 '**' 0.01 '*' 0.05 '.' 0.1 ' ' 1\n",
       "\n",
       "(Dispersion parameter for poisson family taken to be 1)\n",
       "\n",
       "    Null deviance: 454237  on 99815  degrees of freedom\n",
       "Residual deviance: 454237  on 99815  degrees of freedom\n",
       "AIC: 534897\n",
       "\n",
       "Number of Fisher Scoring iterations: 7\n"
      ]
     },
     "metadata": {},
     "output_type": "display_data"
    },
    {
     "data": {
      "text/plain": [
       "\n",
       "Call:\n",
       "glm(formula = drnk3ge5 ~ marital + educa + sex * menthlth, family = poisson(link = \"log\"), \n",
       "    data = data_p)\n",
       "\n",
       "Deviance Residuals: \n",
       "    Min       1Q   Median       3Q      Max  \n",
       "-3.5724  -1.5555  -1.1358  -0.5536  14.3297  \n",
       "\n",
       "Coefficients:\n",
       "                                                                    Estimate\n",
       "(Intercept)                                                        0.1211678\n",
       "maritalDivorced                                                    0.4190362\n",
       "maritalWidowed                                                    -0.1183708\n",
       "maritalSeparated                                                   0.4213298\n",
       "maritalNever married                                               0.6124557\n",
       "maritalA member of an unmarried couple                             0.5492219\n",
       "educaGrades 1 through 8 (Elementary)                               0.3344921\n",
       "educaGrades 9 though 11 (Some high school)                         0.3935674\n",
       "educaGrade 12 or GED (High school graduate)                        0.2548131\n",
       "educaCollege 1 year to 3 years (Some college or technical school)  0.0831017\n",
       "educaCollege 4 years or more (College graduate)                   -0.2509507\n",
       "sexFemale                                                         -0.8144801\n",
       "menthlth                                                           0.0242040\n",
       "sexFemale:menthlth                                                 0.0026297\n",
       "                                                                  Std. Error\n",
       "(Intercept)                                                        0.1196847\n",
       "maritalDivorced                                                    0.0081365\n",
       "maritalWidowed                                                     0.0137805\n",
       "maritalSeparated                                                   0.0160452\n",
       "maritalNever married                                               0.0071082\n",
       "maritalA member of an unmarried couple                             0.0128498\n",
       "educaGrades 1 through 8 (Elementary)                               0.1213466\n",
       "educaGrades 9 though 11 (Some high school)                         0.1200631\n",
       "educaGrade 12 or GED (High school graduate)                        0.1196564\n",
       "educaCollege 1 year to 3 years (Some college or technical school)  0.1196604\n",
       "educaCollege 4 years or more (College graduate)                    0.1196726\n",
       "sexFemale                                                          0.0078790\n",
       "menthlth                                                           0.0003360\n",
       "sexFemale:menthlth                                                 0.0005436\n",
       "                                                                   z value\n",
       "(Intercept)                                                          1.012\n",
       "maritalDivorced                                                     51.501\n",
       "maritalWidowed                                                      -8.590\n",
       "maritalSeparated                                                    26.259\n",
       "maritalNever married                                                86.161\n",
       "maritalA member of an unmarried couple                              42.742\n",
       "educaGrades 1 through 8 (Elementary)                                 2.757\n",
       "educaGrades 9 though 11 (Some high school)                           3.278\n",
       "educaGrade 12 or GED (High school graduate)                          2.130\n",
       "educaCollege 1 year to 3 years (Some college or technical school)    0.694\n",
       "educaCollege 4 years or more (College graduate)                     -2.097\n",
       "sexFemale                                                         -103.374\n",
       "menthlth                                                            72.030\n",
       "sexFemale:menthlth                                                   4.838\n",
       "                                                                  Pr(>|z|)    \n",
       "(Intercept)                                                        0.31135    \n",
       "maritalDivorced                                                    < 2e-16 ***\n",
       "maritalWidowed                                                     < 2e-16 ***\n",
       "maritalSeparated                                                   < 2e-16 ***\n",
       "maritalNever married                                               < 2e-16 ***\n",
       "maritalA member of an unmarried couple                             < 2e-16 ***\n",
       "educaGrades 1 through 8 (Elementary)                               0.00584 ** \n",
       "educaGrades 9 though 11 (Some high school)                         0.00105 ** \n",
       "educaGrade 12 or GED (High school graduate)                        0.03321 *  \n",
       "educaCollege 1 year to 3 years (Some college or technical school)  0.48738    \n",
       "educaCollege 4 years or more (College graduate)                    0.03600 *  \n",
       "sexFemale                                                          < 2e-16 ***\n",
       "menthlth                                                           < 2e-16 ***\n",
       "sexFemale:menthlth                                                1.31e-06 ***\n",
       "---\n",
       "Signif. codes:  0 '***' 0.001 '**' 0.01 '*' 0.05 '.' 0.1 ' ' 1\n",
       "\n",
       "(Dispersion parameter for poisson family taken to be 1)\n",
       "\n",
       "    Null deviance: 454237  on 99815  degrees of freedom\n",
       "Residual deviance: 404400  on 99802  degrees of freedom\n",
       "AIC: 485087\n",
       "\n",
       "Number of Fisher Scoring iterations: 7\n"
      ]
     },
     "metadata": {},
     "output_type": "display_data"
    },
    {
     "data": {
      "text/html": [
       "<table class=\"dataframe\">\n",
       "<caption>A anova: 2 × 5</caption>\n",
       "<thead>\n",
       "\t<tr><th></th><th scope=col>Resid. Df</th><th scope=col>Resid. Dev</th><th scope=col>Df</th><th scope=col>Deviance</th><th scope=col>Pr(&gt;Chi)</th></tr>\n",
       "\t<tr><th></th><th scope=col>&lt;dbl&gt;</th><th scope=col>&lt;dbl&gt;</th><th scope=col>&lt;dbl&gt;</th><th scope=col>&lt;dbl&gt;</th><th scope=col>&lt;dbl&gt;</th></tr>\n",
       "</thead>\n",
       "<tbody>\n",
       "\t<tr><th scope=row>1</th><td>99815</td><td>454236.5</td><td>NA</td><td>      NA</td><td>NA</td></tr>\n",
       "\t<tr><th scope=row>2</th><td>99802</td><td>404400.5</td><td>13</td><td>49836.05</td><td> 0</td></tr>\n",
       "</tbody>\n",
       "</table>\n"
      ],
      "text/latex": [
       "A anova: 2 × 5\n",
       "\\begin{tabular}{r|lllll}\n",
       "  & Resid. Df & Resid. Dev & Df & Deviance & Pr(>Chi)\\\\\n",
       "  & <dbl> & <dbl> & <dbl> & <dbl> & <dbl>\\\\\n",
       "\\hline\n",
       "\t1 & 99815 & 454236.5 & NA &       NA & NA\\\\\n",
       "\t2 & 99802 & 404400.5 & 13 & 49836.05 &  0\\\\\n",
       "\\end{tabular}\n"
      ],
      "text/markdown": [
       "\n",
       "A anova: 2 × 5\n",
       "\n",
       "| <!--/--> | Resid. Df &lt;dbl&gt; | Resid. Dev &lt;dbl&gt; | Df &lt;dbl&gt; | Deviance &lt;dbl&gt; | Pr(&gt;Chi) &lt;dbl&gt; |\n",
       "|---|---|---|---|---|---|\n",
       "| 1 | 99815 | 454236.5 | NA |       NA | NA |\n",
       "| 2 | 99802 | 404400.5 | 13 | 49836.05 |  0 |\n",
       "\n"
      ],
      "text/plain": [
       "  Resid. Df Resid. Dev Df Deviance Pr(>Chi)\n",
       "1 99815     454236.5   NA       NA NA      \n",
       "2 99802     404400.5   13 49836.05  0      "
      ]
     },
     "metadata": {},
     "output_type": "display_data"
    }
   ],
   "source": [
    "# Fit your final model here.\n",
    "# Use summary to get model co-efficients and other useful output.\n",
    "\n",
    "p.null<- glm(drnk3ge5 ~ 1, data=data_p, family=\"poisson\"(link=\"log\"))\n",
    "summary(p.null)\n",
    "\n",
    "p3 <- glm(drnk3ge5 ~ marital + educa + sex*menthlth, data=data_p, family=\"poisson\"(link=\"log\"))\n",
    "summary(p3)\n",
    "anova(p.null,p3,test = \"Chi\")\n",
    "dispersion3 <- 404400.5/99802; \n"
   ]
  },
  {
   "cell_type": "markdown",
   "metadata": {},
   "source": [
    "**Equation**\n",
    "\n",
    "log(E(Y)) = 0.1211678 + 0.4190362 * maritalDivorced + (-0.1183708) * maritalWidowed + 0.4213298 * maritalSeparated + 0.6124557 * maritalNever married + 0.5492219 * maritalA member of an unmarried couple + 0.3344921 * educaGrades 1 through 8 (Elementary) + 0.3935674 * educaGrades 9 though 11 (Some high school) + 0.2548131 * educaGrade 12 or GED (High school graduate) + 0.0831017 * educaCollege 1 year to 3 years (Some college or technical school) + (-0.2509507) * educaCollege 4 years or more (College graduate) + (-0.8144801) * sexFemale + 0.0242040 * menthlth + 0.0026297 * sexFemale:menthlth\n",
    "\n",
    "drnk3ge5 ~ marital + educa + sex*menthlth, data=data_p\n",
    "where:\n",
    "\n",
    "E(Y) is the expected count of drinks consumed (response variable)\n",
    "\n",
    "0.1211678 is the intercept term\n",
    "\n",
    "Maritial Status(maritial) categories include: maritalDivorced, maritalWidowed, maritalSeparated, maritalNever married, maritalA member of an unmarried couple\n",
    "\n",
    "Education categories(educa) educaGrades 1 through 8 (Elementary), educaGrades 9 though 11 (Some high school), educaGrade 12 or GED (High school graduate), educaCollege 1 year to 3 years (Some college or technical school), and educaCollege 4 years or more (College graduate) \n",
    "\n",
    "sexFemale is a binary variable (0 or 1) representing the 1 for Female and 0 for Male \n",
    "\n",
    "menthlth is a continuous variable representing mental health status\n",
    "\n",
    "sexFemale:menthlth is the interaction term between sex and mental health status\n",
    "\n",
    "The link function used in the model is the log link, which links the expected count of drinks consumed to the linear combination of the explanatory variables on the log scale.\n"
   ]
  },
  {
   "cell_type": "code",
   "execution_count": 44,
   "metadata": {},
   "outputs": [
    {
     "name": "stdout",
     "output_type": "stream",
     "text": [
      "Residual deviance/df is  4.052028"
     ]
    }
   ],
   "source": [
    "cat('Residual deviance/df is ', 404400.5/99802)"
   ]
  },
  {
   "cell_type": "markdown",
   "metadata": {},
   "source": [
    "4.052028 indicates that the model may have a slightly higher residual deviance compared to the degrees of freedom, this model is slightly poorer fit of the model to the data. This value indicates overdispersion.\n",
    "\n",
    "There is some additional unexplained variation  in the data that is not accounted for by the Poisson regression model."
   ]
  },
  {
   "cell_type": "markdown",
   "metadata": {},
   "source": [
    "### Plots to visualize the model fit"
   ]
  },
  {
   "cell_type": "code",
   "execution_count": 47,
   "metadata": {},
   "outputs": [],
   "source": [
    "\n",
    "inc <- c('Less than $10,000','Less than $15,000','Less than $20,000','Less than $25,000',\n",
    "            'Less than $35,000','Less than $50,000','Less than $75,000','$75,000 or more')\n",
    "mar <- c('Married','Widowed','Divorced','Separated','Never married','A member of an unmarried couple')\n",
    "education <- c('Never attended school or only kindergarten','Grades 1 through 8 (Elementary)',\n",
    "          'Grades 9 though 11 (Some high school)','Grade 12 or GED (High school graduate)',\n",
    "          'College 1 year to 3 years (Some college or technical school)',\n",
    "          'College 4 years or more (College graduate)')\n",
    "sexs <- c('Male','Female')\n",
    "\n"
   ]
  },
  {
   "cell_type": "code",
   "execution_count": 68,
   "metadata": {
    "scrolled": false
   },
   "outputs": [
    {
     "data": {
      "image/png": "[encoded data removed]",
      "text/plain": [
       "Plot with title \"plot desc\""
      ]
     },
     "metadata": {
      "image/png": {
       "height": 420,
       "width": 420
      }
     },
     "output_type": "display_data"
    },
    {
     "data": {
      "image/png": "[encoded data removed]",
      "text/plain": [
       "Plot with title \"plot desc\""
      ]
     },
     "metadata": {
      "image/png": {
       "height": 420,
       "width": 420
      }
     },
     "output_type": "display_data"
    }
   ],
   "source": [
    "new.data.pois = expand.grid(menthlth=seq(min(data_final$menthlth), max(data_final$menthlth), length.out = 30),\n",
    "                                 marital=mar,\n",
    "                                 educa=education,\n",
    "                                 sex=sexs)\n",
    "new.data.pois$response <- predict(p3, new.data.pois, type=\"response\")\n",
    "\n",
    "for (i in 1:2) { \n",
    "    new.data.sub <- subset(new.data.pois, new.data.pois$marital == 'Married' & new.data.pois$sex==sexs[i])\n",
    "    plot(jitter(drnk3ge5, f=0.1) ~ menthlth, data=data_final, pch=1, \n",
    "         ylab='alcohol consumption',xlab='menthlth', main=paste('plot desc'), ylim=c(0,15))\n",
    "\n",
    "    for ( j in 1:6 ) {\n",
    "            new.data.sub.ed <- subset(new.data.sub, new.data.sub$educa == education[j])# new.data.sub\n",
    "            lines(new.data.sub.ed$response ~ new.data.sub.ed$menthlth, col=rainbow(6)[j]) \n",
    "        }\n",
    "\n",
    "    legend('topright', legend=c('Never attended school or only kindergarten','Grades 1 through 8 (Elementary)',\n",
    "          'Grades 9 though 11 (Some high school)','Grade 12 or GED (High school graduate)',\n",
    "          'College 1 year to 3 years (Some college or technical school)',\n",
    "          'College 4 years or more (College graduate)'),\n",
    "           col=c(\"#FF0000\",\"#FFFF00\", \"#00FF00\", \"#00FFFF\",\"#0000FF\", \"#FF00FF\"), lty=1, cex=0.8)\n",
    "}"
   ]
  },
  {
   "cell_type": "code",
   "execution_count": 77,
   "metadata": {},
   "outputs": [
    {
     "data": {
      "image/png": "[encoded data removed]",
      "text/plain": [
       "Plot with title \"\""
      ]
     },
     "metadata": {
      "image/png": {
       "height": 420,
       "width": 420
      }
     },
     "output_type": "display_data"
    },
    {
     "data": {
      "image/png": "[encoded data removed]",
      "text/plain": [
       "Plot with title \"\""
      ]
     },
     "metadata": {
      "image/png": {
       "height": 420,
       "width": 420
      }
     },
     "output_type": "display_data"
    },
    {
     "data": {
      "image/png": "[encoded data removed]",
      "text/plain": [
       "Plot with title \"\""
      ]
     },
     "metadata": {
      "image/png": {
       "height": 420,
       "width": 420
      }
     },
     "output_type": "display_data"
    },
    {
     "data": {
      "image/png": "[encoded data removed]",
      "text/plain": [
       "Plot with title \"\""
      ]
     },
     "metadata": {
      "image/png": {
       "height": 420,
       "width": 420
      }
     },
     "output_type": "display_data"
    }
   ],
   "source": [
    "plot(p3)"
   ]
  },
  {
   "cell_type": "markdown",
   "metadata": {},
   "source": [
    "### Main results of the model"
   ]
  },
  {
   "cell_type": "markdown",
   "metadata": {},
   "source": [
    "\n",
    "The intercept (baseline) estimate is 0.1211678.\n",
    "\n",
    "**Variables that are statistically significant :**\n",
    "\n",
    "maritalDivorced, maritalWidowed, maritalSeparated, maritalNever married, and maritalA \n",
    "The marital status variables (Divorced, Widowed, Separated, Never married, A member of an unmarried couple) are all statistically significant with very small p-values (< 0.001), indicating that marital status has a significant effect on the outcome variable.\n",
    "\n",
    "The education level variables (Grades 1 through 8, Grades 9 through 11, Grade 12 or GED, College 1 year to 3 years, College 4 years or more) are also statistically significant, with p-values ranging from 0.00584 to 0.48738.\n",
    "\n",
    "The sex variable (Female) is statistically significant with a very small p-value (< 0.001), indicating that sex has a significant effect on the outcome variable.\n",
    "\n",
    "The mental health variable (menthlth) is statistically significant with a very small p-value (< 0.001), indicating that mental health has a significant effect on the outcome variable.\n",
    "\n",
    "The interaction term between sex and mental health (sexFemale:menthlth) is also statistically significant with a small p-value (1.31e-06), indicating that the effect of mental health on the outcome variable may vary depending on sex.\n",
    "\n",
    "\n",
    "\n",
    "**Model comparison using chi-square test:** \n",
    "\n",
    "The anova table test statistic is 49836.05 with a p-value of 0, indicating that the reduced model is statistically significantly worse than the model with all predictor variables. This suggests that the full model, including all predictor variables, provides a significantly better fit to the data."
   ]
  },
  {
   "cell_type": "markdown",
   "metadata": {},
   "source": [
    "---\n"
   ]
  },
  {
   "cell_type": "code",
   "execution_count": 49,
   "metadata": {},
   "outputs": [
    {
     "name": "stderr",
     "output_type": "stream",
     "text": [
      "there are higher-order terms (interactions) in this model\n",
      "consider setting type = 'predictor'; see ?vif\n",
      "\n"
     ]
    },
    {
     "data": {
      "text/html": [
       "<table class=\"dataframe\">\n",
       "<caption>A matrix: 5 × 3 of type dbl</caption>\n",
       "<thead>\n",
       "\t<tr><th></th><th scope=col>GVIF</th><th scope=col>Df</th><th scope=col>GVIF^(1/(2*Df))</th></tr>\n",
       "</thead>\n",
       "<tbody>\n",
       "\t<tr><th scope=row>marital</th><td>1.057484</td><td>5</td><td>1.005605</td></tr>\n",
       "\t<tr><th scope=row>educa</th><td>1.063409</td><td>5</td><td>1.006167</td></tr>\n",
       "\t<tr><th scope=row>sex</th><td>1.758978</td><td>1</td><td>1.326265</td></tr>\n",
       "\t<tr><th scope=row>menthlth</th><td>1.645297</td><td>1</td><td>1.282691</td></tr>\n",
       "\t<tr><th scope=row>sex:menthlth</th><td>2.397248</td><td>1</td><td>1.548305</td></tr>\n",
       "</tbody>\n",
       "</table>\n"
      ],
      "text/latex": [
       "A matrix: 5 × 3 of type dbl\n",
       "\\begin{tabular}{r|lll}\n",
       "  & GVIF & Df & GVIF\\textasciicircum{}(1/(2*Df))\\\\\n",
       "\\hline\n",
       "\tmarital & 1.057484 & 5 & 1.005605\\\\\n",
       "\teduca & 1.063409 & 5 & 1.006167\\\\\n",
       "\tsex & 1.758978 & 1 & 1.326265\\\\\n",
       "\tmenthlth & 1.645297 & 1 & 1.282691\\\\\n",
       "\tsex:menthlth & 2.397248 & 1 & 1.548305\\\\\n",
       "\\end{tabular}\n"
      ],
      "text/markdown": [
       "\n",
       "A matrix: 5 × 3 of type dbl\n",
       "\n",
       "| <!--/--> | GVIF | Df | GVIF^(1/(2*Df)) |\n",
       "|---|---|---|---|\n",
       "| marital | 1.057484 | 5 | 1.005605 |\n",
       "| educa | 1.063409 | 5 | 1.006167 |\n",
       "| sex | 1.758978 | 1 | 1.326265 |\n",
       "| menthlth | 1.645297 | 1 | 1.282691 |\n",
       "| sex:menthlth | 2.397248 | 1 | 1.548305 |\n",
       "\n"
      ],
      "text/plain": [
       "             GVIF     Df GVIF^(1/(2*Df))\n",
       "marital      1.057484 5  1.005605       \n",
       "educa        1.063409 5  1.006167       \n",
       "sex          1.758978 1  1.326265       \n",
       "menthlth     1.645297 1  1.282691       \n",
       "sex:menthlth 2.397248 1  1.548305       "
      ]
     },
     "metadata": {},
     "output_type": "display_data"
    }
   ],
   "source": [
    "library(car)\n",
    "vif(p3)"
   ]
  },
  {
   "cell_type": "markdown",
   "metadata": {},
   "source": [
    "\n",
    "**Observations:**\n",
    "\n",
    "A higher VIF value indicates a higher degree of multicollinearity. VIF values greater than 10 are often considered indicative of significant multicollinearity.\n",
    "\n",
    "1) Variables \"maritial\", \"sex\", \"menthlth\", all have low or no multicollinearity, with VIF values below \n",
    "\n",
    "2) The interaction term \"sex:menthlth\" shows moderate multicollinearity with a VIF value of 2.397248\n"
   ]
  },
  {
   "cell_type": "markdown",
   "metadata": {},
   "source": []
  },
  {
   "cell_type": "markdown",
   "metadata": {},
   "source": [
    "### Model Fit"
   ]
  },
  {
   "cell_type": "markdown",
   "metadata": {},
   "source": [
    "- **Logistic Regression model**:\n",
    "The AIC value of 247653 suggests that the logistic regression model provides a relatively good fit to the data, considering the model complexity. Also, the residual deviance is lower (247621 < 272612), indicating that the logistic regression model improves the fit to the data compared to the null model.\n",
    "\n",
    "- **Poisson Model**:\n",
    "The AIC value of 485087 suggests that the Poisson regression model provides a relatively good fit to the data, considering the model complexity.\n",
    "The residual deviance is lower (404400 < 454237), indicating that the Poisson regression model improves the fit to the data compared to the null model."
   ]
  },
  {
   "cell_type": "markdown",
   "metadata": {},
   "source": [
    "### Strengths And Limitations of Logistic Regression"
   ]
  },
  {
   "cell_type": "markdown",
   "metadata": {},
   "source": [
    "**Strengths**: \n",
    "- It can model non-linear relationships: One of the key strengths of logistic regression is that it can model non-linear relationships between predictor variables and the outcome of interest. This means that it can capture complex patterns in the data that might be missed by simpler linear models.\n",
    "- It provides probabilities as output: Unlike some other classification methods that only provide binary classifications (e.g., yes/no, true/false), logistic regression provides probabilities as output. This means that it can provide a more nuanced understanding of the data and the predictions it generates. "
   ]
  },
  {
   "cell_type": "markdown",
   "metadata": {},
   "source": [
    "**Limitations**:\n",
    "- It can be sensitive to outliers: Outliers are extreme values that are very different from the other values in the data. Logistic regression can be sensitive to outliers, as they can have a large impact on the estimated model parameters and predictions. This can lead to overfitting, where the model fits the training data very closely but does not generalize well to new data.\n",
    "- It may not be able to handle missing data: Logistic regression assumes that all predictor variables are available for all observations. If there is missing data, it may not be able to provide accurate predictions."
   ]
  },
  {
   "cell_type": "markdown",
   "metadata": {},
   "source": [
    "Despite these limitations, logistic regression remains a powerful tool for modeling data and predicting outcomes. By understanding its strengths and weaknesses, we can use logistic regression effectively and appropriately in a range of applications such as in this particular case"
   ]
  },
  {
   "cell_type": "markdown",
   "metadata": {},
   "source": [
    "### Strenghts And Limitations of Poisson Regression"
   ]
  },
  {
   "cell_type": "markdown",
   "metadata": {},
   "source": [
    "**Strengths:**\n",
    "- It is specifically designed for count data: Poisson regression is a specialized model that is designed to handle count data. It accounts for the fact that count data has unique characteristics, such as being non-negative and discrete, and can model the distribution of count data accurately.\n",
    "- It can handle overdispersion:This makes it a useful tool for modeling count data with complex variance structures and allows for more accurate modeling of the data. "
   ]
  },
  {
   "cell_type": "markdown",
   "metadata": {},
   "source": [
    "**Limitations**: \n",
    "- Limited to count data: Poisson regression is specifically designed for count data and may not be suitable for other types of data. If the data is continuous or binary, for example, Poisson regression may not provide accurate results.\n",
    "- No negative values: Poisson regression assumes that the count data is non-negative, which means that it cannot handle negative values. If the data contains negative values, Poisson regression is not a suitable method."
   ]
  },
  {
   "cell_type": "markdown",
   "metadata": {},
   "source": [
    "### Recommendations"
   ]
  },
  {
   "cell_type": "markdown",
   "metadata": {},
   "source": [
    "The following recommendations can help improve the models. \n",
    "- Diagnostic checks: It is important to perform diagnostic checks on the logistic and Poisson regression models to assess their validity and reliability. One can use techniques such as residual plots and goodness-of-fit tests to evaluate the assumptions of the models and ensure that they provide accurate results. We have applied these tests to make sure we get the most accurate results from our models\n",
    "- Model specification: It is important to carefully specify the model in logistic and Poisson regression, including the selection of predictor variables, functional form, and interaction terms. One can use techniques such as model comparison and goodness-of-fit tests to evaluate different model specifications and select the one that provides the best fit to the data.\n",
    "- Address Missing Data: Logistic regression assumes there is observations for all predictor variables so its better to address missing data for accurate results."
   ]
  },
  {
   "cell_type": "markdown",
   "metadata": {},
   "source": [
    "<div class=\"alert alert-block alert-danger\">\n",
    "<a id=\"AppendixA\"></a>\n",
    "\n",
    "# Appendix A:\n",
    "# Building the Logistic Regression Model \n",
    "</div>"
   ]
  },
  {
   "cell_type": "markdown",
   "metadata": {},
   "source": [
    "Model 1:"
   ]
  },
  {
   "cell_type": "code",
   "execution_count": 50,
   "metadata": {},
   "outputs": [
    {
     "data": {
      "text/html": [
       "<table class=\"dataframe\">\n",
       "<caption>A data.frame: 6 × 11</caption>\n",
       "<thead>\n",
       "\t<tr><th></th><th scope=col>physhlth</th><th scope=col>menthlth</th><th scope=col>poorhlth</th><th scope=col>sleptim1</th><th scope=col>marital</th><th scope=col>educa</th><th scope=col>income2</th><th scope=col>sex</th><th scope=col>alcday5</th><th scope=col>drnk3ge5</th><th scope=col>alcday5_new</th></tr>\n",
       "\t<tr><th></th><th scope=col>&lt;int&gt;</th><th scope=col>&lt;int&gt;</th><th scope=col>&lt;int&gt;</th><th scope=col>&lt;int&gt;</th><th scope=col>&lt;fct&gt;</th><th scope=col>&lt;fct&gt;</th><th scope=col>&lt;fct&gt;</th><th scope=col>&lt;fct&gt;</th><th scope=col>&lt;int&gt;</th><th scope=col>&lt;dbl&gt;</th><th scope=col>&lt;dbl&gt;</th></tr>\n",
       "</thead>\n",
       "<tbody>\n",
       "\t<tr><th scope=row>3</th><td> 3</td><td>2</td><td> 0</td><td>9</td><td>Married</td><td>College 4 years or more (College graduate)                  </td><td>$75,000 or more  </td><td>Female</td><td>220</td><td>20</td><td>1</td></tr>\n",
       "\t<tr><th scope=row>4</th><td> 2</td><td>0</td><td> 0</td><td>8</td><td>Married</td><td>Grade 12 or GED (High school graduate)                      </td><td>Less than $75,000</td><td>Female</td><td>208</td><td> 0</td><td>1</td></tr>\n",
       "\t<tr><th scope=row>5</th><td>10</td><td>2</td><td> 0</td><td>6</td><td>Married</td><td>College 4 years or more (College graduate)                  </td><td>Less than $50,000</td><td>Male  </td><td>210</td><td> 0</td><td>1</td></tr>\n",
       "\t<tr><th scope=row>8</th><td> 5</td><td>0</td><td>10</td><td>6</td><td>Widowed</td><td>College 1 year to 3 years (Some college or technical school)</td><td>Less than $50,000</td><td>Female</td><td>202</td><td> 0</td><td>1</td></tr>\n",
       "\t<tr><th scope=row>11</th><td> 0</td><td>1</td><td> 0</td><td>6</td><td>Married</td><td>College 4 years or more (College graduate)                  </td><td>$75,000 or more  </td><td>Male  </td><td>205</td><td> 0</td><td>1</td></tr>\n",
       "\t<tr><th scope=row>12</th><td>30</td><td>0</td><td> 5</td><td>3</td><td>Married</td><td>College 4 years or more (College graduate)                  </td><td>Less than $10,000</td><td>Male  </td><td>  0</td><td> 0</td><td>0</td></tr>\n",
       "</tbody>\n",
       "</table>\n"
      ],
      "text/latex": [
       "A data.frame: 6 × 11\n",
       "\\begin{tabular}{r|lllllllllll}\n",
       "  & physhlth & menthlth & poorhlth & sleptim1 & marital & educa & income2 & sex & alcday5 & drnk3ge5 & alcday5\\_new\\\\\n",
       "  & <int> & <int> & <int> & <int> & <fct> & <fct> & <fct> & <fct> & <int> & <dbl> & <dbl>\\\\\n",
       "\\hline\n",
       "\t3 &  3 & 2 &  0 & 9 & Married & College 4 years or more (College graduate)                   & \\$75,000 or more   & Female & 220 & 20 & 1\\\\\n",
       "\t4 &  2 & 0 &  0 & 8 & Married & Grade 12 or GED (High school graduate)                       & Less than \\$75,000 & Female & 208 &  0 & 1\\\\\n",
       "\t5 & 10 & 2 &  0 & 6 & Married & College 4 years or more (College graduate)                   & Less than \\$50,000 & Male   & 210 &  0 & 1\\\\\n",
       "\t8 &  5 & 0 & 10 & 6 & Widowed & College 1 year to 3 years (Some college or technical school) & Less than \\$50,000 & Female & 202 &  0 & 1\\\\\n",
       "\t11 &  0 & 1 &  0 & 6 & Married & College 4 years or more (College graduate)                   & \\$75,000 or more   & Male   & 205 &  0 & 1\\\\\n",
       "\t12 & 30 & 0 &  5 & 3 & Married & College 4 years or more (College graduate)                   & Less than \\$10,000 & Male   &   0 &  0 & 0\\\\\n",
       "\\end{tabular}\n"
      ],
      "text/markdown": [
       "\n",
       "A data.frame: 6 × 11\n",
       "\n",
       "| <!--/--> | physhlth &lt;int&gt; | menthlth &lt;int&gt; | poorhlth &lt;int&gt; | sleptim1 &lt;int&gt; | marital &lt;fct&gt; | educa &lt;fct&gt; | income2 &lt;fct&gt; | sex &lt;fct&gt; | alcday5 &lt;int&gt; | drnk3ge5 &lt;dbl&gt; | alcday5_new &lt;dbl&gt; |\n",
       "|---|---|---|---|---|---|---|---|---|---|---|---|\n",
       "| 3 |  3 | 2 |  0 | 9 | Married | College 4 years or more (College graduate)                   | $75,000 or more   | Female | 220 | 20 | 1 |\n",
       "| 4 |  2 | 0 |  0 | 8 | Married | Grade 12 or GED (High school graduate)                       | Less than $75,000 | Female | 208 |  0 | 1 |\n",
       "| 5 | 10 | 2 |  0 | 6 | Married | College 4 years or more (College graduate)                   | Less than $50,000 | Male   | 210 |  0 | 1 |\n",
       "| 8 |  5 | 0 | 10 | 6 | Widowed | College 1 year to 3 years (Some college or technical school) | Less than $50,000 | Female | 202 |  0 | 1 |\n",
       "| 11 |  0 | 1 |  0 | 6 | Married | College 4 years or more (College graduate)                   | $75,000 or more   | Male   | 205 |  0 | 1 |\n",
       "| 12 | 30 | 0 |  5 | 3 | Married | College 4 years or more (College graduate)                   | Less than $10,000 | Male   |   0 |  0 | 0 |\n",
       "\n"
      ],
      "text/plain": [
       "   physhlth menthlth poorhlth sleptim1 marital\n",
       "3   3       2         0       9        Married\n",
       "4   2       0         0       8        Married\n",
       "5  10       2         0       6        Married\n",
       "8   5       0        10       6        Widowed\n",
       "11  0       1         0       6        Married\n",
       "12 30       0         5       3        Married\n",
       "   educa                                                       \n",
       "3  College 4 years or more (College graduate)                  \n",
       "4  Grade 12 or GED (High school graduate)                      \n",
       "5  College 4 years or more (College graduate)                  \n",
       "8  College 1 year to 3 years (Some college or technical school)\n",
       "11 College 4 years or more (College graduate)                  \n",
       "12 College 4 years or more (College graduate)                  \n",
       "   income2           sex    alcday5 drnk3ge5 alcday5_new\n",
       "3  $75,000 or more   Female 220     20       1          \n",
       "4  Less than $75,000 Female 208      0       1          \n",
       "5  Less than $50,000 Male   210      0       1          \n",
       "8  Less than $50,000 Female 202      0       1          \n",
       "11 $75,000 or more   Male   205      0       1          \n",
       "12 Less than $10,000 Male     0      0       0          "
      ]
     },
     "metadata": {},
     "output_type": "display_data"
    }
   ],
   "source": [
    "head(data_final)"
   ]
  },
  {
   "cell_type": "code",
   "execution_count": 61,
   "metadata": {},
   "outputs": [
    {
     "data": {
      "text/html": [
       "247368.243362027"
      ],
      "text/latex": [
       "247368.243362027"
      ],
      "text/markdown": [
       "247368.243362027"
      ],
      "text/plain": [
       "[1] 247368.2"
      ]
     },
     "metadata": {},
     "output_type": "display_data"
    }
   ],
   "source": [
    "# Fit logistic regression model\n",
    "model1 <- glm(alcday5_new ~ physhlth + menthlth  + marital + poorhlth+ income2+sex , data = data_final, family = binomial)\n",
    "\n",
    "# Show model summary\n",
    "summary(model1)$aic"
   ]
  },
  {
   "cell_type": "code",
   "execution_count": 62,
   "metadata": {},
   "outputs": [
    {
     "data": {
      "text/html": [
       "256022.901192705"
      ],
      "text/latex": [
       "256022.901192705"
      ],
      "text/markdown": [
       "256022.901192705"
      ],
      "text/plain": [
       "[1] 256022.9"
      ]
     },
     "metadata": {},
     "output_type": "display_data"
    }
   ],
   "source": [
    "model12 <- glm(alcday5_new ~ physhlth + menthlth  + marital +  income2+sex+ income2*sex , data = data_final, family = binomial)\n",
    "\n",
    "# Show model summary\n",
    "summary(model2)$aic"
   ]
  },
  {
   "cell_type": "code",
   "execution_count": 63,
   "metadata": {},
   "outputs": [
    {
     "data": {
      "text/html": [
       "249810.238051461"
      ],
      "text/latex": [
       "249810.238051461"
      ],
      "text/markdown": [
       "249810.238051461"
      ],
      "text/plain": [
       "[1] 249810.2"
      ]
     },
     "metadata": {},
     "output_type": "display_data"
    }
   ],
   "source": [
    "model3 <- glm(alcday5_new ~ physhlth + menthlth   + income2+sex + income2*sex, data = data_final, family = binomial)\n",
    "\n",
    "# Show model summaryFINAL\n",
    "summary(model3)$aic"
   ]
  },
  {
   "cell_type": "code",
   "execution_count": 64,
   "metadata": {},
   "outputs": [
    {
     "data": {
      "text/html": [
       "256022.901192705"
      ],
      "text/latex": [
       "256022.901192705"
      ],
      "text/markdown": [
       "256022.901192705"
      ],
      "text/plain": [
       "[1] 256022.9"
      ]
     },
     "metadata": {},
     "output_type": "display_data"
    }
   ],
   "source": [
    "# Fit logistic regression model\n",
    "model4 <- glm(alcday5_new ~ physhlth + menthlth + sleptim1 + educa , data = data_final, family = binomial)\n",
    "\n",
    "# Show model summary\n",
    "summary(model4)$aic"
   ]
  },
  {
   "cell_type": "code",
   "execution_count": 65,
   "metadata": {
    "scrolled": false
   },
   "outputs": [
    {
     "data": {
      "text/html": [
       "254033.564801988"
      ],
      "text/latex": [
       "254033.564801988"
      ],
      "text/markdown": [
       "254033.564801988"
      ],
      "text/plain": [
       "[1] 254033.6"
      ]
     },
     "metadata": {},
     "output_type": "display_data"
    }
   ],
   "source": [
    "\n",
    "# Fit logistic regression model\n",
    "model5 <- glm(alcday5_new ~ menthlth+ physhlth+ educa+ marital + marital*educa, data = data_final, family = binomial)\n",
    "\n",
    "# Show model summary\n",
    "summary(model5)$aic"
   ]
  },
  {
   "cell_type": "markdown",
   "metadata": {},
   "source": [
    "### Compare the AIC values for the models that you tried."
   ]
  },
  {
   "cell_type": "markdown",
   "metadata": {},
   "source": [
    "A lower AIC value indicates a better model fit.A model with a lower AIC value is considered to be a better trade-off between model complexity and goodness of fit compared to a model with a higher AIC value.\n",
    "By adding good predictor variables like maritial status, the AIC value decreased from 249810.24 in model1 to 247501.85 in the same model , providing additional explanatory power to capture more of the variability in the data, leading to a more accurate and precise model."
   ]
  },
  {
   "cell_type": "markdown",
   "metadata": {},
   "source": [
    "<div class=\"alert alert-block alert-danger\">\n",
    "<a id=\"AppendixB\"></a>\n",
    "\n",
    "# Appendix B:\n",
    "# Building the Poisson Regression Model \n",
    "</div>"
   ]
  },
  {
   "cell_type": "code",
   "execution_count": 57,
   "metadata": {},
   "outputs": [
    {
     "data": {
      "text/html": [
       "<table class=\"dataframe\">\n",
       "<caption>A data.frame: 6 × 11</caption>\n",
       "<thead>\n",
       "\t<tr><th></th><th scope=col>physhlth</th><th scope=col>menthlth</th><th scope=col>poorhlth</th><th scope=col>sleptim1</th><th scope=col>marital</th><th scope=col>educa</th><th scope=col>income2</th><th scope=col>sex</th><th scope=col>alcday5</th><th scope=col>drnk3ge5</th><th scope=col>alcday5_new</th></tr>\n",
       "\t<tr><th></th><th scope=col>&lt;int&gt;</th><th scope=col>&lt;int&gt;</th><th scope=col>&lt;int&gt;</th><th scope=col>&lt;int&gt;</th><th scope=col>&lt;fct&gt;</th><th scope=col>&lt;fct&gt;</th><th scope=col>&lt;fct&gt;</th><th scope=col>&lt;fct&gt;</th><th scope=col>&lt;int&gt;</th><th scope=col>&lt;dbl&gt;</th><th scope=col>&lt;dbl&gt;</th></tr>\n",
       "</thead>\n",
       "<tbody>\n",
       "\t<tr><th scope=row>3</th><td> 3</td><td>2</td><td> 0</td><td>9</td><td>Married</td><td>College 4 years or more (College graduate)                  </td><td>$75,000 or more  </td><td>Female</td><td>220</td><td>20</td><td>1</td></tr>\n",
       "\t<tr><th scope=row>4</th><td> 2</td><td>0</td><td> 0</td><td>8</td><td>Married</td><td>Grade 12 or GED (High school graduate)                      </td><td>Less than $75,000</td><td>Female</td><td>208</td><td> 0</td><td>1</td></tr>\n",
       "\t<tr><th scope=row>5</th><td>10</td><td>2</td><td> 0</td><td>6</td><td>Married</td><td>College 4 years or more (College graduate)                  </td><td>Less than $50,000</td><td>Male  </td><td>210</td><td> 0</td><td>1</td></tr>\n",
       "\t<tr><th scope=row>8</th><td> 5</td><td>0</td><td>10</td><td>6</td><td>Widowed</td><td>College 1 year to 3 years (Some college or technical school)</td><td>Less than $50,000</td><td>Female</td><td>202</td><td> 0</td><td>1</td></tr>\n",
       "\t<tr><th scope=row>11</th><td> 0</td><td>1</td><td> 0</td><td>6</td><td>Married</td><td>College 4 years or more (College graduate)                  </td><td>$75,000 or more  </td><td>Male  </td><td>205</td><td> 0</td><td>1</td></tr>\n",
       "\t<tr><th scope=row>19</th><td> 3</td><td>3</td><td> 0</td><td>6</td><td>Married</td><td>Grade 12 or GED (High school graduate)                      </td><td>$75,000 or more  </td><td>Female</td><td>201</td><td> 0</td><td>1</td></tr>\n",
       "</tbody>\n",
       "</table>\n"
      ],
      "text/latex": [
       "A data.frame: 6 × 11\n",
       "\\begin{tabular}{r|lllllllllll}\n",
       "  & physhlth & menthlth & poorhlth & sleptim1 & marital & educa & income2 & sex & alcday5 & drnk3ge5 & alcday5\\_new\\\\\n",
       "  & <int> & <int> & <int> & <int> & <fct> & <fct> & <fct> & <fct> & <int> & <dbl> & <dbl>\\\\\n",
       "\\hline\n",
       "\t3 &  3 & 2 &  0 & 9 & Married & College 4 years or more (College graduate)                   & \\$75,000 or more   & Female & 220 & 20 & 1\\\\\n",
       "\t4 &  2 & 0 &  0 & 8 & Married & Grade 12 or GED (High school graduate)                       & Less than \\$75,000 & Female & 208 &  0 & 1\\\\\n",
       "\t5 & 10 & 2 &  0 & 6 & Married & College 4 years or more (College graduate)                   & Less than \\$50,000 & Male   & 210 &  0 & 1\\\\\n",
       "\t8 &  5 & 0 & 10 & 6 & Widowed & College 1 year to 3 years (Some college or technical school) & Less than \\$50,000 & Female & 202 &  0 & 1\\\\\n",
       "\t11 &  0 & 1 &  0 & 6 & Married & College 4 years or more (College graduate)                   & \\$75,000 or more   & Male   & 205 &  0 & 1\\\\\n",
       "\t19 &  3 & 3 &  0 & 6 & Married & Grade 12 or GED (High school graduate)                       & \\$75,000 or more   & Female & 201 &  0 & 1\\\\\n",
       "\\end{tabular}\n"
      ],
      "text/markdown": [
       "\n",
       "A data.frame: 6 × 11\n",
       "\n",
       "| <!--/--> | physhlth &lt;int&gt; | menthlth &lt;int&gt; | poorhlth &lt;int&gt; | sleptim1 &lt;int&gt; | marital &lt;fct&gt; | educa &lt;fct&gt; | income2 &lt;fct&gt; | sex &lt;fct&gt; | alcday5 &lt;int&gt; | drnk3ge5 &lt;dbl&gt; | alcday5_new &lt;dbl&gt; |\n",
       "|---|---|---|---|---|---|---|---|---|---|---|---|\n",
       "| 3 |  3 | 2 |  0 | 9 | Married | College 4 years or more (College graduate)                   | $75,000 or more   | Female | 220 | 20 | 1 |\n",
       "| 4 |  2 | 0 |  0 | 8 | Married | Grade 12 or GED (High school graduate)                       | Less than $75,000 | Female | 208 |  0 | 1 |\n",
       "| 5 | 10 | 2 |  0 | 6 | Married | College 4 years or more (College graduate)                   | Less than $50,000 | Male   | 210 |  0 | 1 |\n",
       "| 8 |  5 | 0 | 10 | 6 | Widowed | College 1 year to 3 years (Some college or technical school) | Less than $50,000 | Female | 202 |  0 | 1 |\n",
       "| 11 |  0 | 1 |  0 | 6 | Married | College 4 years or more (College graduate)                   | $75,000 or more   | Male   | 205 |  0 | 1 |\n",
       "| 19 |  3 | 3 |  0 | 6 | Married | Grade 12 or GED (High school graduate)                       | $75,000 or more   | Female | 201 |  0 | 1 |\n",
       "\n"
      ],
      "text/plain": [
       "   physhlth menthlth poorhlth sleptim1 marital\n",
       "3   3       2         0       9        Married\n",
       "4   2       0         0       8        Married\n",
       "5  10       2         0       6        Married\n",
       "8   5       0        10       6        Widowed\n",
       "11  0       1         0       6        Married\n",
       "19  3       3         0       6        Married\n",
       "   educa                                                       \n",
       "3  College 4 years or more (College graduate)                  \n",
       "4  Grade 12 or GED (High school graduate)                      \n",
       "5  College 4 years or more (College graduate)                  \n",
       "8  College 1 year to 3 years (Some college or technical school)\n",
       "11 College 4 years or more (College graduate)                  \n",
       "19 Grade 12 or GED (High school graduate)                      \n",
       "   income2           sex    alcday5 drnk3ge5 alcday5_new\n",
       "3  $75,000 or more   Female 220     20       1          \n",
       "4  Less than $75,000 Female 208      0       1          \n",
       "5  Less than $50,000 Male   210      0       1          \n",
       "8  Less than $50,000 Female 202      0       1          \n",
       "11 $75,000 or more   Male   205      0       1          \n",
       "19 $75,000 or more   Female 201      0       1          "
      ]
     },
     "metadata": {},
     "output_type": "display_data"
    },
    {
     "name": "stderr",
     "output_type": "stream",
     "text": [
      "Warning message:\n",
      "\"package 'car' is in use and will not be installed\"\n"
     ]
    }
   ],
   "source": [
    "head(data_p)\n",
    "install.packages('car')\n",
    "library(car)"
   ]
  },
  {
   "cell_type": "code",
   "execution_count": 58,
   "metadata": {},
   "outputs": [
    {
     "data": {
      "text/plain": [
       "\n",
       "Call:\n",
       "glm(formula = drnk3ge5 ~ sex * marital + sleptim1 + income2, \n",
       "    family = poisson(link = \"log\"), data = data_p)\n",
       "\n",
       "Deviance Residuals: \n",
       "    Min       1Q   Median       3Q      Max  \n",
       "-3.0223  -1.5578  -1.1308  -0.4512  14.0246  \n",
       "\n",
       "Coefficients:\n",
       "                                                  Estimate Std. Error z value\n",
       "(Intercept)                                       0.929245   0.017859  52.032\n",
       "sexFemale                                        -0.753246   0.009604 -78.430\n",
       "maritalDivorced                                   0.521936   0.010434  50.021\n",
       "maritalWidowed                                    0.056370   0.019039   2.961\n",
       "maritalSeparated                                  0.627554   0.020095  31.230\n",
       "maritalNever married                              0.566647   0.009132  62.051\n",
       "maritalA member of an unmarried couple            0.490570   0.016688  29.397\n",
       "sleptim1                                         -0.037889   0.001975 -19.188\n",
       "income2Less than $15,000                         -0.122883   0.014772  -8.319\n",
       "income2Less than $20,000                         -0.228656   0.014048 -16.277\n",
       "income2Less than $25,000                         -0.269430   0.013572 -19.852\n",
       "income2Less than $35,000                         -0.301121   0.013188 -22.833\n",
       "income2Less than $50,000                         -0.358013   0.012645 -28.313\n",
       "income2Less than $75,000                         -0.446747   0.012706 -35.160\n",
       "income2$75,000 or more                           -0.508463   0.012110 -41.986\n",
       "sexFemale:maritalDivorced                        -0.251814   0.016770 -15.016\n",
       "sexFemale:maritalWidowed                         -0.326215   0.027508 -11.859\n",
       "sexFemale:maritalSeparated                       -0.297006   0.033145  -8.961\n",
       "sexFemale:maritalNever married                    0.061499   0.014816   4.151\n",
       "sexFemale:maritalA member of an unmarried couple  0.154674   0.026173   5.910\n",
       "                                                 Pr(>|z|)    \n",
       "(Intercept)                                       < 2e-16 ***\n",
       "sexFemale                                         < 2e-16 ***\n",
       "maritalDivorced                                   < 2e-16 ***\n",
       "maritalWidowed                                    0.00307 ** \n",
       "maritalSeparated                                  < 2e-16 ***\n",
       "maritalNever married                              < 2e-16 ***\n",
       "maritalA member of an unmarried couple            < 2e-16 ***\n",
       "sleptim1                                          < 2e-16 ***\n",
       "income2Less than $15,000                          < 2e-16 ***\n",
       "income2Less than $20,000                          < 2e-16 ***\n",
       "income2Less than $25,000                          < 2e-16 ***\n",
       "income2Less than $35,000                          < 2e-16 ***\n",
       "income2Less than $50,000                          < 2e-16 ***\n",
       "income2Less than $75,000                          < 2e-16 ***\n",
       "income2$75,000 or more                            < 2e-16 ***\n",
       "sexFemale:maritalDivorced                         < 2e-16 ***\n",
       "sexFemale:maritalWidowed                          < 2e-16 ***\n",
       "sexFemale:maritalSeparated                        < 2e-16 ***\n",
       "sexFemale:maritalNever married                   3.31e-05 ***\n",
       "sexFemale:maritalA member of an unmarried couple 3.43e-09 ***\n",
       "---\n",
       "Signif. codes:  0 '***' 0.001 '**' 0.01 '*' 0.05 '.' 0.1 ' ' 1\n",
       "\n",
       "(Dispersion parameter for poisson family taken to be 1)\n",
       "\n",
       "    Null deviance: 454237  on 99815  degrees of freedom\n",
       "Residual deviance: 417300  on 99796  degrees of freedom\n",
       "AIC: 497999\n",
       "\n",
       "Number of Fisher Scoring iterations: 7\n"
      ]
     },
     "metadata": {},
     "output_type": "display_data"
    },
    {
     "data": {
      "text/html": [
       "<table class=\"dataframe\">\n",
       "<caption>A anova: 2 × 5</caption>\n",
       "<thead>\n",
       "\t<tr><th></th><th scope=col>Resid. Df</th><th scope=col>Resid. Dev</th><th scope=col>Df</th><th scope=col>Deviance</th><th scope=col>Pr(&gt;Chi)</th></tr>\n",
       "\t<tr><th></th><th scope=col>&lt;dbl&gt;</th><th scope=col>&lt;dbl&gt;</th><th scope=col>&lt;dbl&gt;</th><th scope=col>&lt;dbl&gt;</th><th scope=col>&lt;dbl&gt;</th></tr>\n",
       "</thead>\n",
       "<tbody>\n",
       "\t<tr><th scope=row>1</th><td>99815</td><td>454236.5</td><td>NA</td><td>      NA</td><td>NA</td></tr>\n",
       "\t<tr><th scope=row>2</th><td>99796</td><td>417300.2</td><td>19</td><td>36936.31</td><td> 0</td></tr>\n",
       "</tbody>\n",
       "</table>\n"
      ],
      "text/latex": [
       "A anova: 2 × 5\n",
       "\\begin{tabular}{r|lllll}\n",
       "  & Resid. Df & Resid. Dev & Df & Deviance & Pr(>Chi)\\\\\n",
       "  & <dbl> & <dbl> & <dbl> & <dbl> & <dbl>\\\\\n",
       "\\hline\n",
       "\t1 & 99815 & 454236.5 & NA &       NA & NA\\\\\n",
       "\t2 & 99796 & 417300.2 & 19 & 36936.31 &  0\\\\\n",
       "\\end{tabular}\n"
      ],
      "text/markdown": [
       "\n",
       "A anova: 2 × 5\n",
       "\n",
       "| <!--/--> | Resid. Df &lt;dbl&gt; | Resid. Dev &lt;dbl&gt; | Df &lt;dbl&gt; | Deviance &lt;dbl&gt; | Pr(&gt;Chi) &lt;dbl&gt; |\n",
       "|---|---|---|---|---|---|\n",
       "| 1 | 99815 | 454236.5 | NA |       NA | NA |\n",
       "| 2 | 99796 | 417300.2 | 19 | 36936.31 |  0 |\n",
       "\n"
      ],
      "text/plain": [
       "  Resid. Df Resid. Dev Df Deviance Pr(>Chi)\n",
       "1 99815     454236.5   NA       NA NA      \n",
       "2 99796     417300.2   19 36936.31  0      "
      ]
     },
     "metadata": {},
     "output_type": "display_data"
    },
    {
     "data": {
      "text/html": [
       "4.18153232594493"
      ],
      "text/latex": [
       "4.18153232594493"
      ],
      "text/markdown": [
       "4.18153232594493"
      ],
      "text/plain": [
       "[1] 4.181532"
      ]
     },
     "metadata": {},
     "output_type": "display_data"
    }
   ],
   "source": [
    "p1 <- glm(drnk3ge5 ~ sex*marital+sleptim1 + income2, data=data_p, family=\"poisson\"(link=\"log\"))\n",
    "summary(p1)\n",
    "anova(p.null,p1,test = \"Chi\")\n",
    "dispersion1 <- 417300.2/99796\n",
    "dispersion1"
   ]
  },
  {
   "cell_type": "code",
   "execution_count": 59,
   "metadata": {},
   "outputs": [
    {
     "data": {
      "text/plain": [
       "\n",
       "Call:\n",
       "glm(formula = drnk3ge5 ~ marital + sleptim1 + income2 * sex, \n",
       "    family = poisson(link = \"log\"), data = data_p)\n",
       "\n",
       "Deviance Residuals: \n",
       "    Min       1Q   Median       3Q      Max  \n",
       "-2.8890  -1.5509  -1.1130  -0.4812  14.0701  \n",
       "\n",
       "Coefficients:\n",
       "                                        Estimate Std. Error z value Pr(>|z|)\n",
       "(Intercept)                             0.880290   0.019533  45.067  < 2e-16\n",
       "maritalDivorced                         0.429680   0.008553  50.236  < 2e-16\n",
       "maritalWidowed                         -0.097096   0.014073  -6.899 5.23e-12\n",
       "maritalSeparated                        0.513229   0.016283  31.520  < 2e-16\n",
       "maritalNever married                    0.586735   0.007601  77.190  < 2e-16\n",
       "maritalA member of an unmarried couple  0.551730   0.012984  42.494  < 2e-16\n",
       "sleptim1                               -0.038352   0.001978 -19.391  < 2e-16\n",
       "income2Less than $15,000               -0.073205   0.019055  -3.842 0.000122\n",
       "income2Less than $20,000               -0.128281   0.017863  -7.181 6.90e-13\n",
       "income2Less than $25,000               -0.166297   0.017326  -9.598  < 2e-16\n",
       "income2Less than $35,000               -0.206686   0.016851 -12.266  < 2e-16\n",
       "income2Less than $50,000               -0.292851   0.016213 -18.063  < 2e-16\n",
       "income2Less than $75,000               -0.381564   0.016266 -23.458  < 2e-16\n",
       "income2$75,000 or more                 -0.444263   0.015325 -28.989  < 2e-16\n",
       "sexFemale                              -0.636652   0.020174 -31.558  < 2e-16\n",
       "income2Less than $15,000:sexFemale     -0.119335   0.030163  -3.956 7.61e-05\n",
       "income2Less than $20,000:sexFemale     -0.258408   0.029001  -8.910  < 2e-16\n",
       "income2Less than $25,000:sexFemale     -0.271769   0.027821  -9.769  < 2e-16\n",
       "income2Less than $35,000:sexFemale     -0.247460   0.026915  -9.194  < 2e-16\n",
       "income2Less than $50,000:sexFemale     -0.157938   0.025471  -6.201 5.62e-10\n",
       "income2Less than $75,000:sexFemale     -0.153758   0.025294  -6.079 1.21e-09\n",
       "income2$75,000 or more:sexFemale       -0.146958   0.023346  -6.295 3.08e-10\n",
       "                                          \n",
       "(Intercept)                            ***\n",
       "maritalDivorced                        ***\n",
       "maritalWidowed                         ***\n",
       "maritalSeparated                       ***\n",
       "maritalNever married                   ***\n",
       "maritalA member of an unmarried couple ***\n",
       "sleptim1                               ***\n",
       "income2Less than $15,000               ***\n",
       "income2Less than $20,000               ***\n",
       "income2Less than $25,000               ***\n",
       "income2Less than $35,000               ***\n",
       "income2Less than $50,000               ***\n",
       "income2Less than $75,000               ***\n",
       "income2$75,000 or more                 ***\n",
       "sexFemale                              ***\n",
       "income2Less than $15,000:sexFemale     ***\n",
       "income2Less than $20,000:sexFemale     ***\n",
       "income2Less than $25,000:sexFemale     ***\n",
       "income2Less than $35,000:sexFemale     ***\n",
       "income2Less than $50,000:sexFemale     ***\n",
       "income2Less than $75,000:sexFemale     ***\n",
       "income2$75,000 or more:sexFemale       ***\n",
       "---\n",
       "Signif. codes:  0 '***' 0.001 '**' 0.01 '*' 0.05 '.' 0.1 ' ' 1\n",
       "\n",
       "(Dispersion parameter for poisson family taken to be 1)\n",
       "\n",
       "    Null deviance: 454237  on 99815  degrees of freedom\n",
       "Residual deviance: 417743  on 99794  degrees of freedom\n",
       "AIC: 498445\n",
       "\n",
       "Number of Fisher Scoring iterations: 7\n"
      ]
     },
     "metadata": {},
     "output_type": "display_data"
    },
    {
     "data": {
      "text/html": [
       "<table class=\"dataframe\">\n",
       "<caption>A anova: 2 × 5</caption>\n",
       "<thead>\n",
       "\t<tr><th></th><th scope=col>Resid. Df</th><th scope=col>Resid. Dev</th><th scope=col>Df</th><th scope=col>Deviance</th><th scope=col>Pr(&gt;Chi)</th></tr>\n",
       "\t<tr><th></th><th scope=col>&lt;dbl&gt;</th><th scope=col>&lt;dbl&gt;</th><th scope=col>&lt;dbl&gt;</th><th scope=col>&lt;dbl&gt;</th><th scope=col>&lt;dbl&gt;</th></tr>\n",
       "</thead>\n",
       "<tbody>\n",
       "\t<tr><th scope=row>1</th><td>99815</td><td>454236.5</td><td>NA</td><td>      NA</td><td>NA</td></tr>\n",
       "\t<tr><th scope=row>2</th><td>99794</td><td>417742.9</td><td>21</td><td>36493.58</td><td> 0</td></tr>\n",
       "</tbody>\n",
       "</table>\n"
      ],
      "text/latex": [
       "A anova: 2 × 5\n",
       "\\begin{tabular}{r|lllll}\n",
       "  & Resid. Df & Resid. Dev & Df & Deviance & Pr(>Chi)\\\\\n",
       "  & <dbl> & <dbl> & <dbl> & <dbl> & <dbl>\\\\\n",
       "\\hline\n",
       "\t1 & 99815 & 454236.5 & NA &       NA & NA\\\\\n",
       "\t2 & 99794 & 417742.9 & 21 & 36493.58 &  0\\\\\n",
       "\\end{tabular}\n"
      ],
      "text/markdown": [
       "\n",
       "A anova: 2 × 5\n",
       "\n",
       "| <!--/--> | Resid. Df &lt;dbl&gt; | Resid. Dev &lt;dbl&gt; | Df &lt;dbl&gt; | Deviance &lt;dbl&gt; | Pr(&gt;Chi) &lt;dbl&gt; |\n",
       "|---|---|---|---|---|---|\n",
       "| 1 | 99815 | 454236.5 | NA |       NA | NA |\n",
       "| 2 | 99794 | 417742.9 | 21 | 36493.58 |  0 |\n",
       "\n"
      ],
      "text/plain": [
       "  Resid. Df Resid. Dev Df Deviance Pr(>Chi)\n",
       "1 99815     454236.5   NA       NA NA      \n",
       "2 99794     417742.9   21 36493.58  0      "
      ]
     },
     "metadata": {},
     "output_type": "display_data"
    },
    {
     "data": {
      "text/html": [
       "4.1860522676714"
      ],
      "text/latex": [
       "4.1860522676714"
      ],
      "text/markdown": [
       "4.1860522676714"
      ],
      "text/plain": [
       "[1] 4.186052"
      ]
     },
     "metadata": {},
     "output_type": "display_data"
    }
   ],
   "source": [
    "p2 <- glm(drnk3ge5 ~ marital+sleptim1+income2*sex, data=data_p, family=\"poisson\"(link=\"log\"))\n",
    "summary(p2)\n",
    "anova(p.null,p2,test = \"Chi\")\n",
    "dispersion2 <- 417742.9/99794\n",
    "dispersion2"
   ]
  },
  {
   "cell_type": "code",
   "execution_count": 60,
   "metadata": {},
   "outputs": [
    {
     "data": {
      "text/plain": [
       "\n",
       "Call:\n",
       "glm(formula = drnk3ge5 ~ marital + educa + sex * menthlth, family = poisson(link = \"log\"), \n",
       "    data = data_p)\n",
       "\n",
       "Deviance Residuals: \n",
       "    Min       1Q   Median       3Q      Max  \n",
       "-3.5724  -1.5555  -1.1358  -0.5536  14.3297  \n",
       "\n",
       "Coefficients:\n",
       "                                                                    Estimate\n",
       "(Intercept)                                                        0.1211678\n",
       "maritalDivorced                                                    0.4190362\n",
       "maritalWidowed                                                    -0.1183708\n",
       "maritalSeparated                                                   0.4213298\n",
       "maritalNever married                                               0.6124557\n",
       "maritalA member of an unmarried couple                             0.5492219\n",
       "educaGrades 1 through 8 (Elementary)                               0.3344921\n",
       "educaGrades 9 though 11 (Some high school)                         0.3935674\n",
       "educaGrade 12 or GED (High school graduate)                        0.2548131\n",
       "educaCollege 1 year to 3 years (Some college or technical school)  0.0831017\n",
       "educaCollege 4 years or more (College graduate)                   -0.2509507\n",
       "sexFemale                                                         -0.8144801\n",
       "menthlth                                                           0.0242040\n",
       "sexFemale:menthlth                                                 0.0026297\n",
       "                                                                  Std. Error\n",
       "(Intercept)                                                        0.1196847\n",
       "maritalDivorced                                                    0.0081365\n",
       "maritalWidowed                                                     0.0137805\n",
       "maritalSeparated                                                   0.0160452\n",
       "maritalNever married                                               0.0071082\n",
       "maritalA member of an unmarried couple                             0.0128498\n",
       "educaGrades 1 through 8 (Elementary)                               0.1213466\n",
       "educaGrades 9 though 11 (Some high school)                         0.1200631\n",
       "educaGrade 12 or GED (High school graduate)                        0.1196564\n",
       "educaCollege 1 year to 3 years (Some college or technical school)  0.1196604\n",
       "educaCollege 4 years or more (College graduate)                    0.1196726\n",
       "sexFemale                                                          0.0078790\n",
       "menthlth                                                           0.0003360\n",
       "sexFemale:menthlth                                                 0.0005436\n",
       "                                                                   z value\n",
       "(Intercept)                                                          1.012\n",
       "maritalDivorced                                                     51.501\n",
       "maritalWidowed                                                      -8.590\n",
       "maritalSeparated                                                    26.259\n",
       "maritalNever married                                                86.161\n",
       "maritalA member of an unmarried couple                              42.742\n",
       "educaGrades 1 through 8 (Elementary)                                 2.757\n",
       "educaGrades 9 though 11 (Some high school)                           3.278\n",
       "educaGrade 12 or GED (High school graduate)                          2.130\n",
       "educaCollege 1 year to 3 years (Some college or technical school)    0.694\n",
       "educaCollege 4 years or more (College graduate)                     -2.097\n",
       "sexFemale                                                         -103.374\n",
       "menthlth                                                            72.030\n",
       "sexFemale:menthlth                                                   4.838\n",
       "                                                                  Pr(>|z|)    \n",
       "(Intercept)                                                        0.31135    \n",
       "maritalDivorced                                                    < 2e-16 ***\n",
       "maritalWidowed                                                     < 2e-16 ***\n",
       "maritalSeparated                                                   < 2e-16 ***\n",
       "maritalNever married                                               < 2e-16 ***\n",
       "maritalA member of an unmarried couple                             < 2e-16 ***\n",
       "educaGrades 1 through 8 (Elementary)                               0.00584 ** \n",
       "educaGrades 9 though 11 (Some high school)                         0.00105 ** \n",
       "educaGrade 12 or GED (High school graduate)                        0.03321 *  \n",
       "educaCollege 1 year to 3 years (Some college or technical school)  0.48738    \n",
       "educaCollege 4 years or more (College graduate)                    0.03600 *  \n",
       "sexFemale                                                          < 2e-16 ***\n",
       "menthlth                                                           < 2e-16 ***\n",
       "sexFemale:menthlth                                                1.31e-06 ***\n",
       "---\n",
       "Signif. codes:  0 '***' 0.001 '**' 0.01 '*' 0.05 '.' 0.1 ' ' 1\n",
       "\n",
       "(Dispersion parameter for poisson family taken to be 1)\n",
       "\n",
       "    Null deviance: 454237  on 99815  degrees of freedom\n",
       "Residual deviance: 404400  on 99802  degrees of freedom\n",
       "AIC: 485087\n",
       "\n",
       "Number of Fisher Scoring iterations: 7\n"
      ]
     },
     "metadata": {},
     "output_type": "display_data"
    },
    {
     "data": {
      "text/html": [
       "<table class=\"dataframe\">\n",
       "<caption>A anova: 2 × 5</caption>\n",
       "<thead>\n",
       "\t<tr><th></th><th scope=col>Resid. Df</th><th scope=col>Resid. Dev</th><th scope=col>Df</th><th scope=col>Deviance</th><th scope=col>Pr(&gt;Chi)</th></tr>\n",
       "\t<tr><th></th><th scope=col>&lt;dbl&gt;</th><th scope=col>&lt;dbl&gt;</th><th scope=col>&lt;dbl&gt;</th><th scope=col>&lt;dbl&gt;</th><th scope=col>&lt;dbl&gt;</th></tr>\n",
       "</thead>\n",
       "<tbody>\n",
       "\t<tr><th scope=row>1</th><td>99815</td><td>454236.5</td><td>NA</td><td>      NA</td><td>NA</td></tr>\n",
       "\t<tr><th scope=row>2</th><td>99802</td><td>404400.5</td><td>13</td><td>49836.05</td><td> 0</td></tr>\n",
       "</tbody>\n",
       "</table>\n"
      ],
      "text/latex": [
       "A anova: 2 × 5\n",
       "\\begin{tabular}{r|lllll}\n",
       "  & Resid. Df & Resid. Dev & Df & Deviance & Pr(>Chi)\\\\\n",
       "  & <dbl> & <dbl> & <dbl> & <dbl> & <dbl>\\\\\n",
       "\\hline\n",
       "\t1 & 99815 & 454236.5 & NA &       NA & NA\\\\\n",
       "\t2 & 99802 & 404400.5 & 13 & 49836.05 &  0\\\\\n",
       "\\end{tabular}\n"
      ],
      "text/markdown": [
       "\n",
       "A anova: 2 × 5\n",
       "\n",
       "| <!--/--> | Resid. Df &lt;dbl&gt; | Resid. Dev &lt;dbl&gt; | Df &lt;dbl&gt; | Deviance &lt;dbl&gt; | Pr(&gt;Chi) &lt;dbl&gt; |\n",
       "|---|---|---|---|---|---|\n",
       "| 1 | 99815 | 454236.5 | NA |       NA | NA |\n",
       "| 2 | 99802 | 404400.5 | 13 | 49836.05 |  0 |\n",
       "\n"
      ],
      "text/plain": [
       "  Resid. Df Resid. Dev Df Deviance Pr(>Chi)\n",
       "1 99815     454236.5   NA       NA NA      \n",
       "2 99802     404400.5   13 49836.05  0      "
      ]
     },
     "metadata": {},
     "output_type": "display_data"
    },
    {
     "data": {
      "text/html": [
       "4.05202500951885"
      ],
      "text/latex": [
       "4.05202500951885"
      ],
      "text/markdown": [
       "4.05202500951885"
      ],
      "text/plain": [
       "[1] 4.052025"
      ]
     },
     "metadata": {},
     "output_type": "display_data"
    },
    {
     "name": "stderr",
     "output_type": "stream",
     "text": [
      "there are higher-order terms (interactions) in this model\n",
      "consider setting type = 'predictor'; see ?vif\n",
      "\n"
     ]
    },
    {
     "data": {
      "text/html": [
       "<table class=\"dataframe\">\n",
       "<caption>A matrix: 5 × 3 of type dbl</caption>\n",
       "<thead>\n",
       "\t<tr><th></th><th scope=col>GVIF</th><th scope=col>Df</th><th scope=col>GVIF^(1/(2*Df))</th></tr>\n",
       "</thead>\n",
       "<tbody>\n",
       "\t<tr><th scope=row>marital</th><td>1.057484</td><td>5</td><td>1.005605</td></tr>\n",
       "\t<tr><th scope=row>educa</th><td>1.063409</td><td>5</td><td>1.006167</td></tr>\n",
       "\t<tr><th scope=row>sex</th><td>1.758978</td><td>1</td><td>1.326265</td></tr>\n",
       "\t<tr><th scope=row>menthlth</th><td>1.645297</td><td>1</td><td>1.282691</td></tr>\n",
       "\t<tr><th scope=row>sex:menthlth</th><td>2.397248</td><td>1</td><td>1.548305</td></tr>\n",
       "</tbody>\n",
       "</table>\n"
      ],
      "text/latex": [
       "A matrix: 5 × 3 of type dbl\n",
       "\\begin{tabular}{r|lll}\n",
       "  & GVIF & Df & GVIF\\textasciicircum{}(1/(2*Df))\\\\\n",
       "\\hline\n",
       "\tmarital & 1.057484 & 5 & 1.005605\\\\\n",
       "\teduca & 1.063409 & 5 & 1.006167\\\\\n",
       "\tsex & 1.758978 & 1 & 1.326265\\\\\n",
       "\tmenthlth & 1.645297 & 1 & 1.282691\\\\\n",
       "\tsex:menthlth & 2.397248 & 1 & 1.548305\\\\\n",
       "\\end{tabular}\n"
      ],
      "text/markdown": [
       "\n",
       "A matrix: 5 × 3 of type dbl\n",
       "\n",
       "| <!--/--> | GVIF | Df | GVIF^(1/(2*Df)) |\n",
       "|---|---|---|---|\n",
       "| marital | 1.057484 | 5 | 1.005605 |\n",
       "| educa | 1.063409 | 5 | 1.006167 |\n",
       "| sex | 1.758978 | 1 | 1.326265 |\n",
       "| menthlth | 1.645297 | 1 | 1.282691 |\n",
       "| sex:menthlth | 2.397248 | 1 | 1.548305 |\n",
       "\n"
      ],
      "text/plain": [
       "             GVIF     Df GVIF^(1/(2*Df))\n",
       "marital      1.057484 5  1.005605       \n",
       "educa        1.063409 5  1.006167       \n",
       "sex          1.758978 1  1.326265       \n",
       "menthlth     1.645297 1  1.282691       \n",
       "sex:menthlth 2.397248 1  1.548305       "
      ]
     },
     "metadata": {},
     "output_type": "display_data"
    }
   ],
   "source": [
    "p3 <- glm(drnk3ge5 ~ marital + educa + sex*menthlth, data=data_p, family=\"poisson\"(link=\"log\"))\n",
    "summary(p3)\n",
    "anova(p.null,p3,test = \"Chi\")\n",
    "dispersion3 <- 404400.2/99802\n",
    "dispersion3\n",
    "vif(p3)"
   ]
  },
  {
   "cell_type": "markdown",
   "metadata": {},
   "source": [
    "### Comparing the AIC values for the models that tried."
   ]
  },
  {
   "cell_type": "markdown",
   "metadata": {},
   "source": [
    "A lower AIC value indicates a better balance between the goodness of fit of the model and the complexity of the model.Of all the 3 models that we ran for the poisson regression we saw that of the 3, model 3 (, i.e p3) had the least AIC value of 485087 compared to the other 2 models which had an AIC value of 498445 (model p2) and 497999 (model p1) which is higher. "
   ]
  },
  {
   "cell_type": "code",
   "execution_count": null,
   "metadata": {},
   "outputs": [],
   "source": []
  }
 ],
 "metadata": {
  "kernelspec": {
   "display_name": "R",
   "language": "R",
   "name": "ir"
  },
  "language_info": {
   "codemirror_mode": "r",
   "file_extension": ".r",
   "mimetype": "text/x-r-source",
   "name": "R",
   "pygments_lexer": "r",
   "version": "4.1.3"
  }
 },
 "nbformat": 4,
 "nbformat_minor": 4
}
